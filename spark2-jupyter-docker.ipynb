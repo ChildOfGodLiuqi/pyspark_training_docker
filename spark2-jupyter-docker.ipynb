{
 "cells": [
  {
   "cell_type": "markdown",
   "metadata": {
    "deletable": true,
    "editable": true
   },
   "source": [
    "## Docker Spark setup\n",
    "\n",
    "This notebook is meant to run on a spark 2 docker container. First i'll describe the steps to set it up.\n",
    "\n",
    "On a Linux based system install Docker and Docker-compose.Create this file : docker-compose.yml. The contents is listed below.  Then run: docker-compose build . Afterwards run this command : docker-compose build -d\n",
    "\n"
   ]
  },
  {
   "cell_type": "markdown",
   "metadata": {
    "deletable": true,
    "editable": true
   },
   "source": [
    "```\n",
    "version: \"2\"\n",
    "\n",
    "services:\n",
    "  master:\n",
    "    image: singularities/spark\n",
    "    command: start-spark master\n",
    "    hostname: master\n",
    "    ports:\n",
    "      - \"6066:6066\"\n",
    "      - \"7070:7070\"\n",
    "      - \"8080:8080\"\n",
    "      - \"50070:50070\"\n",
    "      - \"8888:8888\"\n",
    "  worker:\n",
    "    image: singularities/spark\n",
    "    command: start-spark worker master\n",
    "    environment:\n",
    "      SPARK_WORKER_CORES: 1\n",
    "      SPARK_WORKER_MEMORY: 2g\n",
    "    links:\n",
    "      - master\n",
    "```"
   ]
  },
  {
   "cell_type": "markdown",
   "metadata": {
    "deletable": true,
    "editable": true
   },
   "source": [
    "```\n",
    "With docker ps , check if the master and worker containers are running.\n",
    "Connect to the master node:\n",
    "docker exec -it [container id master] bash\n",
    "On the master node continue with setting up as described below.\n",
    "```"
   ]
  },
  {
   "cell_type": "markdown",
   "metadata": {
    "deletable": true,
    "editable": true
   },
   "source": [
    "## Spark and conda env setup\n",
    "\n",
    "```\n",
    "First install Anaconda 4 (latest version) on the Docker container with Spark Master. Then install a new Conda environment for Spark, using python 3.5 (3.6 has a bug).  \n",
    "\n",
    "conda create -n spark python=3.5\n",
    "source activate spark\n",
    "conda install notebook ipykernel\n",
    "ipython kernel install --user --name spark --display-name spark\n",
    "\n",
    "Make jupyter start script, and run it:\n",
    "PYSPARK_PYTHON=/root/anaconda3/envs/spark/bin/python\n",
    "PYSPARK_DRIVER_PYTHON=jupyter PYSPARK_DRIVER_PYTHON_OPTS='notebook --ip=0.0.0.0 --port=8888' $SPARK_HOME/bin/pyspark\n",
    "\n",
    "Now go to the url it gives (http://0.0.0.0:8888/<some code>)\n",
    ", Run the nodebook sections.\n",
    "```\n"
   ]
  },
  {
   "cell_type": "code",
   "execution_count": 1,
   "metadata": {
    "collapsed": false,
    "deletable": true,
    "editable": true
   },
   "outputs": [],
   "source": [
    "#Start this in spark conda env to test\n",
    "from pyspark.sql import SparkSession\n",
    "from pyspark import SparkContext\n",
    "from pyspark import SparkConf\n",
    "import pyspark.sql.functions as fn\n",
    "import pyspark.sql.types as typ"
   ]
  },
  {
   "cell_type": "markdown",
   "metadata": {
    "deletable": true,
    "editable": true
   },
   "source": [
    "## Example data\n",
    "\n",
    "```\n",
    "This example works if you clone https://github.com/PacktPublishing/Learning-PySpark\n",
    "\n",
    "and make sure its in /root/learningPySpark on the Docker container with Spark Master. \n",
    "\n",
    "To install git on this container run command: apt-get install git\n",
    ", on github (or bitbucket) create a repository so you can save changes from the container and push it to Github. Use the following commands on the Docker container to init and push the data :\n",
    "\n",
    "git init\n",
    "git add <your file>\n",
    "git commit -m \"first commit\"\n",
    "git remote add origin https://github.com/michelnossin/pyspark_training_docker.git\n",
    "git push -u origin master\n",
    "```"
   ]
  },
  {
   "cell_type": "code",
   "execution_count": 2,
   "metadata": {
    "collapsed": false,
    "deletable": true,
    "editable": true
   },
   "outputs": [
    {
     "data": {
      "text/plain": [
       "DataFrame[date: string, delay: string, distance: string, origin: string, destination: string]"
      ]
     },
     "execution_count": 2,
     "metadata": {},
     "output_type": "execute_result"
    }
   ],
   "source": [
    "#RANDOM FLIGHTS SET, AND WORLD AIRPORT SET\n",
    "flights = \"file:/root/learningPySpark/Chapter03/flight-data/departuredelays.csv\" \n",
    "airports = \"file:/root/learningPySpark/Chapter03/flight-data/airport-codes-na.txt\" \n",
    "airports_df = spark.read.csv(airports,header='true',inferSchema='true',sep='\\t')\n",
    "airports_df.createOrReplaceTempView(\"airports\")\n",
    "flights_df = spark.read.csv(flights,header='true')\n",
    "flights_df.createOrReplaceTempView(\"flights\")\n",
    "flights_df.cache()"
   ]
  },
  {
   "cell_type": "code",
   "execution_count": 3,
   "metadata": {
    "collapsed": false,
    "deletable": true,
    "editable": true
   },
   "outputs": [
    {
     "data": {
      "text/plain": [
       "DataFrame[na: string, altitude: string, dest: string, heading: string, flight: string, na2: string, landed: string, time: string, lat: string, lon: string, na3: string, org: string, na4: string, registration: string, flight2: string, speed: string, na6: string, planetype: string, altitude_delta: string]"
      ]
     },
     "execution_count": 3,
     "metadata": {},
     "output_type": "execute_result"
    }
   ],
   "source": [
    "#RADAR TRACK\n",
    "track_file = \"file:/root/fr24/fr24_20160624.csv\"\n",
    "header=['na','altitude','dest','heading','flight','na2','landed','time','lat',\\\n",
    "         'lon','na3','org','na4','registration','flight2','speed','na6','planetype', 'altitude_delta']\n",
    "fields = [ *[\n",
    "           typ.StructField(h, typ.StringType(), True)\n",
    "           for h in header\n",
    "       ]\n",
    "   ]\n",
    "schema = typ.StructType(fields)\n",
    "schema   \n",
    "tracks_df = spark.read.csv(track_file,header='false',schema=schema)\n",
    "\n",
    "#filter tracks early to make it speed up\n",
    "tracks_df = tracks_df.where(\"dest == 'AMS'\") #14 milj -> 114k\n",
    "tracks_df.createOrReplaceTempView(\"tracks\")\n",
    "tracks_df.cache()"
   ]
  },
  {
   "cell_type": "markdown",
   "metadata": {
    "deletable": true,
    "editable": true
   },
   "source": [
    "## First look at data:\n",
    "\n",
    "```\n",
    "source activate spark\n",
    "python -m pip install pandas\n",
    "```"
   ]
  },
  {
   "cell_type": "code",
   "execution_count": 4,
   "metadata": {
    "collapsed": true,
    "deletable": true,
    "editable": true
   },
   "outputs": [],
   "source": [
    "import pandas as pd\n",
    "import matplotlib"
   ]
  },
  {
   "cell_type": "code",
   "execution_count": null,
   "metadata": {
    "collapsed": false,
    "deletable": true,
    "editable": true
   },
   "outputs": [],
   "source": [
    "spark.sql(\"select count(1) from flights\").show()\n",
    "spark.sql(\"select count(1) from airports\").show()\n",
    "spark.sql(\"select count(1) from tracks\").show()"
   ]
  },
  {
   "cell_type": "code",
   "execution_count": null,
   "metadata": {
    "collapsed": false,
    "deletable": true,
    "editable": true
   },
   "outputs": [],
   "source": [
    "flights_df.limit(5).toPandas()"
   ]
  },
  {
   "cell_type": "code",
   "execution_count": null,
   "metadata": {
    "collapsed": false,
    "deletable": true,
    "editable": true
   },
   "outputs": [],
   "source": [
    "airports_df.limit(5).toPandas()"
   ]
  },
  {
   "cell_type": "code",
   "execution_count": null,
   "metadata": {
    "collapsed": false,
    "deletable": true,
    "editable": true
   },
   "outputs": [],
   "source": [
    "tracks_df.limit(5).toPandas()"
   ]
  },
  {
   "cell_type": "code",
   "execution_count": null,
   "metadata": {
    "collapsed": false,
    "deletable": true,
    "editable": true
   },
   "outputs": [],
   "source": [
    "airports_df.printSchema()"
   ]
  },
  {
   "cell_type": "code",
   "execution_count": null,
   "metadata": {
    "collapsed": false,
    "deletable": true,
    "editable": true
   },
   "outputs": [],
   "source": [
    "flights_df.printSchema() #date, delay and distance should change to int"
   ]
  },
  {
   "cell_type": "code",
   "execution_count": null,
   "metadata": {
    "collapsed": false,
    "deletable": true,
    "editable": true
   },
   "outputs": [],
   "source": [
    "tracks_df.printSchema()"
   ]
  },
  {
   "cell_type": "code",
   "execution_count": null,
   "metadata": {
    "collapsed": false,
    "deletable": true,
    "editable": true
   },
   "outputs": [],
   "source": []
  },
  {
   "cell_type": "markdown",
   "metadata": {
    "deletable": true,
    "editable": true
   },
   "source": [
    "## Cleaning data\n",
    "\n",
    "Your data can be stained with duplicates, missing observations and outliers, non- existent addresses, wrong phone numbers and area codes, inaccurate geographical coordinates, wrong dates, incorrect labels, mixtures of upper and lower cases, trailing spaces, and many other more subtle problems. It is your job to clean it, irrespective of whether you are a data scientist or data engineer,"
   ]
  },
  {
   "cell_type": "markdown",
   "metadata": {
    "deletable": true,
    "editable": true
   },
   "source": [
    "### Duplicate rows check and remove\n",
    "First lets define some our spark util functions"
   ]
  },
  {
   "cell_type": "code",
   "execution_count": 5,
   "metadata": {
    "collapsed": false,
    "deletable": true,
    "editable": true
   },
   "outputs": [],
   "source": [
    "def showDuplicateRowsCount(df):\n",
    "    'Show row count with full duplicated rows'\n",
    "    print(\"====Checking table duplicate rows =====\")\n",
    "    print('Count of rows: {0}'.format(df.count()))\n",
    "    print('Count of distinct rows: {0}'.format(df.distinct().count()))\n",
    "    print('===> nr of duplicate rows {0}'.format(df.count()-df.distinct().count()))\n",
    "def showDuplicatesColumnCount(df,col):\n",
    "    'Show duplicate rows based on a specific (id) col.'\n",
    "    print(\"=====Checking col {0}\".format(col))\n",
    "    print('Count of values: {0}'.format(df.count()))\n",
    "    distinct_col_count = df.select([\n",
    "           c for c in df.columns if c != col\n",
    "       ]).distinct().count()\n",
    "    print('Count of distinct column values: {0}'.format(distinct_col_count))\n",
    "    print (\"====> duplicate count {0}\".format(df.count() - distinct_col_count))\n",
    "def showDuplicatesColumnCountSpark(df,col):\n",
    "    'spark version of Showduplicatescolumncount()'\n",
    "    df.agg(\n",
    "       fn.count(col).alias('count'),\n",
    "       fn.countDistinct(col).alias('distinct')\n",
    "    ).show()\n",
    "def showDuplicateColumnsCount(df):\n",
    "    'Show duplicate rows based on all columns in a dataframe'\n",
    "    for col in df.columns:\n",
    "        showDuplicatesColumn(df,col)\n",
    "def dropDuplicateColumn(df,col):\n",
    "    'drop rows with duplicate columns based on certain (id) column'\n",
    "    df = df.dropDuplicates(subset=[\n",
    "       c for c in df.columns if c != col\n",
    "    ])\n",
    "#   \n",
    "#def getDFDuplicateColumns(df,col,new_col):\n",
    "#    uniq_df = df.select([\n",
    "#           c for c in df.columns if c != col\n",
    "#       ]).distinct()\n",
    "#    duplicate_df = df.subtract(uniq_df)\n",
    "#    \n",
    "#    return(duplicate_df.withColumn(new_col, \\\n",
    "#                            fn.monotonically_increasing_id()))\n",
    "#   **/ \n",
    "def showMissingDataPercent(df_miss):\n",
    "    'show each column and percentage of missing data, 0 - 1 , 0 means no missing data'\n",
    "    df_miss.agg(*[\n",
    "       (1 - (fn.count(c) / fn.count('*'))).alias(c + '_missing')\n",
    "       for c in df_miss.columns\n",
    "    ]).show()\n",
    "def getDFDropColumn(df_miss,col):\n",
    "    'Get a new dataframe based on another without given column'\n",
    "    return(df_miss.select([\n",
    "       c for c in df_miss.columns if c != col\n",
    "    ]))\n",
    "def getDFDropMissingRows(df_miss):\n",
    "    'Drop rows with any missing column field'\n",
    "    return(df_miss.dropna())\n",
    "def fillMissingMeanColumn(df,col):\n",
    "    'Fill in missing values in a certain column containing numerical data'\n",
    "    means = df.agg(\n",
    "       *[fn.mean(col).alias(col)\n",
    "           for c in df.columns if c != col]\n",
    "   ).toPandas().to_dict('records')[0]\n",
    "def getDFFillMissingCategoryColumn(df,col):\n",
    "    'Fill in missing values in a column containing a category and return df'\n",
    "    miss_dict = {col: \"missing\"}\n",
    "    return(df.fillna(miss_dict))\n",
    "def getDictOutliers(df_outliers,col_list):\n",
    "    'return dictionary with outliers boundaries , based on columns in list'\n",
    "    bounds = {}\n",
    "    for col in col_list:\n",
    "        quantiles = df_outliers.approxQuantile(\n",
    "           col, [0.25, 0.75], 0.05\n",
    "       )\n",
    "        IQR = quantiles[1] - quantiles[0]\n",
    "        bounds[col] = [\n",
    "           quantiles[0] - 1.5 * IQR,\n",
    "           quantiles[1] + 1.5 * IQR\n",
    "     ]\n",
    "    return bounds\n",
    "def getDFOutliers(df_outliers,bounds,cols,id_col):\n",
    "    'print all outlier rows based on dictionary with outlier bounderies dict, for columns in column list'\n",
    "    outliers = df_outliers.select(*[id_col] + [\n",
    "       (\n",
    "           (df_outliers[c] < bounds[c][0]) |\n",
    "           (df_outliers[c] > bounds[c][1])\n",
    "       ).alias(c + '_o') for c in cols\n",
    "    ])\n",
    "    return outliers\n",
    "\n",
    "    "
   ]
  },
  {
   "cell_type": "code",
   "execution_count": 6,
   "metadata": {
    "collapsed": false,
    "deletable": true,
    "editable": true
   },
   "outputs": [
    {
     "name": "stdout",
     "output_type": "stream",
     "text": [
      "====Checking table duplicate rows =====\n",
      "Count of rows: 1391578\n",
      "Count of distinct rows: 1391071\n",
      "===> nr of duplicate rows 507\n",
      "====Checking table duplicate rows =====\n",
      "Count of rows: 526\n",
      "Count of distinct rows: 526\n",
      "===> nr of duplicate rows 0\n",
      "====Checking table duplicate rows =====\n",
      "Count of rows: 114728\n",
      "Count of distinct rows: 113993\n",
      "===> nr of duplicate rows 735\n"
     ]
    }
   ],
   "source": [
    "#Check duplicates rows, same value?\n",
    "flights_df = spark.sql(\"select * from flights\") #507 out of 1.4 milj\n",
    "showDuplicateRowsCount(flights_df)\n",
    "airports_df = spark.sql(\"select * from airports\") #0\n",
    "showDuplicateRowsCount(airports_df)\n",
    "tracks_df = spark.sql(\"select * from tracks\") #192k out of 14m, 735 out of 114k after filtering for AMS arrival\n",
    "showDuplicateRowsCount(tracks_df) #takes 10 mins"
   ]
  },
  {
   "cell_type": "code",
   "execution_count": 7,
   "metadata": {
    "collapsed": true,
    "deletable": true,
    "editable": true
   },
   "outputs": [],
   "source": [
    "#Change type of integer based columns , so we check outliers later on\n",
    "flights_df = flights_df.withColumn(\"delay\",flights_df[\"delay\"].cast(typ.IntegerType()))\n",
    "flights_df = flights_df.withColumn(\"distance\",flights_df[\"distance\"].cast(typ.IntegerType()))\n",
    "                   \n",
    "tracks_df = tracks_df.withColumn(\"altitude\",tracks_df[\"altitude\"].cast(typ.IntegerType()))  \n",
    "tracks_df = tracks_df.withColumn(\"altitude_delta\",tracks_df[\"altitude_delta\"].cast(typ.IntegerType()))\n",
    "tracks_df = tracks_df.withColumn(\"speed\",tracks_df[\"speed\"].cast(typ.IntegerType()))      \n",
    "tracks_df = tracks_df.withColumn(\"heading\",tracks_df[\"heading\"].cast(typ.IntegerType()))   \n",
    "tracks_df = tracks_df.withColumn(\"lat\",tracks_df[\"lat\"].cast(typ.FloatType()))  \n",
    "tracks_df = tracks_df.withColumn(\"lon\",tracks_df[\"lon\"].cast(typ.FloatType())) \n",
    "tracks_df = tracks_df.withColumn(\"time\",tracks_df[\"time\"].cast(typ.LongType())) \n",
    "tracks_df = tracks_df.withColumn(\"landed\",tracks_df[\"landed\"].cast(typ.IntegerType()))\n",
    "\n",
    "#Lets add a id columns for the flights\n",
    "flights_df = flights_df.withColumn('id',fn.monotonically_increasing_id())"
   ]
  },
  {
   "cell_type": "code",
   "execution_count": 8,
   "metadata": {
    "collapsed": false,
    "deletable": true,
    "editable": true
   },
   "outputs": [],
   "source": [
    "#pure duplicates just drop these, but the flights tables might be different flights. We donts know without id\n",
    "tracks_df =tracks_df.dropDuplicates()"
   ]
  },
  {
   "cell_type": "markdown",
   "metadata": {
    "deletable": true,
    "editable": true
   },
   "source": [
    "### Duplicate columns check\n",
    "\n",
    "Some times there are columns identifying a row, and which are different.\n",
    "However in case you know the rest of the columns is the same you might want to remove these rows. eg , Michel , 1.90, hoofddorp , and michel2, 1.90, hoofddorp . Its the same person but id is incorrect. "
   ]
  },
  {
   "cell_type": "code",
   "execution_count": null,
   "metadata": {
    "collapsed": false,
    "deletable": true,
    "editable": true
   },
   "outputs": [],
   "source": [
    "#airports IATA should be uniq. It seems 15 rows have identical data \n",
    "#but different IATA code\n",
    "showDuplicatesColumnCount(airports_df,'IATA')\n",
    "showDuplicatesColumnCountSpark(airports_df,'IATA')\n",
    "#TODO WHY ARE RESULT DIFFERENT!!!!!! SHOULD BE BOTH 511 OR 524!!"
   ]
  },
  {
   "cell_type": "code",
   "execution_count": 9,
   "metadata": {
    "collapsed": false,
    "deletable": true,
    "editable": true
   },
   "outputs": [
    {
     "name": "stdout",
     "output_type": "stream",
     "text": [
      "=====Checking col flight\n",
      "Count of values: 113993\n",
      "Count of distinct column values: 113993\n",
      "====> duplicate count 0\n"
     ]
    }
   ],
   "source": [
    "showDuplicatesColumnCount(tracks_df,'flight')"
   ]
  },
  {
   "cell_type": "markdown",
   "metadata": {
    "deletable": true,
    "editable": true
   },
   "source": [
    "```\n",
    "We could call dropDuplicateColumn(df_airports,'IATA')\n",
    "\n",
    "However this would delete rows without knowing the correct IATA. \n",
    "The Flights tables does not have uniq field like flightname,\n",
    "so will not delete any rows there either.\n",
    "```"
   ]
  },
  {
   "cell_type": "code",
   "execution_count": null,
   "metadata": {
    "collapsed": false,
    "deletable": true,
    "editable": true
   },
   "outputs": [],
   "source": [
    "#TODO: Make function to show these rows so we know which are duplicates\n",
    "#df_duplicate_airports = getDFDuplicateColumns(airports_df,'IATA','new_id')\n",
    "#df_duplicate_airports.toPandas()"
   ]
  },
  {
   "cell_type": "markdown",
   "metadata": {
    "deletable": true,
    "editable": true
   },
   "source": [
    "### Missing data\n",
    "\n",
    "```\n",
    "Drop data row if possible in case of missing. if datasize. < 50% check which features are missing, and just drop these.\n",
    "Alternative impute missing:\n",
    "Boolean: add missing category\n",
    "categorial already: add multiple extra levels and and missing there\n",
    "numeric and ordinal: mean, median etc to fill in\n",
    "```"
   ]
  },
  {
   "cell_type": "code",
   "execution_count": 10,
   "metadata": {
    "collapsed": false,
    "deletable": true,
    "editable": true
   },
   "outputs": [
    {
     "name": "stdout",
     "output_type": "stream",
     "text": [
      "+------------+--------------------+---------------+------------+\n",
      "|City_missing|       State_missing|Country_missing|IATA_missing|\n",
      "+------------+--------------------+---------------+------------+\n",
      "|         0.0|0.005703422053231932|            0.0|         0.0|\n",
      "+------------+--------------------+---------------+------------+\n",
      "\n",
      "+------------+-------------+----------------+--------------+-------------------+----------+\n",
      "|date_missing|delay_missing|distance_missing|origin_missing|destination_missing|id_missing|\n",
      "+------------+-------------+----------------+--------------+-------------------+----------+\n",
      "|         0.0|          0.0|             0.0|           0.0|                0.0|       0.0|\n",
      "+------------+-------------+----------------+--------------+-------------------+----------+\n",
      "\n",
      "+----------+----------------+------------+---------------+--------------------+-----------+--------------+------------+-----------+-----------+--------------------+-----------+-----------+--------------------+--------------------+-------------+-----------+-----------------+----------------------+\n",
      "|na_missing|altitude_missing|dest_missing|heading_missing|      flight_missing|na2_missing|landed_missing|time_missing|lat_missing|lon_missing|         na3_missing|org_missing|na4_missing|registration_missing|     flight2_missing|speed_missing|na6_missing|planetype_missing|altitude_delta_missing|\n",
      "+----------+----------------+------------+---------------+--------------------+-----------+--------------+------------+-----------+-----------+--------------------+-----------+-----------+--------------------+--------------------+-------------+-----------+-----------------+----------------------+\n",
      "|       0.0|             0.0|         0.0|            0.0|0.006044230786100946|        0.0|           0.0|         0.0|        0.0|        0.0|2.631740545466776...|        0.0|        0.0|2.631740545466776...|0.001175510776977...|          0.0|        0.0|              0.0|                   0.0|\n",
      "+----------+----------------+------------+---------------+--------------------+-----------+--------------+------------+-----------+-----------+--------------------+-----------+-----------+--------------------+--------------------+-------------+-----------+-----------------+----------------------+\n",
      "\n"
     ]
    }
   ],
   "source": [
    "#0 = perfect, 1 = all is missing\n",
    "showMissingDataPercent(airports_df) #State misses some data\n",
    "showMissingDataPercent(flights_df)\n",
    "showMissingDataPercent(tracks_df) #We miss some, flight a bit, but is important to have these,"
   ]
  },
  {
   "cell_type": "code",
   "execution_count": 11,
   "metadata": {
    "collapsed": false,
    "deletable": true,
    "editable": true
   },
   "outputs": [
    {
     "name": "stdout",
     "output_type": "stream",
     "text": [
      "+------------+---------------+------------+\n",
      "|City_missing|Country_missing|IATA_missing|\n",
      "+------------+---------------+------------+\n",
      "|         0.0|            0.0|         0.0|\n",
      "+------------+---------------+------------+\n",
      "\n",
      "+----------+----------------+------------+---------------+-----------+--------------+------------+-----------+-----------+--------------------+-----------+-----------+--------------------+--------------------+-------------+-----------+-----------------+----------------------+\n",
      "|na_missing|altitude_missing|dest_missing|heading_missing|na2_missing|landed_missing|time_missing|lat_missing|lon_missing|         na3_missing|org_missing|na4_missing|registration_missing|     flight2_missing|speed_missing|na6_missing|planetype_missing|altitude_delta_missing|\n",
      "+----------+----------------+------------+---------------+-----------+--------------+------------+-----------+-----------+--------------------+-----------+-----------+--------------------+--------------------+-------------+-----------+-----------------+----------------------+\n",
      "|       0.0|             0.0|         0.0|            0.0|        0.0|           0.0|         0.0|        0.0|        0.0|2.631740545466776...|        0.0|        0.0|2.631740545466776...|0.001175510776977...|          0.0|        0.0|              0.0|                   0.0|\n",
      "+----------+----------------+------------+---------------+-----------+--------------+------------+-----------+-----------+--------------------+-----------+-----------+--------------------+--------------------+-------------+-----------+-----------------+----------------------+\n",
      "\n"
     ]
    },
    {
     "data": {
      "text/plain": [
       "113993"
      ]
     },
     "execution_count": 11,
     "metadata": {},
     "output_type": "execute_result"
    }
   ],
   "source": [
    "#We could just drop column state, we keep all our rows, and have no missing data\n",
    "df_no_state = getDFDropColumn(airports_df,'State')\n",
    "showMissingDataPercent(df_no_state)\n",
    "\n",
    "df_no_flight = getDFDropColumn(tracks_df,'flight')\n",
    "showMissingDataPercent(df_no_flight)\n",
    "\n",
    "df_no_flight.count() #113993 out of 114k"
   ]
  },
  {
   "cell_type": "code",
   "execution_count": 12,
   "metadata": {
    "collapsed": false,
    "deletable": true,
    "editable": true
   },
   "outputs": [
    {
     "name": "stdout",
     "output_type": "stream",
     "text": [
      "+------------+-------------+---------------+------------+\n",
      "|City_missing|State_missing|Country_missing|IATA_missing|\n",
      "+------------+-------------+---------------+------------+\n",
      "|         0.0|          0.0|            0.0|         0.0|\n",
      "+------------+-------------+---------------+------------+\n",
      "\n",
      "+----------+----------------+------------+---------------+--------------+-----------+--------------+------------+-----------+-----------+-----------+-----------+-----------+--------------------+---------------+-------------+-----------+-----------------+----------------------+\n",
      "|na_missing|altitude_missing|dest_missing|heading_missing|flight_missing|na2_missing|landed_missing|time_missing|lat_missing|lon_missing|na3_missing|org_missing|na4_missing|registration_missing|flight2_missing|speed_missing|na6_missing|planetype_missing|altitude_delta_missing|\n",
      "+----------+----------------+------------+---------------+--------------+-----------+--------------+------------+-----------+-----------+-----------+-----------+-----------+--------------------+---------------+-------------+-----------+-----------------+----------------------+\n",
      "|       0.0|             0.0|         0.0|            0.0|           0.0|        0.0|           0.0|         0.0|        0.0|        0.0|        0.0|        0.0|        0.0|                 0.0|            0.0|          0.0|        0.0|              0.0|                   0.0|\n",
      "+----------+----------------+------------+---------------+--------------+-----------+--------------+------------+-----------+-----------+-----------+-----------+-----------+--------------------+---------------+-------------+-----------+-----------------+----------------------+\n",
      "\n"
     ]
    },
    {
     "data": {
      "text/plain": [
       "113167"
      ]
     },
     "execution_count": 12,
     "metadata": {},
     "output_type": "execute_result"
    }
   ],
   "source": [
    "#Or drop only rows with any missing data\n",
    "df_without_missing = getDFDropMissingRows(airports_df)\n",
    "showMissingDataPercent(df_without_missing)\n",
    "\n",
    "df_without_missing_flight = getDFDropMissingRows(tracks_df)\n",
    "showMissingDataPercent(df_without_missing_flight)\n",
    "\n",
    "df_without_missing_flight.count() #Also 113167 , so we could just use this for the tracker"
   ]
  },
  {
   "cell_type": "code",
   "execution_count": 13,
   "metadata": {
    "collapsed": false,
    "deletable": true,
    "editable": true
   },
   "outputs": [
    {
     "name": "stdout",
     "output_type": "stream",
     "text": [
      "+-------------+-------+-------+----+\n",
      "|         City|  State|Country|IATA|\n",
      "+-------------+-------+-------+----+\n",
      "|Washington DC|missing|    USA| IAD|\n",
      "|Washington DC|missing|    USA| DCA|\n",
      "|Washington DC|missing|    USA| WAS|\n",
      "+-------------+-------+-------+----+\n",
      "\n",
      "+------------+-------------+---------------+------------+\n",
      "|City_missing|State_missing|Country_missing|IATA_missing|\n",
      "+------------+-------------+---------------+------------+\n",
      "|         0.0|          0.0|            0.0|         0.0|\n",
      "+------------+-------------+---------------+------------+\n",
      "\n"
     ]
    }
   ],
   "source": [
    "#Or we can impute values, as this is a category we will add a missing category\n",
    "df_missing_state = getDFFillMissingCategoryColumn(airports_df,'State')\n",
    "df_missing_state.where(\"State == 'missing'\").show() #3\n",
    "df_missing_state.count() #526\n",
    "showMissingDataPercent(df_missing_state)"
   ]
  },
  {
   "cell_type": "code",
   "execution_count": 14,
   "metadata": {
    "collapsed": false,
    "deletable": true,
    "editable": true
   },
   "outputs": [],
   "source": [
    "#LETS PICK LAST OPTION for Airports and trackers\n",
    "airports_df = df_missing_state\n",
    "tracks_df = df_without_missing_flight"
   ]
  },
  {
   "cell_type": "markdown",
   "metadata": {
    "deletable": true,
    "editable": true
   },
   "source": [
    "### outliers\n",
    "\n",
    "Outliers are those observations that deviate signi cantly from the distribution of the rest of your sample. The de nitions of signi cance vary, but in the most general form, you can accept that there are no outliers if all the values are roughly within the Q1−1.5IQR and Q3+1.5IQR range"
   ]
  },
  {
   "cell_type": "code",
   "execution_count": null,
   "metadata": {
    "collapsed": false,
    "deletable": true,
    "editable": true
   },
   "outputs": [],
   "source": [
    "#Show the ouytlier ranges for our integer based columns\n",
    "col_list = ['delay','distance'] \n",
    "\n",
    "#Run cast code in the beginning again (dont no why thats needed?)\n",
    "outliers_dict = getDictOutliers(flights_df,col_list)\n",
    "print(outliers_dict) \n",
    "\n",
    "#Show the ouytlier ranges for our integer based columns\n",
    "col_flights_list = ['lat','lon','altitude','heading','time','landed'] \n",
    "\n",
    "outliers_flights_dict = getDictOutliers(tracks_df,col_flights_list)\n",
    "print(outliers_flights_dict) #Not really handy way to check outliers.\n",
    "\n"
   ]
  },
  {
   "cell_type": "code",
   "execution_count": null,
   "metadata": {
    "collapsed": false,
    "deletable": true,
    "editable": true
   },
   "outputs": [],
   "source": [
    "#Flag rows\n",
    "#Run the id add function again, for some reason..\n",
    "df_outliers = getDFOutliers(flights_df,outliers_dict,col_list,'id')\n",
    "df_outliers.show()\n",
    "\n",
    "df_flight_outliers = getDFOutliers(tracks_df,outliers_flights_dict,col_flights_list,'flight')\n",
    "df_flight_outliers.show()"
   ]
  },
  {
   "cell_type": "code",
   "execution_count": null,
   "metadata": {
    "collapsed": false,
    "deletable": true,
    "editable": true
   },
   "outputs": [],
   "source": [
    "#Show outlier  flights\n",
    "#1.4 milj flights, about 162k has outlier delays. And 75k outlier distance\n",
    "df_out= flights_df.join(df_outliers, on='id')\n",
    "print(df_out.filter('delay_o').select('id', 'delay').count())\n",
    "print(df_out.filter('distance_o').select('id', 'distance').count())\n",
    "df_out.filter('delay_o').select('id', 'delay').show()\n",
    "df_out.filter('distance_o').select('id', 'distance').show()\n",
    "    "
   ]
  },
  {
   "cell_type": "code",
   "execution_count": null,
   "metadata": {
    "collapsed": false,
    "deletable": true,
    "editable": true
   },
   "outputs": [],
   "source": [
    "#Show outlier  tracks, dont understand the result yet .. todo\n",
    "df_out=tracks_df.join(df_flight_outliers, on='flight')\n",
    "print(df_out.filter('heading_o').select('flight', 'heading').count())  #None, however heading has strange values\n",
    "print(df_out.filter('altitude_o').select('flight', 'altitude').count()) #None, but shows some strange numbers\n",
    "print(df_out.filter('lat_o').select('flight', 'lat').count()) #32, < 33 but still good value\n",
    "print(df_out.filter('lon_o').select('flight', 'lon').count()) #-66 also good\n",
    "print(df_out.filter('landed_o').select('flight', 'landed').count())  # 0 , <> 0.0 .. \n",
    "\n",
    "df_out.filter('heading_o').select('flight', 'heading').show()\n",
    "df_out.filter('altitude_o').select('flight', 'altitude').show()\n",
    "df_out.filter('lat_o').select('flight', 'lat').show()\n",
    "df_out.filter('lon_o').select('flight', 'lon').show()\n",
    "df_out.filter('landed_o').select('flight', 'landed').show()"
   ]
  },
  {
   "cell_type": "code",
   "execution_count": 15,
   "metadata": {
    "collapsed": false,
    "deletable": true,
    "editable": true
   },
   "outputs": [
    {
     "data": {
      "text/html": [
       "<div>\n",
       "<table border=\"1\" class=\"dataframe\">\n",
       "  <thead>\n",
       "    <tr style=\"text-align: right;\">\n",
       "      <th></th>\n",
       "      <th>summary</th>\n",
       "      <th>na</th>\n",
       "      <th>altitude</th>\n",
       "      <th>dest</th>\n",
       "      <th>heading</th>\n",
       "      <th>flight</th>\n",
       "      <th>na2</th>\n",
       "      <th>landed</th>\n",
       "      <th>time</th>\n",
       "      <th>lat</th>\n",
       "      <th>lon</th>\n",
       "      <th>na3</th>\n",
       "      <th>org</th>\n",
       "      <th>na4</th>\n",
       "      <th>registration</th>\n",
       "      <th>flight2</th>\n",
       "      <th>speed</th>\n",
       "      <th>na6</th>\n",
       "      <th>planetype</th>\n",
       "      <th>altitude_delta</th>\n",
       "    </tr>\n",
       "  </thead>\n",
       "  <tbody>\n",
       "    <tr>\n",
       "      <th>0</th>\n",
       "      <td>count</td>\n",
       "      <td>113166</td>\n",
       "      <td>113166</td>\n",
       "      <td>113166</td>\n",
       "      <td>113166</td>\n",
       "      <td>113166</td>\n",
       "      <td>113166</td>\n",
       "      <td>113166</td>\n",
       "      <td>113166</td>\n",
       "      <td>113166</td>\n",
       "      <td>113166</td>\n",
       "      <td>113166</td>\n",
       "      <td>113166</td>\n",
       "      <td>113166</td>\n",
       "      <td>113166</td>\n",
       "      <td>113166</td>\n",
       "      <td>113166</td>\n",
       "      <td>113166</td>\n",
       "      <td>113166</td>\n",
       "      <td>113166</td>\n",
       "    </tr>\n",
       "    <tr>\n",
       "      <th>1</th>\n",
       "      <td>mean</td>\n",
       "      <td>0.0</td>\n",
       "      <td>25937.58012123783</td>\n",
       "      <td>None</td>\n",
       "      <td>185.37657953802378</td>\n",
       "      <td>None</td>\n",
       "      <td>None</td>\n",
       "      <td>0.10491667108495485</td>\n",
       "      <td>1.4667654505120618E9</td>\n",
       "      <td>47.248370045243625</td>\n",
       "      <td>5.8005942376914765</td>\n",
       "      <td>1.6246676716458804E68</td>\n",
       "      <td>None</td>\n",
       "      <td>None</td>\n",
       "      <td>None</td>\n",
       "      <td>None</td>\n",
       "      <td>388.65912906703426</td>\n",
       "      <td>2876.8740699503383</td>\n",
       "      <td>None</td>\n",
       "      <td>-18.236431437004047</td>\n",
       "    </tr>\n",
       "    <tr>\n",
       "      <th>2</th>\n",
       "      <td>stddev</td>\n",
       "      <td>0.0</td>\n",
       "      <td>14064.202326081695</td>\n",
       "      <td>None</td>\n",
       "      <td>116.49911756138249</td>\n",
       "      <td>None</td>\n",
       "      <td>None</td>\n",
       "      <td>0.30644737404035716</td>\n",
       "      <td>23851.187338666117</td>\n",
       "      <td>11.212115336402727</td>\n",
       "      <td>42.42581308189305</td>\n",
       "      <td>2.563188516024707E69</td>\n",
       "      <td>None</td>\n",
       "      <td>None</td>\n",
       "      <td>None</td>\n",
       "      <td>None</td>\n",
       "      <td>158.8451831072749</td>\n",
       "      <td>2403.4989878253073</td>\n",
       "      <td>None</td>\n",
       "      <td>966.8138093056012</td>\n",
       "    </tr>\n",
       "    <tr>\n",
       "      <th>3</th>\n",
       "      <td>min</td>\n",
       "      <td>0</td>\n",
       "      <td>0</td>\n",
       "      <td>AMS</td>\n",
       "      <td>0</td>\n",
       "      <td>4U2180</td>\n",
       "      <td>a1dd1a8</td>\n",
       "      <td>0</td>\n",
       "      <td>1466724663</td>\n",
       "      <td>-34.0329</td>\n",
       "      <td>-123.4047</td>\n",
       "      <td>010145</td>\n",
       "      <td>AAL</td>\n",
       "      <td>F-BGGH2</td>\n",
       "      <td>4X-BAW</td>\n",
       "      <td>AAL798</td>\n",
       "      <td>0</td>\n",
       "      <td>0000</td>\n",
       "      <td>A306</td>\n",
       "      <td>-30976</td>\n",
       "    </tr>\n",
       "    <tr>\n",
       "      <th>4</th>\n",
       "      <td>max</td>\n",
       "      <td>0</td>\n",
       "      <td>43000</td>\n",
       "      <td>AMS</td>\n",
       "      <td>359</td>\n",
       "      <td>Y87486</td>\n",
       "      <td>a21c811</td>\n",
       "      <td>1</td>\n",
       "      <td>1466811193</td>\n",
       "      <td>70.1904</td>\n",
       "      <td>140.5139</td>\n",
       "      <td>C053F6</td>\n",
       "      <td>ZTH</td>\n",
       "      <td>T-ZYTL4</td>\n",
       "      <td>YU-APG</td>\n",
       "      <td>YZR7486</td>\n",
       "      <td>688</td>\n",
       "      <td>7761</td>\n",
       "      <td>RJ85</td>\n",
       "      <td>30976</td>\n",
       "    </tr>\n",
       "  </tbody>\n",
       "</table>\n",
       "</div>"
      ],
      "text/plain": [
       "  summary      na            altitude    dest             heading  flight  \\\n",
       "0   count  113166              113166  113166              113166  113166   \n",
       "1    mean     0.0   25937.58012123783    None  185.37657953802378    None   \n",
       "2  stddev     0.0  14064.202326081695    None  116.49911756138249    None   \n",
       "3     min       0                   0     AMS                   0  4U2180   \n",
       "4     max       0               43000     AMS                 359  Y87486   \n",
       "\n",
       "       na2               landed                  time                 lat  \\\n",
       "0   113166               113166                113166              113166   \n",
       "1     None  0.10491667108495485  1.4667654505120618E9  47.248370045243625   \n",
       "2     None  0.30644737404035716    23851.187338666117  11.212115336402727   \n",
       "3  a1dd1a8                    0            1466724663            -34.0329   \n",
       "4  a21c811                    1            1466811193             70.1904   \n",
       "\n",
       "                  lon                    na3     org      na4 registration  \\\n",
       "0              113166                 113166  113166   113166       113166   \n",
       "1  5.8005942376914765  1.6246676716458804E68    None     None         None   \n",
       "2   42.42581308189305   2.563188516024707E69    None     None         None   \n",
       "3           -123.4047                 010145     AAL  F-BGGH2       4X-BAW   \n",
       "4            140.5139                 C053F6     ZTH  T-ZYTL4       YU-APG   \n",
       "\n",
       "   flight2               speed                 na6 planetype  \\\n",
       "0   113166              113166              113166    113166   \n",
       "1     None  388.65912906703426  2876.8740699503383      None   \n",
       "2     None   158.8451831072749  2403.4989878253073      None   \n",
       "3   AAL798                   0                0000      A306   \n",
       "4  YZR7486                 688                7761      RJ85   \n",
       "\n",
       "        altitude_delta  \n",
       "0               113166  \n",
       "1  -18.236431437004047  \n",
       "2    966.8138093056012  \n",
       "3               -30976  \n",
       "4                30976  "
      ]
     },
     "execution_count": 15,
     "metadata": {},
     "output_type": "execute_result"
    }
   ],
   "source": [
    "#Lets filters in between known ranges:\n",
    "#landed 0 or 1\n",
    "#heading 0 - 360\n",
    "#altitude < 100 , > 50000 \n",
    "#the valid range of latitude in degrees is -90 and +90 . Longitude is in the range -180 and +180 \n",
    "tracks_df = tracks_df.where(\"landed == 0 or landed == 1\")\n",
    "tracks_df = tracks_df.where(\"heading >= 0 and heading < 360\")\n",
    "tracks_df = tracks_df.where(\"altitude > -100 and altitude < 50000\")\n",
    "tracks_df = tracks_df.where(\"lat >= -90 and lat <= 90\")\n",
    "tracks_df = tracks_df.where(\"lon >= -180 and lon <= 180\")\n",
    "tracks_df.count() #only 1 row removed 113992\n",
    "\n",
    "tracks_df.describe().toPandas() #looks fine\n"
   ]
  },
  {
   "cell_type": "markdown",
   "metadata": {
    "deletable": true,
    "editable": true
   },
   "source": [
    "## Example flight"
   ]
  },
  {
   "cell_type": "code",
   "execution_count": 72,
   "metadata": {
    "collapsed": false,
    "deletable": true,
    "editable": true
   },
   "outputs": [
    {
     "data": {
      "text/html": [
       "<div>\n",
       "<table border=\"1\" class=\"dataframe\">\n",
       "  <thead>\n",
       "    <tr style=\"text-align: right;\">\n",
       "      <th></th>\n",
       "      <th>index</th>\n",
       "      <th>na</th>\n",
       "      <th>altitude</th>\n",
       "      <th>dest</th>\n",
       "      <th>heading</th>\n",
       "      <th>flight</th>\n",
       "      <th>na2</th>\n",
       "      <th>landed</th>\n",
       "      <th>time</th>\n",
       "      <th>lat</th>\n",
       "      <th>...</th>\n",
       "      <th>na3</th>\n",
       "      <th>org</th>\n",
       "      <th>na4</th>\n",
       "      <th>registration</th>\n",
       "      <th>flight2</th>\n",
       "      <th>speed</th>\n",
       "      <th>na6</th>\n",
       "      <th>planetype</th>\n",
       "      <th>altitude_delta</th>\n",
       "      <th>distance_to_ams</th>\n",
       "    </tr>\n",
       "  </thead>\n",
       "  <tbody>\n",
       "    <tr>\n",
       "      <th>0</th>\n",
       "      <td>331</td>\n",
       "      <td>0</td>\n",
       "      <td>32000</td>\n",
       "      <td>AMS</td>\n",
       "      <td>311</td>\n",
       "      <td>KL836</td>\n",
       "      <td>a1e0c3f</td>\n",
       "      <td>0</td>\n",
       "      <td>1466724683</td>\n",
       "      <td>35.678299</td>\n",
       "      <td>...</td>\n",
       "      <td>485000</td>\n",
       "      <td>SIN</td>\n",
       "      <td>F-OIMM1</td>\n",
       "      <td>PH-BVK</td>\n",
       "      <td>KLM836</td>\n",
       "      <td>451</td>\n",
       "      <td>0000</td>\n",
       "      <td>B77W</td>\n",
       "      <td>0</td>\n",
       "      <td>4681.786621</td>\n",
       "    </tr>\n",
       "    <tr>\n",
       "      <th>1</th>\n",
       "      <td>449</td>\n",
       "      <td>0</td>\n",
       "      <td>32000</td>\n",
       "      <td>AMS</td>\n",
       "      <td>311</td>\n",
       "      <td>KL836</td>\n",
       "      <td>a1e0c3f</td>\n",
       "      <td>0</td>\n",
       "      <td>1466724741</td>\n",
       "      <td>35.757999</td>\n",
       "      <td>...</td>\n",
       "      <td>485000</td>\n",
       "      <td>SIN</td>\n",
       "      <td>F-OIMM1</td>\n",
       "      <td>PH-BVK</td>\n",
       "      <td>KLM836</td>\n",
       "      <td>452</td>\n",
       "      <td>0000</td>\n",
       "      <td>B77W</td>\n",
       "      <td>0</td>\n",
       "      <td>4668.396973</td>\n",
       "    </tr>\n",
       "    <tr>\n",
       "      <th>2</th>\n",
       "      <td>323</td>\n",
       "      <td>0</td>\n",
       "      <td>32000</td>\n",
       "      <td>AMS</td>\n",
       "      <td>311</td>\n",
       "      <td>KL836</td>\n",
       "      <td>a1e0c3f</td>\n",
       "      <td>0</td>\n",
       "      <td>1466724806</td>\n",
       "      <td>35.847599</td>\n",
       "      <td>...</td>\n",
       "      <td>485000</td>\n",
       "      <td>SIN</td>\n",
       "      <td>F-OIMM1</td>\n",
       "      <td>PH-BVK</td>\n",
       "      <td>KLM836</td>\n",
       "      <td>452</td>\n",
       "      <td>0000</td>\n",
       "      <td>B77W</td>\n",
       "      <td>-64</td>\n",
       "      <td>4653.314941</td>\n",
       "    </tr>\n",
       "    <tr>\n",
       "      <th>3</th>\n",
       "      <td>599</td>\n",
       "      <td>0</td>\n",
       "      <td>32000</td>\n",
       "      <td>AMS</td>\n",
       "      <td>311</td>\n",
       "      <td>KL836</td>\n",
       "      <td>a1e0c3f</td>\n",
       "      <td>0</td>\n",
       "      <td>1466724867</td>\n",
       "      <td>35.931900</td>\n",
       "      <td>...</td>\n",
       "      <td>485000</td>\n",
       "      <td>SIN</td>\n",
       "      <td>F-OIMM1</td>\n",
       "      <td>PH-BVK</td>\n",
       "      <td>KLM836</td>\n",
       "      <td>452</td>\n",
       "      <td>0000</td>\n",
       "      <td>B77W</td>\n",
       "      <td>0</td>\n",
       "      <td>4639.110840</td>\n",
       "    </tr>\n",
       "    <tr>\n",
       "      <th>4</th>\n",
       "      <td>133</td>\n",
       "      <td>0</td>\n",
       "      <td>32000</td>\n",
       "      <td>AMS</td>\n",
       "      <td>310</td>\n",
       "      <td>KL836</td>\n",
       "      <td>a1e0c3f</td>\n",
       "      <td>0</td>\n",
       "      <td>1466724931</td>\n",
       "      <td>36.020802</td>\n",
       "      <td>...</td>\n",
       "      <td>485000</td>\n",
       "      <td>SIN</td>\n",
       "      <td>F-OIMM1</td>\n",
       "      <td>PH-BVK</td>\n",
       "      <td>KLM836</td>\n",
       "      <td>453</td>\n",
       "      <td>0000</td>\n",
       "      <td>B77W</td>\n",
       "      <td>0</td>\n",
       "      <td>4624.098145</td>\n",
       "    </tr>\n",
       "    <tr>\n",
       "      <th>5</th>\n",
       "      <td>119</td>\n",
       "      <td>0</td>\n",
       "      <td>32000</td>\n",
       "      <td>AMS</td>\n",
       "      <td>310</td>\n",
       "      <td>KL836</td>\n",
       "      <td>a1e0c3f</td>\n",
       "      <td>0</td>\n",
       "      <td>1466724990</td>\n",
       "      <td>36.101002</td>\n",
       "      <td>...</td>\n",
       "      <td>485000</td>\n",
       "      <td>SIN</td>\n",
       "      <td>F-OIMM1</td>\n",
       "      <td>PH-BVK</td>\n",
       "      <td>KLM836</td>\n",
       "      <td>453</td>\n",
       "      <td>0000</td>\n",
       "      <td>B77W</td>\n",
       "      <td>0</td>\n",
       "      <td>4610.549316</td>\n",
       "    </tr>\n",
       "    <tr>\n",
       "      <th>6</th>\n",
       "      <td>189</td>\n",
       "      <td>0</td>\n",
       "      <td>32000</td>\n",
       "      <td>AMS</td>\n",
       "      <td>310</td>\n",
       "      <td>KL836</td>\n",
       "      <td>a1e0c3f</td>\n",
       "      <td>0</td>\n",
       "      <td>1466725055</td>\n",
       "      <td>36.189999</td>\n",
       "      <td>...</td>\n",
       "      <td>485000</td>\n",
       "      <td>SIN</td>\n",
       "      <td>F-OIMM1</td>\n",
       "      <td>PH-BVK</td>\n",
       "      <td>KLM836</td>\n",
       "      <td>453</td>\n",
       "      <td>0000</td>\n",
       "      <td>B77W</td>\n",
       "      <td>0</td>\n",
       "      <td>4595.466797</td>\n",
       "    </tr>\n",
       "    <tr>\n",
       "      <th>7</th>\n",
       "      <td>62</td>\n",
       "      <td>0</td>\n",
       "      <td>32000</td>\n",
       "      <td>AMS</td>\n",
       "      <td>304</td>\n",
       "      <td>KL836</td>\n",
       "      <td>a1e0c3f</td>\n",
       "      <td>0</td>\n",
       "      <td>1466725113</td>\n",
       "      <td>36.264500</td>\n",
       "      <td>...</td>\n",
       "      <td>485000</td>\n",
       "      <td>SIN</td>\n",
       "      <td>F-OIMM1</td>\n",
       "      <td>PH-BVK</td>\n",
       "      <td>KLM836</td>\n",
       "      <td>449</td>\n",
       "      <td>0000</td>\n",
       "      <td>B77W</td>\n",
       "      <td>0</td>\n",
       "      <td>4582.069824</td>\n",
       "    </tr>\n",
       "    <tr>\n",
       "      <th>8</th>\n",
       "      <td>596</td>\n",
       "      <td>0</td>\n",
       "      <td>32000</td>\n",
       "      <td>AMS</td>\n",
       "      <td>304</td>\n",
       "      <td>KL836</td>\n",
       "      <td>a1e0c3f</td>\n",
       "      <td>0</td>\n",
       "      <td>1466725178</td>\n",
       "      <td>36.342899</td>\n",
       "      <td>...</td>\n",
       "      <td>485000</td>\n",
       "      <td>SIN</td>\n",
       "      <td>F-OIMM1</td>\n",
       "      <td>PH-BVK</td>\n",
       "      <td>KLM836</td>\n",
       "      <td>451</td>\n",
       "      <td>0000</td>\n",
       "      <td>B77W</td>\n",
       "      <td>-64</td>\n",
       "      <td>4566.881836</td>\n",
       "    </tr>\n",
       "    <tr>\n",
       "      <th>9</th>\n",
       "      <td>338</td>\n",
       "      <td>0</td>\n",
       "      <td>32000</td>\n",
       "      <td>AMS</td>\n",
       "      <td>304</td>\n",
       "      <td>KL836</td>\n",
       "      <td>a1e0c3f</td>\n",
       "      <td>0</td>\n",
       "      <td>1466725242</td>\n",
       "      <td>36.418900</td>\n",
       "      <td>...</td>\n",
       "      <td>485000</td>\n",
       "      <td>SIN</td>\n",
       "      <td>F-OIMM1</td>\n",
       "      <td>PH-BVK</td>\n",
       "      <td>KLM836</td>\n",
       "      <td>451</td>\n",
       "      <td>0000</td>\n",
       "      <td>B77W</td>\n",
       "      <td>0</td>\n",
       "      <td>4552.106445</td>\n",
       "    </tr>\n",
       "  </tbody>\n",
       "</table>\n",
       "<p>10 rows × 21 columns</p>\n",
       "</div>"
      ],
      "text/plain": [
       "   index na  altitude dest  heading flight      na2  landed        time  \\\n",
       "0    331  0     32000  AMS      311  KL836  a1e0c3f       0  1466724683   \n",
       "1    449  0     32000  AMS      311  KL836  a1e0c3f       0  1466724741   \n",
       "2    323  0     32000  AMS      311  KL836  a1e0c3f       0  1466724806   \n",
       "3    599  0     32000  AMS      311  KL836  a1e0c3f       0  1466724867   \n",
       "4    133  0     32000  AMS      310  KL836  a1e0c3f       0  1466724931   \n",
       "5    119  0     32000  AMS      310  KL836  a1e0c3f       0  1466724990   \n",
       "6    189  0     32000  AMS      310  KL836  a1e0c3f       0  1466725055   \n",
       "7     62  0     32000  AMS      304  KL836  a1e0c3f       0  1466725113   \n",
       "8    596  0     32000  AMS      304  KL836  a1e0c3f       0  1466725178   \n",
       "9    338  0     32000  AMS      304  KL836  a1e0c3f       0  1466725242   \n",
       "\n",
       "         lat       ...            na3  org      na4 registration flight2  \\\n",
       "0  35.678299       ...         485000  SIN  F-OIMM1       PH-BVK  KLM836   \n",
       "1  35.757999       ...         485000  SIN  F-OIMM1       PH-BVK  KLM836   \n",
       "2  35.847599       ...         485000  SIN  F-OIMM1       PH-BVK  KLM836   \n",
       "3  35.931900       ...         485000  SIN  F-OIMM1       PH-BVK  KLM836   \n",
       "4  36.020802       ...         485000  SIN  F-OIMM1       PH-BVK  KLM836   \n",
       "5  36.101002       ...         485000  SIN  F-OIMM1       PH-BVK  KLM836   \n",
       "6  36.189999       ...         485000  SIN  F-OIMM1       PH-BVK  KLM836   \n",
       "7  36.264500       ...         485000  SIN  F-OIMM1       PH-BVK  KLM836   \n",
       "8  36.342899       ...         485000  SIN  F-OIMM1       PH-BVK  KLM836   \n",
       "9  36.418900       ...         485000  SIN  F-OIMM1       PH-BVK  KLM836   \n",
       "\n",
       "  speed   na6 planetype altitude_delta  distance_to_ams  \n",
       "0   451  0000      B77W              0      4681.786621  \n",
       "1   452  0000      B77W              0      4668.396973  \n",
       "2   452  0000      B77W            -64      4653.314941  \n",
       "3   452  0000      B77W              0      4639.110840  \n",
       "4   453  0000      B77W              0      4624.098145  \n",
       "5   453  0000      B77W              0      4610.549316  \n",
       "6   453  0000      B77W              0      4595.466797  \n",
       "7   449  0000      B77W              0      4582.069824  \n",
       "8   451  0000      B77W            -64      4566.881836  \n",
       "9   451  0000      B77W              0      4552.106445  \n",
       "\n",
       "[10 rows x 21 columns]"
      ]
     },
     "execution_count": 72,
     "metadata": {},
     "output_type": "execute_result"
    }
   ],
   "source": [
    "df_sel = tracks_df.where(\"flight == 'KL836'\").toPandas().sort_values(['time']).reset_index() #515 rows\n",
    "df_sel.head(10)"
   ]
  },
  {
   "cell_type": "code",
   "execution_count": 17,
   "metadata": {
    "collapsed": true,
    "deletable": true,
    "editable": true
   },
   "outputs": [],
   "source": [
    "from IPython.display import HTML\n",
    "import folium\n",
    "\n",
    "%matplotlib inline\n",
    "def inline_map(map):\n",
    "    \"\"\"\n",
    "    Embeds the HTML source of the map directly into the IPython notebook.\n",
    "    \n",
    "    This method will not work if the map depends on any files (json data). Also this uses\n",
    "    the HTML5 srcdoc attribute, which may not be supported in all browsers.\n",
    "    \"\"\"\n",
    "    map._build_map()\n",
    "    return HTML('<iframe srcdoc=\"{srcdoc}\" style=\"width: 100%; height: 510px; border: none\"></iframe>'.format(srcdoc=map.HTML.replace('\"', '&quot;')))\n",
    " \n",
    "def embed_map(map, path=\"map.html\"):\n",
    "    \"\"\"\n",
    "    Embeds a linked iframe to the map into the IPython notebook.\n",
    "    \n",
    "    Note: this method will not capture the source of the map into the notebook.\n",
    "    This method should work for all maps (as long as they use relative urls).\n",
    "    \"\"\"\n",
    "    map.create_map(path=path)\n",
    "    return HTML('<iframe src=\"files/{path}\" style=\"width: 100%; height: 510px; border: none\"></iframe>'.format(path=path))"
   ]
  },
  {
   "cell_type": "code",
   "execution_count": 18,
   "metadata": {
    "collapsed": false,
    "deletable": true,
    "editable": true
   },
   "outputs": [
    {
     "data": {
      "text/plain": [
       "<matplotlib.axes._subplots.AxesSubplot at 0x7f16fc111ba8>"
      ]
     },
     "execution_count": 18,
     "metadata": {},
     "output_type": "execute_result"
    },
    {
     "data": {
      "image/png": "[encoded data removed]",
      "text/plain": [
       "<matplotlib.figure.Figure at 0x7f16fdc06d68>"
      ]
     },
     "metadata": {},
     "output_type": "display_data"
    }
   ],
   "source": [
    "import matplotlib\n",
    "#matplotlib.style.use('ggplot')\n",
    "df_sel[['altitude','speed']].plot()"
   ]
  },
  {
   "cell_type": "code",
   "execution_count": 19,
   "metadata": {
    "collapsed": false,
    "deletable": true,
    "editable": true
   },
   "outputs": [],
   "source": [
    "\n",
    "import sys\n",
    "import folium\n",
    "\n",
    "from IPython.display import HTML\n",
    "\n",
    "\n",
    "def display(m, height=300):\n",
    "    \"\"\"Takes a folium instance and embed HTML.\"\"\"\n",
    "    m._build_map()\n",
    "    srcdoc = m.HTML.replace('\"', '&quot;')\n",
    "    embed = HTML('<iframe srcdoc=\"{0}\" '\n",
    "                 'style=\"width: 100%; height: {1}px; '\n",
    "                 'border: none\"></iframe>'.format(srcdoc, height))\n",
    "    return embed\n",
    "\n",
    "def inline_map(map):\n",
    "    \"\"\"\n",
    "    Embeds the HTML source of the map directly into the IPython notebook.\n",
    "    \n",
    "    This method will not work if the map depends on any files (json data). Also this uses\n",
    "    the HTML5 srcdoc attribute, which may not be supported in all browsers.\n",
    "    \"\"\"\n",
    "    map._build_map()\n",
    "    return HTML('<iframe srcdoc=\"{srcdoc}\" style=\"width: 100%; height: 510px; border: none\"></iframe>'.format(srcdoc=map.HTML.replace('\"', '&quot;')))\n",
    "\n",
    "def embed_map(map, path=\"map.html\"):\n",
    "    \"\"\"\n",
    "    Embeds a linked iframe to the map into the IPython notebook.\n",
    "    \n",
    "    Note: this method will not capture the source of the map into the notebook.\n",
    "    This method should work for all maps (as long as they use relative urls).\n",
    "    \"\"\"\n",
    "    #map.create_map(path=path)\n",
    "    return HTML('<iframe src=\"files/{path}\" style=\"width: 100%; height: 510px; border: none\"></iframe>'.format(path=path))"
   ]
  },
  {
   "cell_type": "code",
   "execution_count": 21,
   "metadata": {
    "collapsed": false,
    "deletable": true,
    "editable": true
   },
   "outputs": [],
   "source": [
    "import folium\n",
    "from IPython.display import HTML\n",
    "def plotFlight(flight):\n",
    "    df_sel = tracks_df.where(\"flight == '\" + flight + \"'\").toPandas().sort_values(['time']).reset_index()\n",
    "    #df_sel = join_df.toPandas().query(\"flight == '\" + flight + \"'\").sort_values(['time']).reset_index()\n",
    "    fmap=folium.Map(location=[52.308871, 4.761392], zoom_start=4)\n",
    "    #for row in df_sel.iterrows():\n",
    "     #   latlon = [ row[1]['lat'], row[1]['lon'] ]\n",
    "    #   folium.Marker(latlon, popup=str(row[1]['time'])).add_to(fmap)\n",
    "     #   fmap.add_children\n",
    "    \n",
    "    \n",
    "    latlist = df_sel['lat'].tolist()\n",
    "    lonlist = df_sel['lon'].tolist()\n",
    "    coordinates = zip(latlist[:], lonlist[:])\n",
    "    line=folium.PolyLine(locations=coordinates,weight=3,color = 'red')\n",
    "    fmap.add_children(line)\n",
    "    fmap.save('osm.html')\n",
    "    return HTML('<iframe src=\"files/{path}\" style=\"width: 100%; height: 510px; border: none\"></iframe>'.format(path='osm.html'))"
   ]
  },
  {
   "cell_type": "code",
   "execution_count": 22,
   "metadata": {
    "collapsed": false,
    "deletable": true,
    "editable": true
   },
   "outputs": [
    {
     "name": "stderr",
     "output_type": "stream",
     "text": [
      "/root/anaconda3/envs/spark/lib/python3.5/site-packages/ipykernel/__main__.py:17: FutureWarning: Method `add_children` is deprecated. Please use `add_child` instead.\n"
     ]
    },
    {
     "data": {
      "text/html": [
       "<iframe src=\"files/osm.html\" style=\"width: 100%; height: 510px; border: none\"></iframe>"
      ],
      "text/plain": [
       "<IPython.core.display.HTML object>"
      ]
     },
     "execution_count": 22,
     "metadata": {},
     "output_type": "execute_result"
    }
   ],
   "source": [
    "#plotFlight('Y87486')\n",
    "plotFlight('KL214')\n",
    "plotFlight('KL836')\n",
    "#plotFlight('U26771')"
   ]
  },
  {
   "cell_type": "markdown",
   "metadata": {
    "deletable": true,
    "editable": true
   },
   "source": [
    "### Statistics"
   ]
  },
  {
   "cell_type": "code",
   "execution_count": null,
   "metadata": {
    "collapsed": false,
    "deletable": true,
    "editable": true
   },
   "outputs": [],
   "source": [
    "#read in the file\n",
    "flights = \"file:/root/learningPySpark/Chapter03/flight-data/departuredelays.csv\" \n",
    "fl = sc.textFile(flights) #you can use .gz, so better then spark sql\n",
    "header = fl.first()\n",
    "header"
   ]
  },
  {
   "cell_type": "code",
   "execution_count": null,
   "metadata": {
    "collapsed": false,
    "deletable": true,
    "editable": true
   },
   "outputs": [],
   "source": [
    "\n",
    "#Filter numeric columns in flights\n",
    "fl_filter = fl.filter(lambda row: row != header) \\\n",
    "       .map(lambda row: [int(elem) for elem in row.split(',') if (elem.isdigit() or elem.lstrip(\"-\").isdigit()) ])\n",
    "fl_filter.take(5) #.foreach(println)"
   ]
  },
  {
   "cell_type": "code",
   "execution_count": null,
   "metadata": {
    "collapsed": false,
    "deletable": true,
    "editable": true
   },
   "outputs": [],
   "source": [
    "#create schema\n",
    "fields = [ *[\n",
    "           typ.StructField(h, typ.IntegerType(), True)\n",
    "           for h in header.split(',')\n",
    "       ]\n",
    "   ]\n",
    "schema = typ.StructType(fields)\n",
    "schema   "
   ]
  },
  {
   "cell_type": "code",
   "execution_count": null,
   "metadata": {
    "collapsed": false,
    "deletable": true,
    "editable": true
   },
   "outputs": [],
   "source": [
    "#create DF Spark\n",
    "fli_df = spark.createDataFrame(fl_filter, schema)\n",
    "fli_df.printSchema()\n",
    "#fli_df.show() Some columns are not integer so crash, to fix later"
   ]
  },
  {
   "cell_type": "code",
   "execution_count": 23,
   "metadata": {
    "collapsed": false,
    "deletable": true,
    "editable": true
   },
   "outputs": [
    {
     "name": "stdout",
     "output_type": "stream",
     "text": [
      "+------+-----+\n",
      "|flight|count|\n",
      "+------+-----+\n",
      "| DL138|  418|\n",
      "|CND518|  136|\n",
      "| BE111|   47|\n",
      "|MP6742|   48|\n",
      "|U28881|   59|\n",
      "|KL1742|   50|\n",
      "| KL888|  681|\n",
      "| OR288|  180|\n",
      "|KL1858|   33|\n",
      "|KL1134|   81|\n",
      "|KL1800|   72|\n",
      "|KL1618|  101|\n",
      "|KL1688|   78|\n",
      "|KL1790|   79|\n",
      "| KL736|  191|\n",
      "|U27908|   94|\n",
      "|KL1168|  133|\n",
      "|KL1010|   72|\n",
      "| LH992|   76|\n",
      "| LX736|   94|\n",
      "+------+-----+\n",
      "only showing top 20 rows\n",
      "\n"
     ]
    }
   ],
   "source": [
    "#to group by values within a column\n",
    "tracks_df.groupby('flight').count().show()"
   ]
  },
  {
   "cell_type": "code",
   "execution_count": null,
   "metadata": {
    "collapsed": false,
    "deletable": true,
    "editable": true
   },
   "outputs": [],
   "source": [
    "#grouping the whole set and perform function\n",
    "tracks_df.agg({'speed' : 'skewness'}).show() #ratio mean to sd is very low, wide spread observation negatively\n",
    "\n",
    "#can also use: avg(), count(), countDistinct(), first(), kurtosis(), max(), mean(), min(), skewness(), stddev(), stddev_pop(), stddev_samp(), sum(), sumDistinct(), var_pop(), var_samp() and variance().\n",
    "\n"
   ]
  },
  {
   "cell_type": "code",
   "execution_count": null,
   "metadata": {
    "collapsed": false,
    "deletable": true,
    "editable": true
   },
   "outputs": [],
   "source": [
    "#correlation is simple (only pearson , and in pairs)\n",
    "tracks_df.corr('landed','speed') #quit some relation which you expect"
   ]
  },
  {
   "cell_type": "code",
   "execution_count": null,
   "metadata": {
    "collapsed": true,
    "deletable": true,
    "editable": true
   },
   "outputs": [],
   "source": [
    "def showCorrelationMatrix(df,numerical):\n",
    "    'for a DF print matrix with correlations between all numerical columns'\n",
    "    n_numerical = len(numerical)\n",
    "    corr = []\n",
    "    for i in range(0, n_numerical):\n",
    "        temp = [None] * i\n",
    "        for j in range(i, n_numerical):\n",
    "            temp.append(df.corr(numerical[i], numerical[j]))\n",
    "        corr.append(temp)\n",
    "        \n",
    "    print(corr)"
   ]
  },
  {
   "cell_type": "code",
   "execution_count": null,
   "metadata": {
    "collapsed": false,
    "deletable": true,
    "editable": true
   },
   "outputs": [],
   "source": [
    "showCorrelationMatrix(tracks_df,['speed','landed','altitude','heading'])"
   ]
  },
  {
   "cell_type": "code",
   "execution_count": null,
   "metadata": {
    "collapsed": false,
    "deletable": true,
    "editable": true
   },
   "outputs": [],
   "source": [
    "tracks_df.corr('speed','altitude') #very high correlation"
   ]
  },
  {
   "cell_type": "markdown",
   "metadata": {
    "deletable": true,
    "editable": true
   },
   "source": [
    "### Lets try to make some features\n",
    "```\n",
    "Flight,time,speed,distance_to_ams,time_till_actual_landing\n",
    "\n",
    "distance to amsterdam , will be lat/lon comparison to lat/lon ams airport\n",
    "for each row\n",
    "```"
   ]
  },
  {
   "cell_type": "code",
   "execution_count": 24,
   "metadata": {
    "collapsed": false,
    "deletable": true,
    "editable": true
   },
   "outputs": [],
   "source": [
    "from math import radians, cos, sin, asin, sqrt\n",
    "def haversine(lon1, lat1, lon2, lat2):\n",
    "    \"\"\"\n",
    "    Calculate the great circle distance between two points \n",
    "    on the earth (specified in decimal degrees)\n",
    "    \"\"\"\n",
    "    # convert decimal degrees to radians \n",
    "    lon1, lat1, lon2, lat2 = map(radians, [lon1, lat1, lon2, lat2])\n",
    "    # haversine formula \n",
    "    dlon = lon2 - lon1 \n",
    "    dlat = lat2 - lat1 \n",
    "    a = sin(dlat/2)**2 + cos(lat1) * cos(lat2) * sin(dlon/2)**2\n",
    "    c = 2 * asin(sqrt(a)) \n",
    "    km = 6367 * c\n",
    "    return km\n",
    "\n",
    "#This will be slow in pyspark due to context switching JVM and pyspark\n",
    "#Better to use UDF, or use Scala etc\n",
    "def dist_to_ams(lat,lon):\n",
    "    return haversine(float(4.761392), float(52.308871), float(lon),float(lat))"
   ]
  },
  {
   "cell_type": "code",
   "execution_count": 25,
   "metadata": {
    "collapsed": false,
    "deletable": true,
    "editable": true
   },
   "outputs": [],
   "source": [
    "from pyspark.sql.functions import udf\n",
    "from pyspark.sql.types import FloatType\n",
    "\n",
    "udf_func = udf(dist_to_ams, FloatType())\n",
    "tracks_df = tracks_df.withColumn(\"distance_to_ams\", \\\n",
    "                            udf_func(tracks_df.lat,tracks_df.lon))\n"
   ]
  },
  {
   "cell_type": "code",
   "execution_count": 26,
   "metadata": {
    "collapsed": false,
    "deletable": true,
    "editable": true,
    "scrolled": false
   },
   "outputs": [
    {
     "data": {
      "text/html": [
       "<div>\n",
       "<table border=\"1\" class=\"dataframe\">\n",
       "  <thead>\n",
       "    <tr style=\"text-align: right;\">\n",
       "      <th></th>\n",
       "      <th>index</th>\n",
       "      <th>na</th>\n",
       "      <th>altitude</th>\n",
       "      <th>dest</th>\n",
       "      <th>heading</th>\n",
       "      <th>flight</th>\n",
       "      <th>na2</th>\n",
       "      <th>landed</th>\n",
       "      <th>time</th>\n",
       "      <th>lat</th>\n",
       "      <th>...</th>\n",
       "      <th>na3</th>\n",
       "      <th>org</th>\n",
       "      <th>na4</th>\n",
       "      <th>registration</th>\n",
       "      <th>flight2</th>\n",
       "      <th>speed</th>\n",
       "      <th>na6</th>\n",
       "      <th>planetype</th>\n",
       "      <th>altitude_delta</th>\n",
       "      <th>distance_to_ams</th>\n",
       "    </tr>\n",
       "  </thead>\n",
       "  <tbody>\n",
       "    <tr>\n",
       "      <th>0</th>\n",
       "      <td>206</td>\n",
       "      <td>0</td>\n",
       "      <td>23300</td>\n",
       "      <td>AMS</td>\n",
       "      <td>65</td>\n",
       "      <td>KL214</td>\n",
       "      <td>a1ed142</td>\n",
       "      <td>0</td>\n",
       "      <td>1466724679</td>\n",
       "      <td>49.265800</td>\n",
       "      <td>...</td>\n",
       "      <td>484CBB</td>\n",
       "      <td>YVR</td>\n",
       "      <td>T-KNOW2</td>\n",
       "      <td>PH-BVG</td>\n",
       "      <td>KLM214</td>\n",
       "      <td>423</td>\n",
       "      <td>2623</td>\n",
       "      <td>B77W</td>\n",
       "      <td>1856</td>\n",
       "      <td>7646.336426</td>\n",
       "    </tr>\n",
       "    <tr>\n",
       "      <th>1</th>\n",
       "      <td>91</td>\n",
       "      <td>0</td>\n",
       "      <td>24425</td>\n",
       "      <td>AMS</td>\n",
       "      <td>66</td>\n",
       "      <td>KL214</td>\n",
       "      <td>a1ed142</td>\n",
       "      <td>0</td>\n",
       "      <td>1466724740</td>\n",
       "      <td>49.314602</td>\n",
       "      <td>...</td>\n",
       "      <td>484CBB</td>\n",
       "      <td>YVR</td>\n",
       "      <td>T-KNOW2</td>\n",
       "      <td>PH-BVG</td>\n",
       "      <td>KLM214</td>\n",
       "      <td>450</td>\n",
       "      <td>2623</td>\n",
       "      <td>B77W</td>\n",
       "      <td>768</td>\n",
       "      <td>7635.384277</td>\n",
       "    </tr>\n",
       "    <tr>\n",
       "      <th>2</th>\n",
       "      <td>389</td>\n",
       "      <td>0</td>\n",
       "      <td>25200</td>\n",
       "      <td>AMS</td>\n",
       "      <td>66</td>\n",
       "      <td>KL214</td>\n",
       "      <td>a1ed142</td>\n",
       "      <td>0</td>\n",
       "      <td>1466724805</td>\n",
       "      <td>49.369801</td>\n",
       "      <td>...</td>\n",
       "      <td>484CBB</td>\n",
       "      <td>YVR</td>\n",
       "      <td>T-KNOW2</td>\n",
       "      <td>PH-BVG</td>\n",
       "      <td>KLM214</td>\n",
       "      <td>486</td>\n",
       "      <td>2623</td>\n",
       "      <td>B77W</td>\n",
       "      <td>1152</td>\n",
       "      <td>7622.853027</td>\n",
       "    </tr>\n",
       "    <tr>\n",
       "      <th>3</th>\n",
       "      <td>401</td>\n",
       "      <td>0</td>\n",
       "      <td>26775</td>\n",
       "      <td>AMS</td>\n",
       "      <td>66</td>\n",
       "      <td>KL214</td>\n",
       "      <td>a1ed142</td>\n",
       "      <td>0</td>\n",
       "      <td>1466724865</td>\n",
       "      <td>49.427601</td>\n",
       "      <td>...</td>\n",
       "      <td>484CBB</td>\n",
       "      <td>YVR</td>\n",
       "      <td>T-KNOW2</td>\n",
       "      <td>PH-BVG</td>\n",
       "      <td>KLM214</td>\n",
       "      <td>503</td>\n",
       "      <td>2623</td>\n",
       "      <td>B77W</td>\n",
       "      <td>1408</td>\n",
       "      <td>7609.669434</td>\n",
       "    </tr>\n",
       "    <tr>\n",
       "      <th>4</th>\n",
       "      <td>25</td>\n",
       "      <td>0</td>\n",
       "      <td>28350</td>\n",
       "      <td>AMS</td>\n",
       "      <td>67</td>\n",
       "      <td>KL214</td>\n",
       "      <td>a1ed142</td>\n",
       "      <td>0</td>\n",
       "      <td>1466724930</td>\n",
       "      <td>49.488098</td>\n",
       "      <td>...</td>\n",
       "      <td>484CBB</td>\n",
       "      <td>YVR</td>\n",
       "      <td>T-KNOW2</td>\n",
       "      <td>PH-BVG</td>\n",
       "      <td>KLM214</td>\n",
       "      <td>517</td>\n",
       "      <td>2623</td>\n",
       "      <td>B77W</td>\n",
       "      <td>1152</td>\n",
       "      <td>7595.764160</td>\n",
       "    </tr>\n",
       "  </tbody>\n",
       "</table>\n",
       "<p>5 rows × 21 columns</p>\n",
       "</div>"
      ],
      "text/plain": [
       "   index na  altitude dest  heading flight      na2  landed        time  \\\n",
       "0    206  0     23300  AMS       65  KL214  a1ed142       0  1466724679   \n",
       "1     91  0     24425  AMS       66  KL214  a1ed142       0  1466724740   \n",
       "2    389  0     25200  AMS       66  KL214  a1ed142       0  1466724805   \n",
       "3    401  0     26775  AMS       66  KL214  a1ed142       0  1466724865   \n",
       "4     25  0     28350  AMS       67  KL214  a1ed142       0  1466724930   \n",
       "\n",
       "         lat       ...            na3  org      na4 registration flight2  \\\n",
       "0  49.265800       ...         484CBB  YVR  T-KNOW2       PH-BVG  KLM214   \n",
       "1  49.314602       ...         484CBB  YVR  T-KNOW2       PH-BVG  KLM214   \n",
       "2  49.369801       ...         484CBB  YVR  T-KNOW2       PH-BVG  KLM214   \n",
       "3  49.427601       ...         484CBB  YVR  T-KNOW2       PH-BVG  KLM214   \n",
       "4  49.488098       ...         484CBB  YVR  T-KNOW2       PH-BVG  KLM214   \n",
       "\n",
       "  speed   na6 planetype altitude_delta  distance_to_ams  \n",
       "0   423  2623      B77W           1856      7646.336426  \n",
       "1   450  2623      B77W            768      7635.384277  \n",
       "2   486  2623      B77W           1152      7622.853027  \n",
       "3   503  2623      B77W           1408      7609.669434  \n",
       "4   517  2623      B77W           1152      7595.764160  \n",
       "\n",
       "[5 rows x 21 columns]"
      ]
     },
     "execution_count": 26,
     "metadata": {},
     "output_type": "execute_result"
    }
   ],
   "source": [
    "#Distance is great, however, after landing, the next row is the NEXT\n",
    "# flight\n",
    "df = tracks_df.where(\"flight == 'KL214'\").toPandas().sort_values(['time']).reset_index()\n",
    "df.head(5)"
   ]
  },
  {
   "cell_type": "code",
   "execution_count": null,
   "metadata": {
    "collapsed": false,
    "deletable": true,
    "editable": true
   },
   "outputs": [],
   "source": [
    "#just a test to compare rows\n",
    "from pyspark.sql.functions import col, lag\n",
    "from pyspark.sql.window import Window\n",
    "\n",
    "df = (\n",
    "    sc.parallelize([\n",
    "        (134, 30, \"2016-07-02 12:01:40\"), (134, 32, \"2016-07-02 12:21:23\"),\n",
    "        (125, 30, \"2016-07-02 13:22:56\"), (125, 32, \"2016-07-02 13:27:07\"),\n",
    "    ]).toDF([\"itemid\", \"eventid\", \"timestamp\"])\n",
    "    .withColumn(\"timestamp\", col(\"timestamp\").cast(\"timestamp\"))\n",
    ")\n",
    "\n",
    "w = Window.partitionBy(\"itemid\").orderBy(\"timestamp\")\n",
    "\n",
    "diff = col(\"timestamp\").cast(\"long\") - lag(\"timestamp\", 1).over(w).cast(\"long\")\n",
    "\n",
    "df = df.withColumn(\"diff\", diff)\n",
    "df.show()"
   ]
  },
  {
   "cell_type": "code",
   "execution_count": null,
   "metadata": {
    "collapsed": false,
    "deletable": true,
    "editable": true
   },
   "outputs": [],
   "source": [
    "#Lets create a delta to get the landing times\n",
    "from pyspark.sql.functions import col, lag\n",
    "from pyspark.sql.window import Window\n",
    "\n",
    "df = (\n",
    "    sc.parallelize([\n",
    "        ('kl123', 0, \"2016-07-02 12:01:40\"), ('kl123', 0, \"2016-07-02 12:21:23\"),\n",
    "        ('kl123', 1, \"2016-07-02 13:22:56\"), ('kl123', 1, \"2016-07-02 13:27:07\"),\n",
    "    ]).toDF([\"itemid\", \"landed\", \"timestamp\"])\n",
    "    .withColumn(\"timestamp\", col(\"timestamp\").cast(\"timestamp\"))\n",
    ")\n",
    "\n",
    "w = Window.partitionBy(\"itemid\").orderBy(\"timestamp\")\n",
    "\n",
    "diff = col(\"landed\").cast(\"int\") - lag(\"landed\", 1).over(w).cast(\"int\")\n",
    "\n",
    "df = df.withColumn(\"diff\", diff)\n",
    "df.show()"
   ]
  },
  {
   "cell_type": "code",
   "execution_count": 27,
   "metadata": {
    "collapsed": false,
    "deletable": true,
    "editable": true
   },
   "outputs": [
    {
     "name": "stdout",
     "output_type": "stream",
     "text": [
      "+------+------------+------+--------------+\n",
      "|flight|registration|runway|touchdown_time|\n",
      "+------+------------+------+--------------+\n",
      "|CND518|      PH-CDE|     2|    1466792627|\n",
      "| DL138|      N836MH|   171|    1466760692|\n",
      "|MP6742|      PH-MCP|   182|    1466778285|\n",
      "|KL1742|      PH-KZD|   182|    1466775981|\n",
      "|U28881|      G-EZDO|   132|    1466793964|\n",
      "|KL1134|      PH-BGX|   151|    1466796510|\n",
      "|KL1800|      PH-BGH|   182|    1466801922|\n",
      "|KL1858|      PH-KZP|   182|    1466777442|\n",
      "| KL888|      PH-BFP|   132|    1466785238|\n",
      "| OR288|      PH-TFD|   182|    1466767433|\n",
      "|KL1618|      PH-BXH|   165|    1466749916|\n",
      "|KL1790|      PH-BXC|   182|    1466749726|\n",
      "| KL736|      PH-BFA|   182|    1466743064|\n",
      "|U27908|      G-EZWP|   177|    1466800107|\n",
      "|KL1168|      PH-BCB|   160|    1466775337|\n",
      "|KL1010|      PH-BGO|   154|    1466769724|\n",
      "| LH992|      D-AIRY|   182|    1466770692|\n",
      "| LX736|      HB-IPV|   160|    1466799875|\n",
      "| BT621|      YL-BBE|   154|    1466751644|\n",
      "|U26771|      G-EZAP|   267|    1466763353|\n",
      "+------+------------+------+--------------+\n",
      "only showing top 20 rows\n",
      "\n"
     ]
    }
   ],
   "source": [
    "#now lets adds column to show the landing moment, so delta of the landed column should be +1 .\n",
    "#\n",
    "from pyspark.sql.functions import col, lag\n",
    "from pyspark.sql.window import Window\n",
    "\n",
    "\n",
    "w = Window.partitionBy(\"flight\").orderBy(\"time\")\n",
    "\n",
    "diff = col(\"landed\").cast(\"int\") - lag(\"landed\", 1).over(w).cast(\"int\")\n",
    "\n",
    "tracks_touchdown_df = tracks_df.select([\"flight\",\"time\",\"heading\",\"landed\",\"registration\"]).withColumn(\"touchdown\", diff)\n",
    "tracks_touchdown_df = tracks_touchdown_df.where(\"touchdown == 1\").select(col(\"flight\"), \\\n",
    "                                                                         col(\"registration\"),\\\n",
    "                                                                         col(\"heading\").alias(\"runway\"), \\\n",
    "                                                                         col(\"time\").alias(\"touchdown_time\") )\n",
    "tracks_touchdown_df.show()"
   ]
  },
  {
   "cell_type": "code",
   "execution_count": 28,
   "metadata": {
    "collapsed": false,
    "deletable": true,
    "editable": true
   },
   "outputs": [
    {
     "name": "stdout",
     "output_type": "stream",
     "text": [
      "+------+-----+\n",
      "|flight|count|\n",
      "+------+-----+\n",
      "|HV6118|    2|\n",
      "|HV5134|    2|\n",
      "|KL1412|    2|\n",
      "|HV6332|    2|\n",
      "|HV5356|   19|\n",
      "|HV5314|    2|\n",
      "| TP668|    2|\n",
      "|HV6146|    2|\n",
      "+------+-----+\n",
      "\n"
     ]
    }
   ],
   "source": [
    "#check for multiple landings 1 flight\n",
    "#tracks_touchdown_df.groupby([\"flight\",\"registration\"]).count().where(\"count > 1\").show()\n",
    "tracks_touchdown_df.groupby([\"flight\"]).count().where(\"count > 1\").show()"
   ]
  },
  {
   "cell_type": "code",
   "execution_count": 29,
   "metadata": {
    "collapsed": false,
    "deletable": true,
    "editable": true
   },
   "outputs": [],
   "source": [
    "#remove them\n",
    "tracks_touchdown_df = tracks_touchdown_df.where(\"flight != 'HV6118' and flight != 'HV5134' and flight != 'KL1412' and flight != 'HV6332' and flight != 'HV5356' and flight != 'HV5314' and flight != 'TP668' and flight != 'HV6146' \")"
   ]
  },
  {
   "cell_type": "code",
   "execution_count": 30,
   "metadata": {
    "collapsed": false,
    "deletable": true,
    "editable": true
   },
   "outputs": [
    {
     "name": "stdout",
     "output_type": "stream",
     "text": [
      "+------+-----+\n",
      "|flight|count|\n",
      "+------+-----+\n",
      "+------+-----+\n",
      "\n"
     ]
    }
   ],
   "source": [
    "#check again\n",
    "tracks_touchdown_df.groupby([\"flight\"]).count().where(\"count > 1\").show()"
   ]
  },
  {
   "cell_type": "code",
   "execution_count": 31,
   "metadata": {
    "collapsed": false,
    "deletable": true,
    "editable": true
   },
   "outputs": [],
   "source": [
    "#join tracks with our landing table and add column showing time till land\n",
    "join_df = tracks_df.join(tracks_touchdown_df,tracks_df.flight == tracks_touchdown_df.flight)\n",
    "join_df = join_df.withColumn(\"time_till_landing\",col(\"touchdown_time\") - col(\"time\"))"
   ]
  },
  {
   "cell_type": "code",
   "execution_count": 32,
   "metadata": {
    "collapsed": false,
    "deletable": true,
    "editable": true
   },
   "outputs": [],
   "source": [
    "#get rid of > 7000 sec , so we make sure flights on the next day are not using the landing of current day\n",
    "#join_df = join_df.where(\"time_till_landing > -7000\")\n",
    "join_df = join_df.where(\"time_till_landing > 0\") #ML REQUIRES POSITIVES!\n",
    "join_df = join_df.withColumn(\"time_till_landing_minutes\",join_df.time_till_landing / 60)"
   ]
  },
  {
   "cell_type": "code",
   "execution_count": 67,
   "metadata": {
    "collapsed": false,
    "deletable": true,
    "editable": true
   },
   "outputs": [
    {
     "data": {
      "text/plain": [
       "747"
      ]
     },
     "execution_count": 67,
     "metadata": {},
     "output_type": "execute_result"
    }
   ],
   "source": [
    "tracks_df.select(\"flight\").distinct().count() #747 planes, might be all"
   ]
  },
  {
   "cell_type": "code",
   "execution_count": 73,
   "metadata": {
    "collapsed": false,
    "deletable": true,
    "editable": true
   },
   "outputs": [
    {
     "data": {
      "text/plain": [
       "[Row(na='0', altitude=30000, dest='AMS', heading=295, flight='KL872', na2='a1ec43a', landed=0, time=1466724676, lat=31.64590072631836, lon=68.9677963256836, na3='48455E', org='DEL', na4='F-OPFA3', registration='PH-BVA', flight2='KLM872', speed=483, na6='0576', planetype='B77W', altitude_delta=0, distance_to_ams=5565.60791015625, flight='KL872', registration='PH-BVA', runway=143, touchdown_time=1466748348, time_till_landing=23672, time_till_landing_minutes=394.53333333333336)]"
      ]
     },
     "execution_count": 73,
     "metadata": {},
     "output_type": "execute_result"
    }
   ],
   "source": [
    "df = join_df.toPandas().query(\"flight == 'KL214'\").sort_values(['time']).reset_index()\n",
    "join_df.take(1)"
   ]
  },
  {
   "cell_type": "markdown",
   "metadata": {
    "deletable": true,
    "editable": true
   },
   "source": [
    "### Machine learning\n"
   ]
  },
  {
   "cell_type": "code",
   "execution_count": 69,
   "metadata": {
    "collapsed": false,
    "deletable": true,
    "editable": true
   },
   "outputs": [],
   "source": [
    "\n",
    "#Create our machine learing dataset\n",
    "ml_df = join_df.select(['time_till_landing_minutes','distance_to_ams','speed','altitude','heading','runway'])\n",
    "#ml_df = ml_df.withColumn('id',fn.monotonically_increasing_id())\n",
    "ml_df.toPandas()"
   ]
  },
  {
   "cell_type": "code",
   "execution_count": 35,
   "metadata": {
    "collapsed": true
   },
   "outputs": [],
   "source": [
    "training_data, testing_data = ml_df.randomSplit([0.7, 0.3])"
   ]
  },
  {
   "cell_type": "code",
   "execution_count": null,
   "metadata": {
    "collapsed": true
   },
   "outputs": [],
   "source": [
    "#ml_df.toPandas().to_csv('/root/fr24/fr24.csv', sep=',',index=False)"
   ]
  },
  {
   "cell_type": "code",
   "execution_count": 41,
   "metadata": {
    "collapsed": false,
    "deletable": true,
    "editable": true
   },
   "outputs": [],
   "source": [
    "from pyspark.ml.feature import StringIndexer\n",
    "from pyspark.ml import Pipeline\n",
    "from pyspark.ml.feature import VectorAssembler\n",
    "from pyspark.ml.regression import DecisionTreeRegressor\n",
    "from pyspark.ml.evaluation import RegressionEvaluator\n",
    "\n",
    "# we need to convert categorical variables to numeric ones first\n",
    "#isLondonIndexer = StringIndexer(inputCol=\"isLondon\", outputCol=\"isLondonI\")\n",
    "#durationIndexer = StringIndexer(inputCol=\"duration\", outputCol=\"durationI\")\n",
    "#typeIndexer = StringIndexer(inputCol=\"type\", outputCol=\"typeI\")\n",
    "# then we convert these into a feature vector\n",
    "assembler = VectorAssembler(inputCols=[\"distance_to_ams\",\"speed\",\"altitude\",\"heading\",\"runway\"],outputCol=\"features\")\n",
    "# and we pick a simple model to test out\n",
    "Regressor = DecisionTreeRegressor(featuresCol=\"features\",labelCol=\"time_till_landing_minutes\",maxDepth=25)\n",
    "\n",
    "#pipeline = Pipeline(stages=[isLondonIndexer,durationIndexer,typeIndexer,assembler,Regressor])\n",
    "pipeline = Pipeline(stages=[assembler,Regressor])\n",
    "model = pipeline.fit(training_data)\n",
    "\n"
   ]
  },
  {
   "cell_type": "code",
   "execution_count": 42,
   "metadata": {
    "collapsed": true
   },
   "outputs": [],
   "source": [
    "predictions = model.transform(testing_data)\n",
    "modelEvaluator = RegressionEvaluator(labelCol=\"time_till_landing_minutes\")\n",
    "modelError = modelEvaluator.evaluate(predictions) #rmse by default\n",
    "modelError = modelEvaluator.evaluate(predictions,{modelEvaluator.metricName: \"mae\"})"
   ]
  },
  {
   "cell_type": "code",
   "execution_count": 43,
   "metadata": {
    "collapsed": false
   },
   "outputs": [
    {
     "data": {
      "text/plain": [
       "5.01783782677232"
      ]
     },
     "execution_count": 43,
     "metadata": {},
     "output_type": "execute_result"
    }
   ],
   "source": [
    "modelError #5mins deviation, at some point it was 4,5 minutes. not bad."
   ]
  },
  {
   "cell_type": "code",
   "execution_count": 70,
   "metadata": {
    "collapsed": false
   },
   "outputs": [],
   "source": [
    "#predictions.toPandas().head(5) #show(100)"
   ]
  },
  {
   "cell_type": "markdown",
   "metadata": {
    "deletable": true,
    "editable": true
   },
   "source": [
    "### Visualisations"
   ]
  },
  {
   "cell_type": "code",
   "execution_count": 45,
   "metadata": {
    "collapsed": false,
    "deletable": true,
    "editable": true
   },
   "outputs": [
    {
     "data": {
      "text/html": [
       "\n",
       "    <div class=\"bk-root\">\n",
       "        <a href=\"http://bokeh.pydata.org\" target=\"_blank\" class=\"bk-logo bk-logo-small bk-logo-notebook\"></a>\n",
       "        <span id=\"db1fe886-a60a-4e39-a001-becbf04678de\">Loading BokehJS ...</span>\n",
       "    </div>"
      ]
     },
     "metadata": {},
     "output_type": "display_data"
    },
    {
     "data": {
      "application/javascript": [
       "\n",
       "(function(global) {\n",
       "  function now() {\n",
       "    return new Date();\n",
       "  }\n",
       "\n",
       "  var force = true;\n",
       "\n",
       "  if (typeof (window._bokeh_onload_callbacks) === \"undefined\" || force === true) {\n",
       "    window._bokeh_onload_callbacks = [];\n",
       "    window._bokeh_is_loading = undefined;\n",
       "  }\n",
       "\n",
       "\n",
       "  \n",
       "  if (typeof (window._bokeh_timeout) === \"undefined\" || force === true) {\n",
       "    window._bokeh_timeout = Date.now() + 5000;\n",
       "    window._bokeh_failed_load = false;\n",
       "  }\n",
       "\n",
       "  var NB_LOAD_WARNING = {'data': {'text/html':\n",
       "     \"<div style='background-color: #fdd'>\\n\"+\n",
       "     \"<p>\\n\"+\n",
       "     \"BokehJS does not appear to have successfully loaded. If loading BokehJS from CDN, this \\n\"+\n",
       "     \"may be due to a slow or bad network connection. Possible fixes:\\n\"+\n",
       "     \"</p>\\n\"+\n",
       "     \"<ul>\\n\"+\n",
       "     \"<li>re-rerun `output_notebook()` to attempt to load from CDN again, or</li>\\n\"+\n",
       "     \"<li>use INLINE resources instead, as so:</li>\\n\"+\n",
       "     \"</ul>\\n\"+\n",
       "     \"<code>\\n\"+\n",
       "     \"from bokeh.resources import INLINE\\n\"+\n",
       "     \"output_notebook(resources=INLINE)\\n\"+\n",
       "     \"</code>\\n\"+\n",
       "     \"</div>\"}};\n",
       "\n",
       "  function display_loaded() {\n",
       "    if (window.Bokeh !== undefined) {\n",
       "      document.getElementById(\"db1fe886-a60a-4e39-a001-becbf04678de\").textContent = \"BokehJS successfully loaded.\";\n",
       "    } else if (Date.now() < window._bokeh_timeout) {\n",
       "      setTimeout(display_loaded, 100)\n",
       "    }\n",
       "  }\n",
       "\n",
       "  function run_callbacks() {\n",
       "    window._bokeh_onload_callbacks.forEach(function(callback) { callback() });\n",
       "    delete window._bokeh_onload_callbacks\n",
       "    console.info(\"Bokeh: all callbacks have finished\");\n",
       "  }\n",
       "\n",
       "  function load_libs(js_urls, callback) {\n",
       "    window._bokeh_onload_callbacks.push(callback);\n",
       "    if (window._bokeh_is_loading > 0) {\n",
       "      console.log(\"Bokeh: BokehJS is being loaded, scheduling callback at\", now());\n",
       "      return null;\n",
       "    }\n",
       "    if (js_urls == null || js_urls.length === 0) {\n",
       "      run_callbacks();\n",
       "      return null;\n",
       "    }\n",
       "    console.log(\"Bokeh: BokehJS not loaded, scheduling load and callback at\", now());\n",
       "    window._bokeh_is_loading = js_urls.length;\n",
       "    for (var i = 0; i < js_urls.length; i++) {\n",
       "      var url = js_urls[i];\n",
       "      var s = document.createElement('script');\n",
       "      s.src = url;\n",
       "      s.async = false;\n",
       "      s.onreadystatechange = s.onload = function() {\n",
       "        window._bokeh_is_loading--;\n",
       "        if (window._bokeh_is_loading === 0) {\n",
       "          console.log(\"Bokeh: all BokehJS libraries loaded\");\n",
       "          run_callbacks()\n",
       "        }\n",
       "      };\n",
       "      s.onerror = function() {\n",
       "        console.warn(\"failed to load library \" + url);\n",
       "      };\n",
       "      console.log(\"Bokeh: injecting script tag for BokehJS library: \", url);\n",
       "      document.getElementsByTagName(\"head\")[0].appendChild(s);\n",
       "    }\n",
       "  };var element = document.getElementById(\"db1fe886-a60a-4e39-a001-becbf04678de\");\n",
       "  if (element == null) {\n",
       "    console.log(\"Bokeh: ERROR: autoload.js configured with elementid 'db1fe886-a60a-4e39-a001-becbf04678de' but no matching script tag was found. \")\n",
       "    return false;\n",
       "  }\n",
       "\n",
       "  var js_urls = [\"https://cdn.pydata.org/bokeh/release/bokeh-0.12.4.min.js\", \"https://cdn.pydata.org/bokeh/release/bokeh-widgets-0.12.4.min.js\"];\n",
       "\n",
       "  var inline_js = [\n",
       "    function(Bokeh) {\n",
       "      Bokeh.set_log_level(\"info\");\n",
       "    },\n",
       "    \n",
       "    function(Bokeh) {\n",
       "      \n",
       "      document.getElementById(\"db1fe886-a60a-4e39-a001-becbf04678de\").textContent = \"BokehJS is loading...\";\n",
       "    },\n",
       "    function(Bokeh) {\n",
       "      console.log(\"Bokeh: injecting CSS: https://cdn.pydata.org/bokeh/release/bokeh-0.12.4.min.css\");\n",
       "      Bokeh.embed.inject_css(\"https://cdn.pydata.org/bokeh/release/bokeh-0.12.4.min.css\");\n",
       "      console.log(\"Bokeh: injecting CSS: https://cdn.pydata.org/bokeh/release/bokeh-widgets-0.12.4.min.css\");\n",
       "      Bokeh.embed.inject_css(\"https://cdn.pydata.org/bokeh/release/bokeh-widgets-0.12.4.min.css\");\n",
       "    }\n",
       "  ];\n",
       "\n",
       "  function run_inline_js() {\n",
       "    \n",
       "    if ((window.Bokeh !== undefined) || (force === true)) {\n",
       "      for (var i = 0; i < inline_js.length; i++) {\n",
       "        inline_js[i](window.Bokeh);\n",
       "      }if (force === true) {\n",
       "        display_loaded();\n",
       "      }} else if (Date.now() < window._bokeh_timeout) {\n",
       "      setTimeout(run_inline_js, 100);\n",
       "    } else if (!window._bokeh_failed_load) {\n",
       "      console.log(\"Bokeh: BokehJS failed to load within specified timeout.\");\n",
       "      window._bokeh_failed_load = true;\n",
       "    } else if (force !== true) {\n",
       "      var cell = $(document.getElementById(\"db1fe886-a60a-4e39-a001-becbf04678de\")).parents('.cell').data().cell;\n",
       "      cell.output_area.append_execute_result(NB_LOAD_WARNING)\n",
       "    }\n",
       "\n",
       "  }\n",
       "\n",
       "  if (window._bokeh_is_loading === 0) {\n",
       "    console.log(\"Bokeh: BokehJS loaded, going straight to plotting\");\n",
       "    run_inline_js();\n",
       "  } else {\n",
       "    load_libs(js_urls, function() {\n",
       "      console.log(\"Bokeh: BokehJS plotting callback run at\", now());\n",
       "      run_inline_js();\n",
       "    });\n",
       "  }\n",
       "}(this));"
      ]
     },
     "metadata": {},
     "output_type": "display_data"
    }
   ],
   "source": [
    "%matplotlib inline\n",
    "import matplotlib.pyplot as plt\n",
    "plt.style.use('ggplot')\n",
    "\n",
    "import bokeh.charts as chrt\n",
    "from bokeh.io import output_notebook\n",
    "output_notebook()"
   ]
  },
  {
   "cell_type": "code",
   "execution_count": 46,
   "metadata": {
    "collapsed": false,
    "deletable": true,
    "editable": true
   },
   "outputs": [
    {
     "name": "stdout",
     "output_type": "stream",
     "text": [
      "+-------------------------+---------------+-----+--------+-------+------+\n",
      "|time_till_landing_minutes|distance_to_ams|speed|altitude|heading|runway|\n",
      "+-------------------------+---------------+-----+--------+-------+------+\n",
      "+-------------------------+---------------+-----+--------+-------+------+\n",
      "\n"
     ]
    }
   ],
   "source": [
    "ml_df.where(\"time_till_landing_minutes < 0\").show()"
   ]
  },
  {
   "cell_type": "code",
   "execution_count": 47,
   "metadata": {
    "collapsed": true,
    "deletable": true,
    "editable": true
   },
   "outputs": [],
   "source": [
    "hists = ml_df.select('time_till_landing_minutes').rdd.flatMap(\n",
    "       lambda row: row\n",
    ").histogram(20)"
   ]
  },
  {
   "cell_type": "code",
   "execution_count": 48,
   "metadata": {
    "collapsed": false,
    "deletable": true,
    "editable": true
   },
   "outputs": [
    {
     "data": {
      "text/plain": [
       "<matplotlib.text.Text at 0x7f16efecd048>"
      ]
     },
     "execution_count": 48,
     "metadata": {},
     "output_type": "execute_result"
    },
    {
     "data": {
      "image/png": "[encoded data removed]",
      "text/plain": [
       "<matplotlib.figure.Figure at 0x7f16ee8d90f0>"
      ]
     },
     "metadata": {},
     "output_type": "display_data"
    }
   ],
   "source": [
    "data_hist = {\n",
    "       'bins': hists[0][:-1],\n",
    "       'freq': hists[1]\n",
    "   }\n",
    "plt.bar(data_hist['bins'], data_hist['freq'], width=20)\n",
    "plt.title('Histogram of \\'time_till_landing\\'')\n"
   ]
  },
  {
   "cell_type": "code",
   "execution_count": 49,
   "metadata": {
    "collapsed": false,
    "deletable": true,
    "editable": true
   },
   "outputs": [
    {
     "data": {
      "text/html": [
       "\n",
       "\n",
       "    <div class=\"bk-root\">\n",
       "        <div class=\"bk-plotdiv\" id=\"e7783e9d-2c4a-427f-9dca-0e44688a20af\"></div>\n",
       "    </div>\n",
       "<script type=\"text/javascript\">\n",
       "  \n",
       "  (function(global) {\n",
       "    function now() {\n",
       "      return new Date();\n",
       "    }\n",
       "  \n",
       "    var force = false;\n",
       "  \n",
       "    if (typeof (window._bokeh_onload_callbacks) === \"undefined\" || force === true) {\n",
       "      window._bokeh_onload_callbacks = [];\n",
       "      window._bokeh_is_loading = undefined;\n",
       "    }\n",
       "  \n",
       "  \n",
       "    \n",
       "    if (typeof (window._bokeh_timeout) === \"undefined\" || force === true) {\n",
       "      window._bokeh_timeout = Date.now() + 0;\n",
       "      window._bokeh_failed_load = false;\n",
       "    }\n",
       "  \n",
       "    var NB_LOAD_WARNING = {'data': {'text/html':\n",
       "       \"<div style='background-color: #fdd'>\\n\"+\n",
       "       \"<p>\\n\"+\n",
       "       \"BokehJS does not appear to have successfully loaded. If loading BokehJS from CDN, this \\n\"+\n",
       "       \"may be due to a slow or bad network connection. Possible fixes:\\n\"+\n",
       "       \"</p>\\n\"+\n",
       "       \"<ul>\\n\"+\n",
       "       \"<li>re-rerun `output_notebook()` to attempt to load from CDN again, or</li>\\n\"+\n",
       "       \"<li>use INLINE resources instead, as so:</li>\\n\"+\n",
       "       \"</ul>\\n\"+\n",
       "       \"<code>\\n\"+\n",
       "       \"from bokeh.resources import INLINE\\n\"+\n",
       "       \"output_notebook(resources=INLINE)\\n\"+\n",
       "       \"</code>\\n\"+\n",
       "       \"</div>\"}};\n",
       "  \n",
       "    function display_loaded() {\n",
       "      if (window.Bokeh !== undefined) {\n",
       "        document.getElementById(\"e7783e9d-2c4a-427f-9dca-0e44688a20af\").textContent = \"BokehJS successfully loaded.\";\n",
       "      } else if (Date.now() < window._bokeh_timeout) {\n",
       "        setTimeout(display_loaded, 100)\n",
       "      }\n",
       "    }\n",
       "  \n",
       "    function run_callbacks() {\n",
       "      window._bokeh_onload_callbacks.forEach(function(callback) { callback() });\n",
       "      delete window._bokeh_onload_callbacks\n",
       "      console.info(\"Bokeh: all callbacks have finished\");\n",
       "    }\n",
       "  \n",
       "    function load_libs(js_urls, callback) {\n",
       "      window._bokeh_onload_callbacks.push(callback);\n",
       "      if (window._bokeh_is_loading > 0) {\n",
       "        console.log(\"Bokeh: BokehJS is being loaded, scheduling callback at\", now());\n",
       "        return null;\n",
       "      }\n",
       "      if (js_urls == null || js_urls.length === 0) {\n",
       "        run_callbacks();\n",
       "        return null;\n",
       "      }\n",
       "      console.log(\"Bokeh: BokehJS not loaded, scheduling load and callback at\", now());\n",
       "      window._bokeh_is_loading = js_urls.length;\n",
       "      for (var i = 0; i < js_urls.length; i++) {\n",
       "        var url = js_urls[i];\n",
       "        var s = document.createElement('script');\n",
       "        s.src = url;\n",
       "        s.async = false;\n",
       "        s.onreadystatechange = s.onload = function() {\n",
       "          window._bokeh_is_loading--;\n",
       "          if (window._bokeh_is_loading === 0) {\n",
       "            console.log(\"Bokeh: all BokehJS libraries loaded\");\n",
       "            run_callbacks()\n",
       "          }\n",
       "        };\n",
       "        s.onerror = function() {\n",
       "          console.warn(\"failed to load library \" + url);\n",
       "        };\n",
       "        console.log(\"Bokeh: injecting script tag for BokehJS library: \", url);\n",
       "        document.getElementsByTagName(\"head\")[0].appendChild(s);\n",
       "      }\n",
       "    };var element = document.getElementById(\"e7783e9d-2c4a-427f-9dca-0e44688a20af\");\n",
       "    if (element == null) {\n",
       "      console.log(\"Bokeh: ERROR: autoload.js configured with elementid 'e7783e9d-2c4a-427f-9dca-0e44688a20af' but no matching script tag was found. \")\n",
       "      return false;\n",
       "    }\n",
       "  \n",
       "    var js_urls = [];\n",
       "  \n",
       "    var inline_js = [\n",
       "      function(Bokeh) {\n",
       "        (function() {\n",
       "          var fn = function() {\n",
       "            var docs_json = {\"511b85c6-ee8a-4116-bc1a-c545879cad44\":{\"roots\":{\"references\":[{\"attributes\":{\"callback\":null,\"column_names\":[\"width\",\"line_color\",\"x\",\"fill_alpha\",\"line_alpha\",\"y\",\"label\",\"height\",\"color\"],\"data\":{\"bins\":[267.0566666666667],\"chart_index\":[{\"bins\":267.0566666666667}],\"color\":[\"#f22c40\"],\"fill_alpha\":[0.8],\"height\":[5222.0],\"label\":[{\"bins\":267.0566666666667}],\"line_alpha\":[1.0],\"line_color\":[\"white\"],\"width\":[0.8],\"x\":[\"267.056666667\"],\"y\":[2611.0]}},\"id\":\"9f336c3e-b16a-49ca-82ef-4a79d5dbf8d3\",\"type\":\"ColumnDataSource\"},{\"attributes\":{\"fill_alpha\":{\"field\":\"fill_alpha\"},\"fill_color\":{\"field\":\"color\"},\"height\":{\"field\":\"height\",\"units\":\"data\"},\"line_color\":{\"field\":\"line_color\"},\"width\":{\"field\":\"width\",\"units\":\"data\"},\"x\":{\"field\":\"x\"},\"y\":{\"field\":\"y\"}},\"id\":\"eb5a40db-df2f-48cf-920d-60036ef4a1ef\",\"type\":\"Rect\"},{\"attributes\":{\"data_source\":{\"id\":\"1183e756-924c-43df-be48-bca2e0ab7eb9\",\"type\":\"ColumnDataSource\"},\"glyph\":{\"id\":\"d17cce20-a843-4564-a2df-467ed360a727\",\"type\":\"Rect\"},\"hover_glyph\":null,\"nonselection_glyph\":null,\"selection_glyph\":null},\"id\":\"96c4f05a-35d2-4bb4-afb3-6d00d0f0595c\",\"type\":\"GlyphRenderer\"},{\"attributes\":{\"fill_alpha\":{\"field\":\"fill_alpha\"},\"fill_color\":{\"field\":\"color\"},\"height\":{\"field\":\"height\",\"units\":\"data\"},\"line_color\":{\"field\":\"line_color\"},\"width\":{\"field\":\"width\",\"units\":\"data\"},\"x\":{\"field\":\"x\"},\"y\":{\"field\":\"y\"}},\"id\":\"d913579f-c169-4d06-a873-2f6214ea7a23\",\"type\":\"Rect\"},{\"attributes\":{\"fill_alpha\":{\"field\":\"fill_alpha\"},\"fill_color\":{\"field\":\"color\"},\"height\":{\"field\":\"height\",\"units\":\"data\"},\"line_color\":{\"field\":\"line_color\"},\"width\":{\"field\":\"width\",\"units\":\"data\"},\"x\":{\"field\":\"x\"},\"y\":{\"field\":\"y\"}},\"id\":\"8ca97824-a687-4b12-96d2-d14e37b37940\",\"type\":\"Rect\"},{\"attributes\":{\"plot\":{\"id\":\"acc01d41-06e1-4d84-b6ba-5ce60be38b32\",\"subtype\":\"Chart\",\"type\":\"Plot\"}},\"id\":\"16507533-b2ed-4740-97c3-030352448044\",\"type\":\"WheelZoomTool\"},{\"attributes\":{},\"id\":\"ea248b51-5855-40ac-8e79-ca2a777b3ed5\",\"type\":\"ToolEvents\"},{\"attributes\":{\"data_source\":{\"id\":\"258e3f67-1558-4c6f-8897-e3600a11d95b\",\"type\":\"ColumnDataSource\"},\"glyph\":{\"id\":\"14f4b21c-9bdb-439d-9438-543bf4d9ffec\",\"type\":\"Rect\"},\"hover_glyph\":null,\"nonselection_glyph\":null,\"selection_glyph\":null},\"id\":\"e10c18a4-0219-40dd-b8c7-ddc556fb8a65\",\"type\":\"GlyphRenderer\"},{\"attributes\":{\"plot\":{\"id\":\"acc01d41-06e1-4d84-b6ba-5ce60be38b32\",\"subtype\":\"Chart\",\"type\":\"Plot\"}},\"id\":\"9037d9cb-69e2-4d1a-93ea-52dd75e41d6b\",\"type\":\"PanTool\"},{\"attributes\":{\"dimension\":1,\"plot\":{\"id\":\"acc01d41-06e1-4d84-b6ba-5ce60be38b32\",\"subtype\":\"Chart\",\"type\":\"Plot\"},\"ticker\":{\"id\":\"29a6f3db-c62d-4674-88f7-a7aed49cc45e\",\"type\":\"BasicTicker\"}},\"id\":\"6f173ca7-10d8-415f-8c4a-ec2d10888626\",\"type\":\"Grid\"},{\"attributes\":{\"callback\":null,\"column_names\":[\"width\",\"line_color\",\"x\",\"fill_alpha\",\"line_alpha\",\"y\",\"label\",\"height\",\"color\"],\"data\":{\"bins\":[133.80333333333334],\"chart_index\":[{\"bins\":133.80333333333334}],\"color\":[\"#f22c40\"],\"fill_alpha\":[0.8],\"height\":[9097.0],\"label\":[{\"bins\":133.80333333333334}],\"line_alpha\":[1.0],\"line_color\":[\"white\"],\"width\":[0.8],\"x\":[\"133.803333333\"],\"y\":[4548.5]}},\"id\":\"997502bc-bbe7-49c2-8945-f30aa12b495e\",\"type\":\"ColumnDataSource\"},{\"attributes\":{\"callback\":null,\"column_names\":[\"width\",\"line_color\",\"x\",\"fill_alpha\",\"line_alpha\",\"y\",\"label\",\"height\",\"color\"],\"data\":{\"bins\":[666.8166666666666],\"chart_index\":[{\"bins\":666.8166666666666}],\"color\":[\"#f22c40\"],\"fill_alpha\":[0.8],\"height\":[275.0],\"label\":[{\"bins\":666.8166666666666}],\"line_alpha\":[1.0],\"line_color\":[\"white\"],\"width\":[0.8],\"x\":[\"666.816666667\"],\"y\":[137.5]}},\"id\":\"add5e693-fad4-4a3c-acce-29ea43d55607\",\"type\":\"ColumnDataSource\"},{\"attributes\":{\"callback\":null,\"column_names\":[\"width\",\"line_color\",\"x\",\"fill_alpha\",\"line_alpha\",\"y\",\"label\",\"height\",\"color\"],\"data\":{\"bins\":[466.93666666666667],\"chart_index\":[{\"bins\":466.93666666666667}],\"color\":[\"#f22c40\"],\"fill_alpha\":[0.8],\"height\":[1981.0],\"label\":[{\"bins\":466.93666666666667}],\"line_alpha\":[1.0],\"line_color\":[\"white\"],\"width\":[0.8],\"x\":[\"466.936666667\"],\"y\":[990.5]}},\"id\":\"c210a5a1-823f-473a-a203-4d1eadc3ba43\",\"type\":\"ColumnDataSource\"},{\"attributes\":{\"callback\":null,\"column_names\":[\"width\",\"line_color\",\"x\",\"fill_alpha\",\"line_alpha\",\"y\",\"label\",\"height\",\"color\"],\"data\":{\"bins\":[999.9499999999999],\"chart_index\":[{\"bins\":999.9499999999999}],\"color\":[\"#f22c40\"],\"fill_alpha\":[0.8],\"height\":[63.0],\"label\":[{\"bins\":999.9499999999999}],\"line_alpha\":[1.0],\"line_color\":[\"white\"],\"width\":[0.8],\"x\":[\"999.95\"],\"y\":[31.5]}},\"id\":\"1c247fb0-f11d-472f-8a1f-dbfe86ad019a\",\"type\":\"ColumnDataSource\"},{\"attributes\":{\"label\":{\"value\":\"1133.20333333\"},\"renderers\":[{\"id\":\"ccb01665-fbd1-431f-aa44-337654a571d4\",\"type\":\"GlyphRenderer\"}]},\"id\":\"ced8d18a-a5af-4fac-82a6-ae661e033412\",\"type\":\"LegendItem\"},{\"attributes\":{\"callback\":null,\"column_names\":[\"width\",\"line_color\",\"x\",\"fill_alpha\",\"line_alpha\",\"y\",\"label\",\"height\",\"color\"],\"data\":{\"bins\":[933.3233333333333],\"chart_index\":[{\"bins\":933.3233333333333}],\"color\":[\"#f22c40\"],\"fill_alpha\":[0.8],\"height\":[63.0],\"label\":[{\"bins\":933.3233333333333}],\"line_alpha\":[1.0],\"line_color\":[\"white\"],\"width\":[0.8],\"x\":[\"933.323333333\"],\"y\":[31.5]}},\"id\":\"40878bc6-e9c3-4e0c-9f5d-3d36af5ca5c4\",\"type\":\"ColumnDataSource\"},{\"attributes\":{\"data_source\":{\"id\":\"c3df8d8a-5669-4174-a704-61c83637978f\",\"type\":\"ColumnDataSource\"},\"glyph\":{\"id\":\"c4ab6e21-4930-4061-82bc-6f10490720db\",\"type\":\"Rect\"},\"hover_glyph\":null,\"nonselection_glyph\":null,\"selection_glyph\":null},\"id\":\"2013f818-e22c-4143-a728-775c02a7afed\",\"type\":\"GlyphRenderer\"},{\"attributes\":{\"data_source\":{\"id\":\"ebaf2d23-7823-4ca5-8f89-97741c20de50\",\"type\":\"ColumnDataSource\"},\"glyph\":{\"id\":\"f7bee140-0d61-4d83-a764-47aaebce0d31\",\"type\":\"Rect\"},\"hover_glyph\":null,\"nonselection_glyph\":null,\"selection_glyph\":null},\"id\":\"1a12bd64-69c4-4c6f-89e3-aadfd6e9a4af\",\"type\":\"GlyphRenderer\"},{\"attributes\":{\"callback\":null,\"column_names\":[\"width\",\"line_color\",\"x\",\"fill_alpha\",\"line_alpha\",\"y\",\"label\",\"height\",\"color\"],\"data\":{\"bins\":[1266.4566666666667],\"chart_index\":[{\"bins\":1266.4566666666667}],\"color\":[\"#f22c40\"],\"fill_alpha\":[0.8],\"height\":[21.0],\"label\":[{\"bins\":1266.4566666666667}],\"line_alpha\":[1.0],\"line_color\":[\"white\"],\"width\":[0.8],\"x\":[\"1266.45666667\"],\"y\":[10.5]}},\"id\":\"c3df8d8a-5669-4174-a704-61c83637978f\",\"type\":\"ColumnDataSource\"},{\"attributes\":{\"plot\":{\"id\":\"acc01d41-06e1-4d84-b6ba-5ce60be38b32\",\"subtype\":\"Chart\",\"type\":\"Plot\"}},\"id\":\"565209fc-5e09-4532-b832-685ca571fe98\",\"type\":\"ResetTool\"},{\"attributes\":{\"fill_alpha\":{\"field\":\"fill_alpha\"},\"fill_color\":{\"field\":\"color\"},\"height\":{\"field\":\"height\",\"units\":\"data\"},\"line_color\":{\"field\":\"line_color\"},\"width\":{\"field\":\"width\",\"units\":\"data\"},\"x\":{\"field\":\"x\"},\"y\":{\"field\":\"y\"}},\"id\":\"fada0759-e239-4a1c-a95d-dacd7b138ac1\",\"type\":\"Rect\"},{\"attributes\":{\"callback\":null,\"column_names\":[\"width\",\"line_color\",\"x\",\"fill_alpha\",\"line_alpha\",\"y\",\"label\",\"height\",\"color\"],\"data\":{\"bins\":[1066.5766666666666],\"chart_index\":[{\"bins\":1066.5766666666666}],\"color\":[\"#f22c40\"],\"fill_alpha\":[0.8],\"height\":[63.0],\"label\":[{\"bins\":1066.5766666666666}],\"line_alpha\":[1.0],\"line_color\":[\"white\"],\"width\":[0.8],\"x\":[\"1066.57666667\"],\"y\":[31.5]}},\"id\":\"258e3f67-1558-4c6f-8897-e3600a11d95b\",\"type\":\"ColumnDataSource\"},{\"attributes\":{\"callback\":null,\"column_names\":[\"width\",\"line_color\",\"x\",\"fill_alpha\",\"line_alpha\",\"y\",\"label\",\"height\",\"color\"],\"data\":{\"bins\":[866.6966666666666],\"chart_index\":[{\"bins\":866.6966666666666}],\"color\":[\"#f22c40\"],\"fill_alpha\":[0.8],\"height\":[17.0],\"label\":[{\"bins\":866.6966666666666}],\"line_alpha\":[1.0],\"line_color\":[\"white\"],\"width\":[0.8],\"x\":[\"866.696666667\"],\"y\":[8.5]}},\"id\":\"b5408943-89ae-4ce5-9a41-880233a012fd\",\"type\":\"ColumnDataSource\"},{\"attributes\":{\"label\":{\"value\":\"333.683333333\"},\"renderers\":[{\"id\":\"9403d8f2-26f5-46bb-83fc-4d86ef206738\",\"type\":\"GlyphRenderer\"}]},\"id\":\"4340ebdb-1dec-4a18-bd3d-2469a4827309\",\"type\":\"LegendItem\"},{\"attributes\":{\"below\":[{\"id\":\"4986741c-61c1-4866-9a6f-8b46559c9e30\",\"type\":\"CategoricalAxis\"}],\"css_classes\":null,\"left\":[{\"id\":\"44f4e4e2-a03e-4b0c-a8a6-eca7d4250ad5\",\"type\":\"LinearAxis\"}],\"renderers\":[{\"id\":\"c1717356-f7fe-4ac1-b5da-2ad6ff17428f\",\"type\":\"BoxAnnotation\"},{\"id\":\"a40aa041-e335-48d8-a68d-11dcede7d57d\",\"type\":\"GlyphRenderer\"},{\"id\":\"96c4f05a-35d2-4bb4-afb3-6d00d0f0595c\",\"type\":\"GlyphRenderer\"},{\"id\":\"fbb492b5-fce0-41ff-947a-53e57905ffcc\",\"type\":\"GlyphRenderer\"},{\"id\":\"086bc0ec-b577-49ad-83e2-e02181aa52ee\",\"type\":\"GlyphRenderer\"},{\"id\":\"c812a617-5f58-4144-89d8-f116160775ff\",\"type\":\"GlyphRenderer\"},{\"id\":\"9403d8f2-26f5-46bb-83fc-4d86ef206738\",\"type\":\"GlyphRenderer\"},{\"id\":\"b087b79f-9cba-41a7-a394-e23710a2f3c4\",\"type\":\"GlyphRenderer\"},{\"id\":\"4e3008bb-b3c2-4234-ab68-f9ddb839d2d9\",\"type\":\"GlyphRenderer\"},{\"id\":\"1a12bd64-69c4-4c6f-89e3-aadfd6e9a4af\",\"type\":\"GlyphRenderer\"},{\"id\":\"0a10414e-46d8-4d29-96f7-1b872f2cb1f9\",\"type\":\"GlyphRenderer\"},{\"id\":\"fc5678c7-7e3e-4abf-aa7f-1babfdfa82a9\",\"type\":\"GlyphRenderer\"},{\"id\":\"4740efd4-21a9-4332-9e40-e74e2b43a8eb\",\"type\":\"GlyphRenderer\"},{\"id\":\"95548c15-d384-4b55-8bb4-00cf35d8641d\",\"type\":\"GlyphRenderer\"},{\"id\":\"1f2b62cd-88f7-4abc-82e8-1e9b5bb5f0e2\",\"type\":\"GlyphRenderer\"},{\"id\":\"5502362d-f565-4843-a19a-8e2618f302f3\",\"type\":\"GlyphRenderer\"},{\"id\":\"89269f53-6279-485f-87d4-68897eb48bc5\",\"type\":\"GlyphRenderer\"},{\"id\":\"e10c18a4-0219-40dd-b8c7-ddc556fb8a65\",\"type\":\"GlyphRenderer\"},{\"id\":\"ccb01665-fbd1-431f-aa44-337654a571d4\",\"type\":\"GlyphRenderer\"},{\"id\":\"11b41956-ccc4-458f-a54d-48773a8ece69\",\"type\":\"GlyphRenderer\"},{\"id\":\"2013f818-e22c-4143-a728-775c02a7afed\",\"type\":\"GlyphRenderer\"},{\"id\":\"cae1e85f-b3ce-4884-bb8a-908689e101e7\",\"type\":\"Legend\"},{\"id\":\"4986741c-61c1-4866-9a6f-8b46559c9e30\",\"type\":\"CategoricalAxis\"},{\"id\":\"44f4e4e2-a03e-4b0c-a8a6-eca7d4250ad5\",\"type\":\"LinearAxis\"},{\"id\":\"6f173ca7-10d8-415f-8c4a-ec2d10888626\",\"type\":\"Grid\"}],\"title\":{\"id\":\"fa3aef5c-9579-4eed-9958-fbebe1524e0a\",\"type\":\"Title\"},\"tool_events\":{\"id\":\"ea248b51-5855-40ac-8e79-ca2a777b3ed5\",\"type\":\"ToolEvents\"},\"toolbar\":{\"id\":\"0b4aab15-af95-433b-9a01-4756f904f1d8\",\"type\":\"Toolbar\"},\"x_mapper_type\":\"auto\",\"x_range\":{\"id\":\"d51a30c2-191e-4bbd-baca-c98726633668\",\"type\":\"FactorRange\"},\"y_mapper_type\":\"auto\",\"y_range\":{\"id\":\"812231fa-3e9b-4552-bab6-1db9ed8b3d54\",\"type\":\"Range1d\"}},\"id\":\"acc01d41-06e1-4d84-b6ba-5ce60be38b32\",\"subtype\":\"Chart\",\"type\":\"Plot\"},{\"attributes\":{\"label\":{\"value\":\"466.936666667\"},\"renderers\":[{\"id\":\"4e3008bb-b3c2-4234-ab68-f9ddb839d2d9\",\"type\":\"GlyphRenderer\"}]},\"id\":\"bd43b67f-6cca-4dd6-ad7f-2c44f9c3d9e9\",\"type\":\"LegendItem\"},{\"attributes\":{\"callback\":null,\"column_names\":[\"width\",\"line_color\",\"x\",\"fill_alpha\",\"line_alpha\",\"y\",\"label\",\"height\",\"color\"],\"data\":{\"bins\":[1199.83],\"chart_index\":[{\"bins\":1199.83}],\"color\":[\"#f22c40\"],\"fill_alpha\":[0.8],\"height\":[63.0],\"label\":[{\"bins\":1199.83}],\"line_alpha\":[1.0],\"line_color\":[\"white\"],\"width\":[0.8],\"x\":[\"1199.83\"],\"y\":[31.5]}},\"id\":\"f86f063f-55d3-40d3-9ad1-30d182167cd1\",\"type\":\"ColumnDataSource\"},{\"attributes\":{\"callback\":null,\"column_names\":[\"width\",\"line_color\",\"x\",\"fill_alpha\",\"line_alpha\",\"y\",\"label\",\"height\",\"color\"],\"data\":{\"bins\":[200.43],\"chart_index\":[{\"bins\":200.43}],\"color\":[\"#f22c40\"],\"fill_alpha\":[0.8],\"height\":[6255.0],\"label\":[{\"bins\":200.43}],\"line_alpha\":[1.0],\"line_color\":[\"white\"],\"width\":[0.8],\"x\":[\"200.43\"],\"y\":[3127.5]}},\"id\":\"c254d1d3-ecb4-4874-a530-16d243da59a5\",\"type\":\"ColumnDataSource\"},{\"attributes\":{\"data_source\":{\"id\":\"299523d5-6425-4968-ab8f-c11b434398df\",\"type\":\"ColumnDataSource\"},\"glyph\":{\"id\":\"0f3e0005-279f-49f5-bb6f-84f4c75f04c3\",\"type\":\"Rect\"},\"hover_glyph\":null,\"nonselection_glyph\":null,\"selection_glyph\":null},\"id\":\"9403d8f2-26f5-46bb-83fc-4d86ef206738\",\"type\":\"GlyphRenderer\"},{\"attributes\":{\"fill_alpha\":{\"field\":\"fill_alpha\"},\"fill_color\":{\"field\":\"color\"},\"height\":{\"field\":\"height\",\"units\":\"data\"},\"line_color\":{\"field\":\"line_color\"},\"width\":{\"field\":\"width\",\"units\":\"data\"},\"x\":{\"field\":\"x\"},\"y\":{\"field\":\"y\"}},\"id\":\"0f3e0005-279f-49f5-bb6f-84f4c75f04c3\",\"type\":\"Rect\"},{\"attributes\":{\"data_source\":{\"id\":\"f86f063f-55d3-40d3-9ad1-30d182167cd1\",\"type\":\"ColumnDataSource\"},\"glyph\":{\"id\":\"716e3fdb-2bc4-4593-9a7a-ea8fcb70d140\",\"type\":\"Rect\"},\"hover_glyph\":null,\"nonselection_glyph\":null,\"selection_glyph\":null},\"id\":\"11b41956-ccc4-458f-a54d-48773a8ece69\",\"type\":\"GlyphRenderer\"},{\"attributes\":{\"callback\":null,\"column_names\":[\"width\",\"line_color\",\"x\",\"fill_alpha\",\"line_alpha\",\"y\",\"label\",\"height\",\"color\"],\"data\":{\"bins\":[0.55],\"chart_index\":[{\"bins\":0.55}],\"color\":[\"#f22c40\"],\"fill_alpha\":[0.8],\"height\":[34031.0],\"label\":[{\"bins\":0.55}],\"line_alpha\":[1.0],\"line_color\":[\"white\"],\"width\":[0.8],\"x\":[\"0.55\"],\"y\":[17015.5]}},\"id\":\"8981747c-9775-44db-a6ea-cecc6a80e36c\",\"type\":\"ColumnDataSource\"},{\"attributes\":{\"label\":{\"value\":\"733.443333333\"},\"renderers\":[{\"id\":\"4740efd4-21a9-4332-9e40-e74e2b43a8eb\",\"type\":\"GlyphRenderer\"}]},\"id\":\"bfe1f1f7-d051-4989-90c8-20e008ffc300\",\"type\":\"LegendItem\"},{\"attributes\":{\"callback\":null,\"column_names\":[\"width\",\"line_color\",\"x\",\"fill_alpha\",\"line_alpha\",\"y\",\"label\",\"height\",\"color\"],\"data\":{\"bins\":[67.17666666666666],\"chart_index\":[{\"bins\":67.17666666666666}],\"color\":[\"#f22c40\"],\"fill_alpha\":[0.8],\"height\":[17951.0],\"label\":[{\"bins\":67.17666666666666}],\"line_alpha\":[1.0],\"line_color\":[\"white\"],\"width\":[0.8],\"x\":[\"67.1766666667\"],\"y\":[8975.5]}},\"id\":\"1183e756-924c-43df-be48-bca2e0ab7eb9\",\"type\":\"ColumnDataSource\"},{\"attributes\":{\"callback\":null,\"column_names\":[\"width\",\"line_color\",\"x\",\"fill_alpha\",\"line_alpha\",\"y\",\"label\",\"height\",\"color\"],\"data\":{\"bins\":[400.31],\"chart_index\":[{\"bins\":400.31}],\"color\":[\"#f22c40\"],\"fill_alpha\":[0.8],\"height\":[2749.0],\"label\":[{\"bins\":400.31}],\"line_alpha\":[1.0],\"line_color\":[\"white\"],\"width\":[0.8],\"x\":[\"400.31\"],\"y\":[1374.5]}},\"id\":\"07d63caf-ea93-4927-89f7-5524d264f31b\",\"type\":\"ColumnDataSource\"},{\"attributes\":{\"data_source\":{\"id\":\"add5e693-fad4-4a3c-acce-29ea43d55607\",\"type\":\"ColumnDataSource\"},\"glyph\":{\"id\":\"0441b25c-d16e-4143-bb66-29fb9531a9b4\",\"type\":\"Rect\"},\"hover_glyph\":null,\"nonselection_glyph\":null,\"selection_glyph\":null},\"id\":\"fc5678c7-7e3e-4abf-aa7f-1babfdfa82a9\",\"type\":\"GlyphRenderer\"},{\"attributes\":{\"label\":{\"value\":\"400.31\"},\"renderers\":[{\"id\":\"b087b79f-9cba-41a7-a394-e23710a2f3c4\",\"type\":\"GlyphRenderer\"}]},\"id\":\"809dd1f1-c662-4803-b854-77f38d612436\",\"type\":\"LegendItem\"},{\"attributes\":{\"data_source\":{\"id\":\"c210a5a1-823f-473a-a203-4d1eadc3ba43\",\"type\":\"ColumnDataSource\"},\"glyph\":{\"id\":\"2edb78fe-e72f-44bf-b0a5-ea7e3ef823fc\",\"type\":\"Rect\"},\"hover_glyph\":null,\"nonselection_glyph\":null,\"selection_glyph\":null},\"id\":\"4e3008bb-b3c2-4234-ab68-f9ddb839d2d9\",\"type\":\"GlyphRenderer\"},{\"attributes\":{\"items\":[{\"id\":\"5ec16a2c-2363-4734-9b78-cd1dd1705a14\",\"type\":\"LegendItem\"},{\"id\":\"a0a3413a-babe-4a61-9bff-bfe6e2ccc7f4\",\"type\":\"LegendItem\"},{\"id\":\"b40b0d54-bc27-444d-b5b4-215f33cca294\",\"type\":\"LegendItem\"},{\"id\":\"c524f3f0-5c50-445b-8ad0-2a6ec361ef71\",\"type\":\"LegendItem\"},{\"id\":\"24ca8432-2250-4efe-a81c-8ede64db90f7\",\"type\":\"LegendItem\"},{\"id\":\"4340ebdb-1dec-4a18-bd3d-2469a4827309\",\"type\":\"LegendItem\"},{\"id\":\"809dd1f1-c662-4803-b854-77f38d612436\",\"type\":\"LegendItem\"},{\"id\":\"bd43b67f-6cca-4dd6-ad7f-2c44f9c3d9e9\",\"type\":\"LegendItem\"},{\"id\":\"a905194c-352b-4cb5-a265-ed65a53dab0c\",\"type\":\"LegendItem\"},{\"id\":\"1610ef6f-47da-4b7a-9522-dba979f7a3ba\",\"type\":\"LegendItem\"},{\"id\":\"170d8f3e-ac8b-4723-9dc1-037174a3b123\",\"type\":\"LegendItem\"},{\"id\":\"bfe1f1f7-d051-4989-90c8-20e008ffc300\",\"type\":\"LegendItem\"},{\"id\":\"84d0259c-2370-41e1-8cf5-7f56a6c6da78\",\"type\":\"LegendItem\"},{\"id\":\"0b5fb895-cdd5-42f5-865a-2a23fe5c8e42\",\"type\":\"LegendItem\"},{\"id\":\"58aafaee-41fe-4bfe-956c-83701ea87357\",\"type\":\"LegendItem\"},{\"id\":\"eae844ad-d1f4-472b-9e0c-59d462d7de7e\",\"type\":\"LegendItem\"},{\"id\":\"c360005e-5ee7-4386-9f2d-1e305737e325\",\"type\":\"LegendItem\"},{\"id\":\"ced8d18a-a5af-4fac-82a6-ae661e033412\",\"type\":\"LegendItem\"},{\"id\":\"85bd19a7-529e-4063-8511-f854bb38e2e4\",\"type\":\"LegendItem\"},{\"id\":\"67d91313-e588-4d12-9377-42bfbd7ad6a5\",\"type\":\"LegendItem\"}],\"location\":\"top_left\",\"plot\":{\"id\":\"acc01d41-06e1-4d84-b6ba-5ce60be38b32\",\"subtype\":\"Chart\",\"type\":\"Plot\"}},\"id\":\"cae1e85f-b3ce-4884-bb8a-908689e101e7\",\"type\":\"Legend\"},{\"attributes\":{\"data_source\":{\"id\":\"997502bc-bbe7-49c2-8945-f30aa12b495e\",\"type\":\"ColumnDataSource\"},\"glyph\":{\"id\":\"d913579f-c169-4d06-a873-2f6214ea7a23\",\"type\":\"Rect\"},\"hover_glyph\":null,\"nonselection_glyph\":null,\"selection_glyph\":null},\"id\":\"fbb492b5-fce0-41ff-947a-53e57905ffcc\",\"type\":\"GlyphRenderer\"},{\"attributes\":{\"label\":{\"value\":\"600.19\"},\"renderers\":[{\"id\":\"0a10414e-46d8-4d29-96f7-1b872f2cb1f9\",\"type\":\"GlyphRenderer\"}]},\"id\":\"1610ef6f-47da-4b7a-9522-dba979f7a3ba\",\"type\":\"LegendItem\"},{\"attributes\":{\"fill_alpha\":{\"field\":\"fill_alpha\"},\"fill_color\":{\"field\":\"color\"},\"height\":{\"field\":\"height\",\"units\":\"data\"},\"line_color\":{\"field\":\"line_color\"},\"width\":{\"field\":\"width\",\"units\":\"data\"},\"x\":{\"field\":\"x\"},\"y\":{\"field\":\"y\"}},\"id\":\"14f4b21c-9bdb-439d-9438-543bf4d9ffec\",\"type\":\"Rect\"},{\"attributes\":{\"data_source\":{\"id\":\"2a60a06a-3fdc-4363-b83d-c96478e8b59a\",\"type\":\"ColumnDataSource\"},\"glyph\":{\"id\":\"477921b4-6c37-42db-9ec8-893b9cab5ce5\",\"type\":\"Rect\"},\"hover_glyph\":null,\"nonselection_glyph\":null,\"selection_glyph\":null},\"id\":\"0a10414e-46d8-4d29-96f7-1b872f2cb1f9\",\"type\":\"GlyphRenderer\"},{\"attributes\":{\"label\":{\"value\":\"0.55\"},\"renderers\":[{\"id\":\"a40aa041-e335-48d8-a68d-11dcede7d57d\",\"type\":\"GlyphRenderer\"}]},\"id\":\"5ec16a2c-2363-4734-9b78-cd1dd1705a14\",\"type\":\"LegendItem\"},{\"attributes\":{\"fill_alpha\":{\"field\":\"fill_alpha\"},\"fill_color\":{\"field\":\"color\"},\"height\":{\"field\":\"height\",\"units\":\"data\"},\"line_color\":{\"field\":\"line_color\"},\"width\":{\"field\":\"width\",\"units\":\"data\"},\"x\":{\"field\":\"x\"},\"y\":{\"field\":\"y\"}},\"id\":\"c4ab6e21-4930-4061-82bc-6f10490720db\",\"type\":\"Rect\"},{\"attributes\":{\"data_source\":{\"id\":\"1c247fb0-f11d-472f-8a1f-dbfe86ad019a\",\"type\":\"ColumnDataSource\"},\"glyph\":{\"id\":\"cf587810-8feb-4519-b4da-974205963b6d\",\"type\":\"Rect\"},\"hover_glyph\":null,\"nonselection_glyph\":null,\"selection_glyph\":null},\"id\":\"89269f53-6279-485f-87d4-68897eb48bc5\",\"type\":\"GlyphRenderer\"},{\"attributes\":{\"data_source\":{\"id\":\"8981747c-9775-44db-a6ea-cecc6a80e36c\",\"type\":\"ColumnDataSource\"},\"glyph\":{\"id\":\"c2edb4e1-8933-44df-8bd5-0526100524ea\",\"type\":\"Rect\"},\"hover_glyph\":null,\"nonselection_glyph\":null,\"selection_glyph\":null},\"id\":\"a40aa041-e335-48d8-a68d-11dcede7d57d\",\"type\":\"GlyphRenderer\"},{\"attributes\":{\"label\":{\"value\":\"933.323333333\"},\"renderers\":[{\"id\":\"5502362d-f565-4843-a19a-8e2618f302f3\",\"type\":\"GlyphRenderer\"}]},\"id\":\"58aafaee-41fe-4bfe-956c-83701ea87357\",\"type\":\"LegendItem\"},{\"attributes\":{},\"id\":\"2d29744b-f880-4c7f-8824-b77b2975b1a3\",\"type\":\"CategoricalTicker\"},{\"attributes\":{\"fill_alpha\":{\"field\":\"fill_alpha\"},\"fill_color\":{\"field\":\"color\"},\"height\":{\"field\":\"height\",\"units\":\"data\"},\"line_color\":{\"field\":\"line_color\"},\"width\":{\"field\":\"width\",\"units\":\"data\"},\"x\":{\"field\":\"x\"},\"y\":{\"field\":\"y\"}},\"id\":\"d17cce20-a843-4564-a2df-467ed360a727\",\"type\":\"Rect\"},{\"attributes\":{\"callback\":null,\"column_names\":[\"width\",\"line_color\",\"x\",\"fill_alpha\",\"line_alpha\",\"y\",\"label\",\"height\",\"color\"],\"data\":{\"bins\":[733.4433333333333],\"chart_index\":[{\"bins\":733.4433333333333}],\"color\":[\"#f22c40\"],\"fill_alpha\":[0.8],\"height\":[23.0],\"label\":[{\"bins\":733.4433333333333}],\"line_alpha\":[1.0],\"line_color\":[\"white\"],\"width\":[0.8],\"x\":[\"733.443333333\"],\"y\":[11.5]}},\"id\":\"5e4b886f-20f8-4008-87e4-a5388771976f\",\"type\":\"ColumnDataSource\"},{\"attributes\":{\"data_source\":{\"id\":\"40878bc6-e9c3-4e0c-9f5d-3d36af5ca5c4\",\"type\":\"ColumnDataSource\"},\"glyph\":{\"id\":\"eb5a40db-df2f-48cf-920d-60036ef4a1ef\",\"type\":\"Rect\"},\"hover_glyph\":null,\"nonselection_glyph\":null,\"selection_glyph\":null},\"id\":\"5502362d-f565-4843-a19a-8e2618f302f3\",\"type\":\"GlyphRenderer\"},{\"attributes\":{\"label\":{\"value\":\"1199.83\"},\"renderers\":[{\"id\":\"11b41956-ccc4-458f-a54d-48773a8ece69\",\"type\":\"GlyphRenderer\"}]},\"id\":\"85bd19a7-529e-4063-8511-f854bb38e2e4\",\"type\":\"LegendItem\"},{\"attributes\":{\"label\":{\"value\":\"999.95\"},\"renderers\":[{\"id\":\"89269f53-6279-485f-87d4-68897eb48bc5\",\"type\":\"GlyphRenderer\"}]},\"id\":\"eae844ad-d1f4-472b-9e0c-59d462d7de7e\",\"type\":\"LegendItem\"},{\"attributes\":{\"data_source\":{\"id\":\"c254d1d3-ecb4-4874-a530-16d243da59a5\",\"type\":\"ColumnDataSource\"},\"glyph\":{\"id\":\"8ca97824-a687-4b12-96d2-d14e37b37940\",\"type\":\"Rect\"},\"hover_glyph\":null,\"nonselection_glyph\":null,\"selection_glyph\":null},\"id\":\"086bc0ec-b577-49ad-83e2-e02181aa52ee\",\"type\":\"GlyphRenderer\"},{\"attributes\":{\"data_source\":{\"id\":\"b5408943-89ae-4ce5-9a41-880233a012fd\",\"type\":\"ColumnDataSource\"},\"glyph\":{\"id\":\"cbd9284a-54f6-4dbb-9d50-53cced2ef5db\",\"type\":\"Rect\"},\"hover_glyph\":null,\"nonselection_glyph\":null,\"selection_glyph\":null},\"id\":\"1f2b62cd-88f7-4abc-82e8-1e9b5bb5f0e2\",\"type\":\"GlyphRenderer\"},{\"attributes\":{\"label\":{\"value\":\"267.056666667\"},\"renderers\":[{\"id\":\"c812a617-5f58-4144-89d8-f116160775ff\",\"type\":\"GlyphRenderer\"}]},\"id\":\"24ca8432-2250-4efe-a81c-8ede64db90f7\",\"type\":\"LegendItem\"},{\"attributes\":{\"fill_alpha\":{\"field\":\"fill_alpha\"},\"fill_color\":{\"field\":\"color\"},\"height\":{\"field\":\"height\",\"units\":\"data\"},\"line_color\":{\"field\":\"line_color\"},\"width\":{\"field\":\"width\",\"units\":\"data\"},\"x\":{\"field\":\"x\"},\"y\":{\"field\":\"y\"}},\"id\":\"0441b25c-d16e-4143-bb66-29fb9531a9b4\",\"type\":\"Rect\"},{\"attributes\":{\"data_source\":{\"id\":\"5e4b886f-20f8-4008-87e4-a5388771976f\",\"type\":\"ColumnDataSource\"},\"glyph\":{\"id\":\"a0b0a556-5333-4fa8-b276-298463303500\",\"type\":\"Rect\"},\"hover_glyph\":null,\"nonselection_glyph\":null,\"selection_glyph\":null},\"id\":\"4740efd4-21a9-4332-9e40-e74e2b43a8eb\",\"type\":\"GlyphRenderer\"},{\"attributes\":{\"callback\":null,\"column_names\":[\"width\",\"line_color\",\"x\",\"fill_alpha\",\"line_alpha\",\"y\",\"label\",\"height\",\"color\"],\"data\":{\"bins\":[333.68333333333334],\"chart_index\":[{\"bins\":333.68333333333334}],\"color\":[\"#f22c40\"],\"fill_alpha\":[0.8],\"height\":[4183.0],\"label\":[{\"bins\":333.68333333333334}],\"line_alpha\":[1.0],\"line_color\":[\"white\"],\"width\":[0.8],\"x\":[\"333.683333333\"],\"y\":[2091.5]}},\"id\":\"299523d5-6425-4968-ab8f-c11b434398df\",\"type\":\"ColumnDataSource\"},{\"attributes\":{\"label\":{\"value\":\"866.696666667\"},\"renderers\":[{\"id\":\"1f2b62cd-88f7-4abc-82e8-1e9b5bb5f0e2\",\"type\":\"GlyphRenderer\"}]},\"id\":\"0b5fb895-cdd5-42f5-865a-2a23fe5c8e42\",\"type\":\"LegendItem\"},{\"attributes\":{\"fill_alpha\":{\"field\":\"fill_alpha\"},\"fill_color\":{\"field\":\"color\"},\"height\":{\"field\":\"height\",\"units\":\"data\"},\"line_color\":{\"field\":\"line_color\"},\"width\":{\"field\":\"width\",\"units\":\"data\"},\"x\":{\"field\":\"x\"},\"y\":{\"field\":\"y\"}},\"id\":\"2edb78fe-e72f-44bf-b0a5-ea7e3ef823fc\",\"type\":\"Rect\"},{\"attributes\":{},\"id\":\"9566f036-9fad-409c-94c2-bd562bd4ee55\",\"type\":\"CategoricalTickFormatter\"},{\"attributes\":{\"fill_alpha\":{\"field\":\"fill_alpha\"},\"fill_color\":{\"field\":\"color\"},\"height\":{\"field\":\"height\",\"units\":\"data\"},\"line_color\":{\"field\":\"line_color\"},\"width\":{\"field\":\"width\",\"units\":\"data\"},\"x\":{\"field\":\"x\"},\"y\":{\"field\":\"y\"}},\"id\":\"cf587810-8feb-4519-b4da-974205963b6d\",\"type\":\"Rect\"},{\"attributes\":{\"axis_label\":\"Sum( Freq )\",\"formatter\":{\"id\":\"a7282c4e-1070-4b3e-9381-dba5c65435d3\",\"type\":\"BasicTickFormatter\"},\"plot\":{\"id\":\"acc01d41-06e1-4d84-b6ba-5ce60be38b32\",\"subtype\":\"Chart\",\"type\":\"Plot\"},\"ticker\":{\"id\":\"29a6f3db-c62d-4674-88f7-a7aed49cc45e\",\"type\":\"BasicTicker\"}},\"id\":\"44f4e4e2-a03e-4b0c-a8a6-eca7d4250ad5\",\"type\":\"LinearAxis\"},{\"attributes\":{\"label\":{\"value\":\"1066.57666667\"},\"renderers\":[{\"id\":\"e10c18a4-0219-40dd-b8c7-ddc556fb8a65\",\"type\":\"GlyphRenderer\"}]},\"id\":\"c360005e-5ee7-4386-9f2d-1e305737e325\",\"type\":\"LegendItem\"},{\"attributes\":{\"callback\":null,\"end\":35732.55},\"id\":\"812231fa-3e9b-4552-bab6-1db9ed8b3d54\",\"type\":\"Range1d\"},{\"attributes\":{},\"id\":\"a7282c4e-1070-4b3e-9381-dba5c65435d3\",\"type\":\"BasicTickFormatter\"},{\"attributes\":{\"fill_alpha\":{\"field\":\"fill_alpha\"},\"fill_color\":{\"field\":\"color\"},\"height\":{\"field\":\"height\",\"units\":\"data\"},\"line_color\":{\"field\":\"line_color\"},\"width\":{\"field\":\"width\",\"units\":\"data\"},\"x\":{\"field\":\"x\"},\"y\":{\"field\":\"y\"}},\"id\":\"772bcd8a-0cf8-44b1-b954-68786bc3ecd1\",\"type\":\"Rect\"},{\"attributes\":{\"label\":{\"value\":\"1266.45666667\"},\"renderers\":[{\"id\":\"2013f818-e22c-4143-a728-775c02a7afed\",\"type\":\"GlyphRenderer\"}]},\"id\":\"67d91313-e588-4d12-9377-42bfbd7ad6a5\",\"type\":\"LegendItem\"},{\"attributes\":{\"label\":{\"value\":\"533.563333333\"},\"renderers\":[{\"id\":\"1a12bd64-69c4-4c6f-89e3-aadfd6e9a4af\",\"type\":\"GlyphRenderer\"}]},\"id\":\"a905194c-352b-4cb5-a265-ed65a53dab0c\",\"type\":\"LegendItem\"},{\"attributes\":{\"data_source\":{\"id\":\"fcad4b70-60bd-41dc-8b31-a121794cf412\",\"type\":\"ColumnDataSource\"},\"glyph\":{\"id\":\"6ded1145-fc5e-4d74-9776-f6edb65dd074\",\"type\":\"Rect\"},\"hover_glyph\":null,\"nonselection_glyph\":null,\"selection_glyph\":null},\"id\":\"ccb01665-fbd1-431f-aa44-337654a571d4\",\"type\":\"GlyphRenderer\"},{\"attributes\":{\"data_source\":{\"id\":\"07d63caf-ea93-4927-89f7-5524d264f31b\",\"type\":\"ColumnDataSource\"},\"glyph\":{\"id\":\"772bcd8a-0cf8-44b1-b954-68786bc3ecd1\",\"type\":\"Rect\"},\"hover_glyph\":null,\"nonselection_glyph\":null,\"selection_glyph\":null},\"id\":\"b087b79f-9cba-41a7-a394-e23710a2f3c4\",\"type\":\"GlyphRenderer\"},{\"attributes\":{\"fill_alpha\":{\"field\":\"fill_alpha\"},\"fill_color\":{\"field\":\"color\"},\"height\":{\"field\":\"height\",\"units\":\"data\"},\"line_color\":{\"field\":\"line_color\"},\"width\":{\"field\":\"width\",\"units\":\"data\"},\"x\":{\"field\":\"x\"},\"y\":{\"field\":\"y\"}},\"id\":\"716e3fdb-2bc4-4593-9a7a-ea8fcb70d140\",\"type\":\"Rect\"},{\"attributes\":{\"callback\":null,\"column_names\":[\"width\",\"line_color\",\"x\",\"fill_alpha\",\"line_alpha\",\"y\",\"label\",\"height\",\"color\"],\"data\":{\"bins\":[533.5633333333333],\"chart_index\":[{\"bins\":533.5633333333333}],\"color\":[\"#f22c40\"],\"fill_alpha\":[0.8],\"height\":[1376.0],\"label\":[{\"bins\":533.5633333333333}],\"line_alpha\":[1.0],\"line_color\":[\"white\"],\"width\":[0.8],\"x\":[\"533.563333333\"],\"y\":[688.0]}},\"id\":\"ebaf2d23-7823-4ca5-8f89-97741c20de50\",\"type\":\"ColumnDataSource\"},{\"attributes\":{\"overlay\":{\"id\":\"c1717356-f7fe-4ac1-b5da-2ad6ff17428f\",\"type\":\"BoxAnnotation\"},\"plot\":{\"id\":\"acc01d41-06e1-4d84-b6ba-5ce60be38b32\",\"subtype\":\"Chart\",\"type\":\"Plot\"}},\"id\":\"ecb66b84-d979-43b1-857e-605cf30d778a\",\"type\":\"BoxZoomTool\"},{\"attributes\":{\"label\":{\"value\":\"666.816666667\"},\"renderers\":[{\"id\":\"fc5678c7-7e3e-4abf-aa7f-1babfdfa82a9\",\"type\":\"GlyphRenderer\"}]},\"id\":\"170d8f3e-ac8b-4723-9dc1-037174a3b123\",\"type\":\"LegendItem\"},{\"attributes\":{\"label\":{\"value\":\"67.1766666667\"},\"renderers\":[{\"id\":\"96c4f05a-35d2-4bb4-afb3-6d00d0f0595c\",\"type\":\"GlyphRenderer\"}]},\"id\":\"a0a3413a-babe-4a61-9bff-bfe6e2ccc7f4\",\"type\":\"LegendItem\"},{\"attributes\":{\"fill_alpha\":{\"field\":\"fill_alpha\"},\"fill_color\":{\"field\":\"color\"},\"height\":{\"field\":\"height\",\"units\":\"data\"},\"line_color\":{\"field\":\"line_color\"},\"width\":{\"field\":\"width\",\"units\":\"data\"},\"x\":{\"field\":\"x\"},\"y\":{\"field\":\"y\"}},\"id\":\"cbd9284a-54f6-4dbb-9d50-53cced2ef5db\",\"type\":\"Rect\"},{\"attributes\":{\"fill_alpha\":{\"field\":\"fill_alpha\"},\"fill_color\":{\"field\":\"color\"},\"height\":{\"field\":\"height\",\"units\":\"data\"},\"line_color\":{\"field\":\"line_color\"},\"width\":{\"field\":\"width\",\"units\":\"data\"},\"x\":{\"field\":\"x\"},\"y\":{\"field\":\"y\"}},\"id\":\"10e0828e-ac53-4de4-a392-398b797b658d\",\"type\":\"Rect\"},{\"attributes\":{\"label\":{\"value\":\"133.803333333\"},\"renderers\":[{\"id\":\"fbb492b5-fce0-41ff-947a-53e57905ffcc\",\"type\":\"GlyphRenderer\"}]},\"id\":\"b40b0d54-bc27-444d-b5b4-215f33cca294\",\"type\":\"LegendItem\"},{\"attributes\":{\"axis_label\":\"Bins\",\"formatter\":{\"id\":\"9566f036-9fad-409c-94c2-bd562bd4ee55\",\"type\":\"CategoricalTickFormatter\"},\"major_label_orientation\":0.7853981633974483,\"plot\":{\"id\":\"acc01d41-06e1-4d84-b6ba-5ce60be38b32\",\"subtype\":\"Chart\",\"type\":\"Plot\"},\"ticker\":{\"id\":\"2d29744b-f880-4c7f-8824-b77b2975b1a3\",\"type\":\"CategoricalTicker\"}},\"id\":\"4986741c-61c1-4866-9a6f-8b46559c9e30\",\"type\":\"CategoricalAxis\"},{\"attributes\":{\"label\":{\"value\":\"800.07\"},\"renderers\":[{\"id\":\"95548c15-d384-4b55-8bb4-00cf35d8641d\",\"type\":\"GlyphRenderer\"}]},\"id\":\"84d0259c-2370-41e1-8cf5-7f56a6c6da78\",\"type\":\"LegendItem\"},{\"attributes\":{\"fill_alpha\":{\"field\":\"fill_alpha\"},\"fill_color\":{\"field\":\"color\"},\"height\":{\"field\":\"height\",\"units\":\"data\"},\"line_color\":{\"field\":\"line_color\"},\"width\":{\"field\":\"width\",\"units\":\"data\"},\"x\":{\"field\":\"x\"},\"y\":{\"field\":\"y\"}},\"id\":\"c2edb4e1-8933-44df-8bd5-0526100524ea\",\"type\":\"Rect\"},{\"attributes\":{\"fill_alpha\":{\"field\":\"fill_alpha\"},\"fill_color\":{\"field\":\"color\"},\"height\":{\"field\":\"height\",\"units\":\"data\"},\"line_color\":{\"field\":\"line_color\"},\"width\":{\"field\":\"width\",\"units\":\"data\"},\"x\":{\"field\":\"x\"},\"y\":{\"field\":\"y\"}},\"id\":\"6ded1145-fc5e-4d74-9776-f6edb65dd074\",\"type\":\"Rect\"},{\"attributes\":{\"plot\":{\"id\":\"acc01d41-06e1-4d84-b6ba-5ce60be38b32\",\"subtype\":\"Chart\",\"type\":\"Plot\"}},\"id\":\"6ea15223-44aa-48d1-839d-aa18898907a0\",\"type\":\"SaveTool\"},{\"attributes\":{\"callback\":null,\"column_names\":[\"width\",\"line_color\",\"x\",\"fill_alpha\",\"line_alpha\",\"y\",\"label\",\"height\",\"color\"],\"data\":{\"bins\":[600.1899999999999],\"chart_index\":[{\"bins\":600.1899999999999}],\"color\":[\"#f22c40\"],\"fill_alpha\":[0.8],\"height\":[883.0],\"label\":[{\"bins\":600.1899999999999}],\"line_alpha\":[1.0],\"line_color\":[\"white\"],\"width\":[0.8],\"x\":[\"600.19\"],\"y\":[441.5]}},\"id\":\"2a60a06a-3fdc-4363-b83d-c96478e8b59a\",\"type\":\"ColumnDataSource\"},{\"attributes\":{},\"id\":\"29a6f3db-c62d-4674-88f7-a7aed49cc45e\",\"type\":\"BasicTicker\"},{\"attributes\":{\"bottom_units\":\"screen\",\"fill_alpha\":{\"value\":0.5},\"fill_color\":{\"value\":\"lightgrey\"},\"left_units\":\"screen\",\"level\":\"overlay\",\"line_alpha\":{\"value\":1.0},\"line_color\":{\"value\":\"black\"},\"line_dash\":[4,4],\"line_width\":{\"value\":2},\"plot\":null,\"render_mode\":\"css\",\"right_units\":\"screen\",\"top_units\":\"screen\"},\"id\":\"c1717356-f7fe-4ac1-b5da-2ad6ff17428f\",\"type\":\"BoxAnnotation\"},{\"attributes\":{\"active_drag\":\"auto\",\"active_scroll\":\"auto\",\"active_tap\":\"auto\",\"tools\":[{\"id\":\"9037d9cb-69e2-4d1a-93ea-52dd75e41d6b\",\"type\":\"PanTool\"},{\"id\":\"16507533-b2ed-4740-97c3-030352448044\",\"type\":\"WheelZoomTool\"},{\"id\":\"ecb66b84-d979-43b1-857e-605cf30d778a\",\"type\":\"BoxZoomTool\"},{\"id\":\"6ea15223-44aa-48d1-839d-aa18898907a0\",\"type\":\"SaveTool\"},{\"id\":\"565209fc-5e09-4532-b832-685ca571fe98\",\"type\":\"ResetTool\"},{\"id\":\"71201336-8a3c-4a36-8632-96537a895dad\",\"type\":\"HelpTool\"}]},\"id\":\"0b4aab15-af95-433b-9a01-4756f904f1d8\",\"type\":\"Toolbar\"},{\"attributes\":{\"callback\":null,\"column_names\":[\"width\",\"line_color\",\"x\",\"fill_alpha\",\"line_alpha\",\"y\",\"label\",\"height\",\"color\"],\"data\":{\"bins\":[800.0699999999999],\"chart_index\":[{\"bins\":800.0699999999999}],\"color\":[\"#f22c40\"],\"fill_alpha\":[0.8],\"height\":[0.0],\"label\":[{\"bins\":800.0699999999999}],\"line_alpha\":[1.0],\"line_color\":[\"white\"],\"width\":[0.8],\"x\":[\"800.07\"],\"y\":[0.0]}},\"id\":\"ec016d4d-38f9-4a2b-a187-13f30a84256d\",\"type\":\"ColumnDataSource\"},{\"attributes\":{\"callback\":null,\"factors\":[\"0.55\",\"67.1766666667\",\"133.803333333\",\"200.43\",\"267.056666667\",\"333.683333333\",\"400.31\",\"466.936666667\",\"533.563333333\",\"600.19\",\"666.816666667\",\"733.443333333\",\"800.07\",\"866.696666667\",\"933.323333333\",\"999.95\",\"1066.57666667\",\"1133.20333333\",\"1199.83\",\"1266.45666667\"]},\"id\":\"d51a30c2-191e-4bbd-baca-c98726633668\",\"type\":\"FactorRange\"},{\"attributes\":{\"label\":{\"value\":\"200.43\"},\"renderers\":[{\"id\":\"086bc0ec-b577-49ad-83e2-e02181aa52ee\",\"type\":\"GlyphRenderer\"}]},\"id\":\"c524f3f0-5c50-445b-8ad0-2a6ec361ef71\",\"type\":\"LegendItem\"},{\"attributes\":{\"data_source\":{\"id\":\"9f336c3e-b16a-49ca-82ef-4a79d5dbf8d3\",\"type\":\"ColumnDataSource\"},\"glyph\":{\"id\":\"fada0759-e239-4a1c-a95d-dacd7b138ac1\",\"type\":\"Rect\"},\"hover_glyph\":null,\"nonselection_glyph\":null,\"selection_glyph\":null},\"id\":\"c812a617-5f58-4144-89d8-f116160775ff\",\"type\":\"GlyphRenderer\"},{\"attributes\":{\"fill_alpha\":{\"field\":\"fill_alpha\"},\"fill_color\":{\"field\":\"color\"},\"height\":{\"field\":\"height\",\"units\":\"data\"},\"line_color\":{\"field\":\"line_color\"},\"width\":{\"field\":\"width\",\"units\":\"data\"},\"x\":{\"field\":\"x\"},\"y\":{\"field\":\"y\"}},\"id\":\"477921b4-6c37-42db-9ec8-893b9cab5ce5\",\"type\":\"Rect\"},{\"attributes\":{\"plot\":null,\"text\":\"Histogram of 'balance'\"},\"id\":\"fa3aef5c-9579-4eed-9958-fbebe1524e0a\",\"type\":\"Title\"},{\"attributes\":{\"fill_alpha\":{\"field\":\"fill_alpha\"},\"fill_color\":{\"field\":\"color\"},\"height\":{\"field\":\"height\",\"units\":\"data\"},\"line_color\":{\"field\":\"line_color\"},\"width\":{\"field\":\"width\",\"units\":\"data\"},\"x\":{\"field\":\"x\"},\"y\":{\"field\":\"y\"}},\"id\":\"f7bee140-0d61-4d83-a764-47aaebce0d31\",\"type\":\"Rect\"},{\"attributes\":{\"callback\":null,\"column_names\":[\"width\",\"line_color\",\"x\",\"fill_alpha\",\"line_alpha\",\"y\",\"label\",\"height\",\"color\"],\"data\":{\"bins\":[1133.2033333333331],\"chart_index\":[{\"bins\":1133.2033333333331}],\"color\":[\"#f22c40\"],\"fill_alpha\":[0.8],\"height\":[62.0],\"label\":[{\"bins\":1133.2033333333331}],\"line_alpha\":[1.0],\"line_color\":[\"white\"],\"width\":[0.8],\"x\":[\"1133.20333333\"],\"y\":[31.0]}},\"id\":\"fcad4b70-60bd-41dc-8b31-a121794cf412\",\"type\":\"ColumnDataSource\"},{\"attributes\":{\"plot\":{\"id\":\"acc01d41-06e1-4d84-b6ba-5ce60be38b32\",\"subtype\":\"Chart\",\"type\":\"Plot\"}},\"id\":\"71201336-8a3c-4a36-8632-96537a895dad\",\"type\":\"HelpTool\"},{\"attributes\":{\"data_source\":{\"id\":\"ec016d4d-38f9-4a2b-a187-13f30a84256d\",\"type\":\"ColumnDataSource\"},\"glyph\":{\"id\":\"10e0828e-ac53-4de4-a392-398b797b658d\",\"type\":\"Rect\"},\"hover_glyph\":null,\"nonselection_glyph\":null,\"selection_glyph\":null},\"id\":\"95548c15-d384-4b55-8bb4-00cf35d8641d\",\"type\":\"GlyphRenderer\"},{\"attributes\":{\"fill_alpha\":{\"field\":\"fill_alpha\"},\"fill_color\":{\"field\":\"color\"},\"height\":{\"field\":\"height\",\"units\":\"data\"},\"line_color\":{\"field\":\"line_color\"},\"width\":{\"field\":\"width\",\"units\":\"data\"},\"x\":{\"field\":\"x\"},\"y\":{\"field\":\"y\"}},\"id\":\"a0b0a556-5333-4fa8-b276-298463303500\",\"type\":\"Rect\"}],\"root_ids\":[\"acc01d41-06e1-4d84-b6ba-5ce60be38b32\"]},\"title\":\"Bokeh Application\",\"version\":\"0.12.4\"}};\n",
       "            var render_items = [{\"docid\":\"511b85c6-ee8a-4116-bc1a-c545879cad44\",\"elementid\":\"e7783e9d-2c4a-427f-9dca-0e44688a20af\",\"modelid\":\"acc01d41-06e1-4d84-b6ba-5ce60be38b32\"}];\n",
       "            \n",
       "            Bokeh.embed.embed_items(docs_json, render_items);\n",
       "          };\n",
       "          if (document.readyState != \"loading\") fn();\n",
       "          else document.addEventListener(\"DOMContentLoaded\", fn);\n",
       "        })();\n",
       "      },\n",
       "      function(Bokeh) {\n",
       "      }\n",
       "    ];\n",
       "  \n",
       "    function run_inline_js() {\n",
       "      \n",
       "      if ((window.Bokeh !== undefined) || (force === true)) {\n",
       "        for (var i = 0; i < inline_js.length; i++) {\n",
       "          inline_js[i](window.Bokeh);\n",
       "        }if (force === true) {\n",
       "          display_loaded();\n",
       "        }} else if (Date.now() < window._bokeh_timeout) {\n",
       "        setTimeout(run_inline_js, 100);\n",
       "      } else if (!window._bokeh_failed_load) {\n",
       "        console.log(\"Bokeh: BokehJS failed to load within specified timeout.\");\n",
       "        window._bokeh_failed_load = true;\n",
       "      } else if (force !== true) {\n",
       "        var cell = $(document.getElementById(\"e7783e9d-2c4a-427f-9dca-0e44688a20af\")).parents('.cell').data().cell;\n",
       "        cell.output_area.append_execute_result(NB_LOAD_WARNING)\n",
       "      }\n",
       "  \n",
       "    }\n",
       "  \n",
       "    if (window._bokeh_is_loading === 0) {\n",
       "      console.log(\"Bokeh: BokehJS loaded, going straight to plotting\");\n",
       "      run_inline_js();\n",
       "    } else {\n",
       "      load_libs(js_urls, function() {\n",
       "        console.log(\"Bokeh: BokehJS plotting callback run at\", now());\n",
       "        run_inline_js();\n",
       "      });\n",
       "    }\n",
       "  }(this));\n",
       "</script>"
      ]
     },
     "metadata": {},
     "output_type": "display_data"
    }
   ],
   "source": [
    "b_hist = chrt.Bar(\n",
    "       data_hist,\n",
    "       values='freq', label='bins',\n",
    "       title='Histogram of \\'balance\\'')\n",
    "chrt.show(b_hist)"
   ]
  },
  {
   "cell_type": "code",
   "execution_count": 50,
   "metadata": {
    "collapsed": false
   },
   "outputs": [],
   "source": [
    "percent_back = 0.001\n",
    "\n",
    "# use this if you want an (almost) exact number of samples\n",
    "# sample_count = 200\n",
    "# percent_back = sample_count / posts.count()\n",
    "\n",
    "frac = dict(\n",
    "    (e.time_till_landing_minutes, percent_back) \n",
    "    for e \n",
    "    in ml_df.select('time_till_landing_minutes').distinct().collect()\n",
    ")\n",
    "sampled = ml_df.sampleBy('time_till_landing_minutes', fractions=frac)\n"
   ]
  },
  {
   "cell_type": "code",
   "execution_count": 71,
   "metadata": {
    "collapsed": false
   },
   "outputs": [],
   "source": [
    "#sampled.show()"
   ]
  }
 ],
 "metadata": {
  "kernelspec": {
   "display_name": "spark",
   "language": "python",
   "name": "spark"
  },
  "language_info": {
   "codemirror_mode": {
    "name": "ipython",
    "version": 3
   },
   "file_extension": ".py",
   "mimetype": "text/x-python",
   "name": "python",
   "nbconvert_exporter": "python",
   "pygments_lexer": "ipython3",
   "version": "3.5.3"
  }
 },
 "nbformat": 4,
 "nbformat_minor": 2
}
