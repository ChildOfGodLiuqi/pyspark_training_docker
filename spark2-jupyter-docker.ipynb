{
 "cells": [
  {
   "cell_type": "markdown",
   "metadata": {
    "deletable": true,
    "editable": true
   },
   "source": [
    "## Docker Spark setup\n",
    "\n",
    "This notebook is meant to run on a spark 2 docker container. First i'll describe the steps to set it up.\n",
    "\n",
    "On a Linux based system install Docker and Docker-compose.Create this file : docker-compose.yml. The contents is listed below.  Then run: docker-compose build . Afterwards run this command : docker-compose build -d\n",
    "\n"
   ]
  },
  {
   "cell_type": "markdown",
   "metadata": {
    "deletable": true,
    "editable": true
   },
   "source": [
    "```\n",
    "version: \"2\"\n",
    "\n",
    "services:\n",
    "  master:\n",
    "    image: singularities/spark\n",
    "    command: start-spark master\n",
    "    hostname: master\n",
    "    ports:\n",
    "      - \"6066:6066\"\n",
    "      - \"7070:7070\"\n",
    "      - \"8080:8080\"\n",
    "      - \"50070:50070\"\n",
    "      - \"8888:8888\"\n",
    "  worker:\n",
    "    image: singularities/spark\n",
    "    command: start-spark worker master\n",
    "    environment:\n",
    "      SPARK_WORKER_CORES: 1\n",
    "      SPARK_WORKER_MEMORY: 2g\n",
    "    links:\n",
    "      - master\n",
    "```"
   ]
  },
  {
   "cell_type": "markdown",
   "metadata": {
    "deletable": true,
    "editable": true
   },
   "source": [
    "```\n",
    "With docker ps , check if the master and worker containers are running.\n",
    "Connect to the master node:\n",
    "docker exec -it [container id master] bash\n",
    "On the master node continue with setting up as described below.\n",
    "```"
   ]
  },
  {
   "cell_type": "markdown",
   "metadata": {
    "deletable": true,
    "editable": true
   },
   "source": [
    "## Spark and conda env setup\n",
    "\n",
    "```\n",
    "First install Anaconda 4 (latest version) on the Docker container with Spark Master. Then install a new Conda environment for Spark, using python 3.5 (3.6 has a bug).  \n",
    "\n",
    "conda create -n spark python=3.5\n",
    "source activate spark\n",
    "conda install notebook ipykernel\n",
    "ipython kernel install --user --name spark --display-name spark\n",
    "\n",
    "Make jupyter start script, and run it:\n",
    "PYSPARK_PYTHON=/root/anaconda3/envs/spark/bin/python\n",
    "PYSPARK_DRIVER_PYTHON=jupyter PYSPARK_DRIVER_PYTHON_OPTS='notebook --ip=0.0.0.0 --port=8888' $SPARK_HOME/bin/pyspark\n",
    "\n",
    "Now go to the url it gives (http://0.0.0.0:8888/<some code>)\n",
    ", Run the nodebook sections.\n",
    "```\n"
   ]
  },
  {
   "cell_type": "code",
   "execution_count": 1,
   "metadata": {
    "collapsed": false,
    "deletable": true,
    "editable": true
   },
   "outputs": [],
   "source": [
    "#Start this in spark conda env to test\n",
    "from pyspark.sql import SparkSession\n",
    "from pyspark import SparkContext\n",
    "from pyspark import SparkConf\n",
    "import pyspark.sql.functions as fn\n",
    "import pyspark.sql.types as typ"
   ]
  },
  {
   "cell_type": "markdown",
   "metadata": {
    "deletable": true,
    "editable": true
   },
   "source": [
    "## Example data\n",
    "\n",
    "```\n",
    "This example works if you clone https://github.com/PacktPublishing/Learning-PySpark\n",
    "\n",
    "and make sure its in /root/learningPySpark on the Docker container with Spark Master. \n",
    "\n",
    "To install git on this container run command: apt-get install git\n",
    ", on github (or bitbucket) create a repository so you can save changes from the container and push it to Github. Use the following commands on the Docker container to init and push the data :\n",
    "\n",
    "git init\n",
    "git add <your file>\n",
    "git commit -m \"first commit\"\n",
    "git remote add origin https://github.com/michelnossin/pyspark_training_docker.git\n",
    "git push -u origin master\n",
    "```"
   ]
  },
  {
   "cell_type": "code",
   "execution_count": 2,
   "metadata": {
    "collapsed": false,
    "deletable": true,
    "editable": true
   },
   "outputs": [
    {
     "data": {
      "text/plain": [
       "DataFrame[date: string, delay: string, distance: string, origin: string, destination: string]"
      ]
     },
     "execution_count": 2,
     "metadata": {},
     "output_type": "execute_result"
    }
   ],
   "source": [
    "#RANDOM FLIGHTS SET, AND WORLD AIRPORT SET\n",
    "flights = \"file:/root/learningPySpark/Chapter03/flight-data/departuredelays.csv\" \n",
    "airports = \"file:/root/learningPySpark/Chapter03/flight-data/airport-codes-na.txt\" \n",
    "airports_df = spark.read.csv(airports,header='true',inferSchema='true',sep='\\t')\n",
    "airports_df.createOrReplaceTempView(\"airports\")\n",
    "flights_df = spark.read.csv(flights,header='true')\n",
    "flights_df.createOrReplaceTempView(\"flights\")\n",
    "flights_df.cache()"
   ]
  },
  {
   "cell_type": "code",
   "execution_count": 3,
   "metadata": {
    "collapsed": false,
    "deletable": true,
    "editable": true
   },
   "outputs": [
    {
     "data": {
      "text/plain": [
       "DataFrame[na: string, altitude: string, dest: string, heading: string, flight: string, na2: string, landed: string, time: string, lat: string, lon: string, na3: string, org: string, na4: string, registration: string, flight2: string, speed: string, na6: string, planetype: string, altitude_delta: string]"
      ]
     },
     "execution_count": 3,
     "metadata": {},
     "output_type": "execute_result"
    }
   ],
   "source": [
    "#RADAR TRACK\n",
    "track_file = \"file:/root/fr24/fr24_20160624.csv\"\n",
    "header=['na','altitude','dest','heading','flight','na2','landed','time','lat',\\\n",
    "         'lon','na3','org','na4','registration','flight2','speed','na6','planetype', 'altitude_delta']\n",
    "fields = [ *[\n",
    "           typ.StructField(h, typ.StringType(), True)\n",
    "           for h in header\n",
    "       ]\n",
    "   ]\n",
    "schema = typ.StructType(fields)\n",
    "schema   \n",
    "tracks_df = spark.read.csv(track_file,header='false',schema=schema)\n",
    "\n",
    "#filter tracks early to make it speed up\n",
    "tracks_df = tracks_df.where(\"dest == 'AMS'\") #14 milj -> 114k\n",
    "tracks_df.createOrReplaceTempView(\"tracks\")\n",
    "tracks_df.cache()"
   ]
  },
  {
   "cell_type": "markdown",
   "metadata": {
    "deletable": true,
    "editable": true
   },
   "source": [
    "## First look at data:\n",
    "\n",
    "```\n",
    "source activate spark\n",
    "python -m pip install pandas\n",
    "```"
   ]
  },
  {
   "cell_type": "code",
   "execution_count": 4,
   "metadata": {
    "collapsed": true,
    "deletable": true,
    "editable": true
   },
   "outputs": [],
   "source": [
    "import pandas as pd"
   ]
  },
  {
   "cell_type": "code",
   "execution_count": 5,
   "metadata": {
    "collapsed": false,
    "deletable": true,
    "editable": true
   },
   "outputs": [
    {
     "name": "stdout",
     "output_type": "stream",
     "text": [
      "+--------+\n",
      "|count(1)|\n",
      "+--------+\n",
      "| 1391578|\n",
      "+--------+\n",
      "\n",
      "+--------+\n",
      "|count(1)|\n",
      "+--------+\n",
      "|     526|\n",
      "+--------+\n",
      "\n",
      "+--------+\n",
      "|count(1)|\n",
      "+--------+\n",
      "|  114728|\n",
      "+--------+\n",
      "\n"
     ]
    }
   ],
   "source": [
    "spark.sql(\"select count(1) from flights\").show()\n",
    "spark.sql(\"select count(1) from airports\").show()\n",
    "spark.sql(\"select count(1) from tracks\").show()"
   ]
  },
  {
   "cell_type": "code",
   "execution_count": 6,
   "metadata": {
    "collapsed": false,
    "deletable": true,
    "editable": true
   },
   "outputs": [
    {
     "data": {
      "text/html": [
       "<div>\n",
       "<table border=\"1\" class=\"dataframe\">\n",
       "  <thead>\n",
       "    <tr style=\"text-align: right;\">\n",
       "      <th></th>\n",
       "      <th>date</th>\n",
       "      <th>delay</th>\n",
       "      <th>distance</th>\n",
       "      <th>origin</th>\n",
       "      <th>destination</th>\n",
       "    </tr>\n",
       "  </thead>\n",
       "  <tbody>\n",
       "    <tr>\n",
       "      <th>0</th>\n",
       "      <td>01011245</td>\n",
       "      <td>6</td>\n",
       "      <td>602</td>\n",
       "      <td>ABE</td>\n",
       "      <td>ATL</td>\n",
       "    </tr>\n",
       "    <tr>\n",
       "      <th>1</th>\n",
       "      <td>01020600</td>\n",
       "      <td>-8</td>\n",
       "      <td>369</td>\n",
       "      <td>ABE</td>\n",
       "      <td>DTW</td>\n",
       "    </tr>\n",
       "    <tr>\n",
       "      <th>2</th>\n",
       "      <td>01021245</td>\n",
       "      <td>-2</td>\n",
       "      <td>602</td>\n",
       "      <td>ABE</td>\n",
       "      <td>ATL</td>\n",
       "    </tr>\n",
       "    <tr>\n",
       "      <th>3</th>\n",
       "      <td>01020605</td>\n",
       "      <td>-4</td>\n",
       "      <td>602</td>\n",
       "      <td>ABE</td>\n",
       "      <td>ATL</td>\n",
       "    </tr>\n",
       "    <tr>\n",
       "      <th>4</th>\n",
       "      <td>01031245</td>\n",
       "      <td>-4</td>\n",
       "      <td>602</td>\n",
       "      <td>ABE</td>\n",
       "      <td>ATL</td>\n",
       "    </tr>\n",
       "  </tbody>\n",
       "</table>\n",
       "</div>"
      ],
      "text/plain": [
       "       date delay distance origin destination\n",
       "0  01011245     6      602    ABE         ATL\n",
       "1  01020600    -8      369    ABE         DTW\n",
       "2  01021245    -2      602    ABE         ATL\n",
       "3  01020605    -4      602    ABE         ATL\n",
       "4  01031245    -4      602    ABE         ATL"
      ]
     },
     "execution_count": 6,
     "metadata": {},
     "output_type": "execute_result"
    }
   ],
   "source": [
    "flights_df.limit(5).toPandas()"
   ]
  },
  {
   "cell_type": "code",
   "execution_count": 7,
   "metadata": {
    "collapsed": false,
    "deletable": true,
    "editable": true
   },
   "outputs": [
    {
     "data": {
      "text/html": [
       "<div>\n",
       "<table border=\"1\" class=\"dataframe\">\n",
       "  <thead>\n",
       "    <tr style=\"text-align: right;\">\n",
       "      <th></th>\n",
       "      <th>City</th>\n",
       "      <th>State</th>\n",
       "      <th>Country</th>\n",
       "      <th>IATA</th>\n",
       "    </tr>\n",
       "  </thead>\n",
       "  <tbody>\n",
       "    <tr>\n",
       "      <th>0</th>\n",
       "      <td>Abbotsford</td>\n",
       "      <td>BC</td>\n",
       "      <td>Canada</td>\n",
       "      <td>YXX</td>\n",
       "    </tr>\n",
       "    <tr>\n",
       "      <th>1</th>\n",
       "      <td>Aberdeen</td>\n",
       "      <td>SD</td>\n",
       "      <td>USA</td>\n",
       "      <td>ABR</td>\n",
       "    </tr>\n",
       "    <tr>\n",
       "      <th>2</th>\n",
       "      <td>Abilene</td>\n",
       "      <td>TX</td>\n",
       "      <td>USA</td>\n",
       "      <td>ABI</td>\n",
       "    </tr>\n",
       "    <tr>\n",
       "      <th>3</th>\n",
       "      <td>Akron</td>\n",
       "      <td>OH</td>\n",
       "      <td>USA</td>\n",
       "      <td>CAK</td>\n",
       "    </tr>\n",
       "    <tr>\n",
       "      <th>4</th>\n",
       "      <td>Alamosa</td>\n",
       "      <td>CO</td>\n",
       "      <td>USA</td>\n",
       "      <td>ALS</td>\n",
       "    </tr>\n",
       "  </tbody>\n",
       "</table>\n",
       "</div>"
      ],
      "text/plain": [
       "         City State Country IATA\n",
       "0  Abbotsford    BC  Canada  YXX\n",
       "1    Aberdeen    SD     USA  ABR\n",
       "2     Abilene    TX     USA  ABI\n",
       "3       Akron    OH     USA  CAK\n",
       "4     Alamosa    CO     USA  ALS"
      ]
     },
     "execution_count": 7,
     "metadata": {},
     "output_type": "execute_result"
    }
   ],
   "source": [
    "airports_df.limit(5).toPandas()"
   ]
  },
  {
   "cell_type": "code",
   "execution_count": null,
   "metadata": {
    "collapsed": false,
    "deletable": true,
    "editable": true
   },
   "outputs": [],
   "source": [
    "tracks_df.limit(5).toPandas()"
   ]
  },
  {
   "cell_type": "code",
   "execution_count": 8,
   "metadata": {
    "collapsed": false,
    "deletable": true,
    "editable": true
   },
   "outputs": [
    {
     "name": "stdout",
     "output_type": "stream",
     "text": [
      "root\n",
      " |-- City: string (nullable = true)\n",
      " |-- State: string (nullable = true)\n",
      " |-- Country: string (nullable = true)\n",
      " |-- IATA: string (nullable = true)\n",
      "\n"
     ]
    }
   ],
   "source": [
    "airports_df.printSchema()"
   ]
  },
  {
   "cell_type": "code",
   "execution_count": 9,
   "metadata": {
    "collapsed": false,
    "deletable": true,
    "editable": true
   },
   "outputs": [
    {
     "name": "stdout",
     "output_type": "stream",
     "text": [
      "root\n",
      " |-- date: string (nullable = true)\n",
      " |-- delay: string (nullable = true)\n",
      " |-- distance: string (nullable = true)\n",
      " |-- origin: string (nullable = true)\n",
      " |-- destination: string (nullable = true)\n",
      "\n"
     ]
    }
   ],
   "source": [
    "flights_df.printSchema() #date, delay and distance should change to int"
   ]
  },
  {
   "cell_type": "code",
   "execution_count": 10,
   "metadata": {
    "collapsed": false,
    "deletable": true,
    "editable": true
   },
   "outputs": [
    {
     "name": "stdout",
     "output_type": "stream",
     "text": [
      "root\n",
      " |-- na: string (nullable = true)\n",
      " |-- altitude: string (nullable = true)\n",
      " |-- dest: string (nullable = true)\n",
      " |-- heading: string (nullable = true)\n",
      " |-- flight: string (nullable = true)\n",
      " |-- na2: string (nullable = true)\n",
      " |-- landed: string (nullable = true)\n",
      " |-- time: string (nullable = true)\n",
      " |-- lat: string (nullable = true)\n",
      " |-- lon: string (nullable = true)\n",
      " |-- na3: string (nullable = true)\n",
      " |-- org: string (nullable = true)\n",
      " |-- na4: string (nullable = true)\n",
      " |-- registration: string (nullable = true)\n",
      " |-- flight2: string (nullable = true)\n",
      " |-- speed: string (nullable = true)\n",
      " |-- na6: string (nullable = true)\n",
      " |-- planetype: string (nullable = true)\n",
      " |-- altitude_delta: string (nullable = true)\n",
      "\n"
     ]
    }
   ],
   "source": [
    "tracks_df.printSchema()"
   ]
  },
  {
   "cell_type": "code",
   "execution_count": null,
   "metadata": {
    "collapsed": false,
    "deletable": true,
    "editable": true
   },
   "outputs": [],
   "source": []
  },
  {
   "cell_type": "markdown",
   "metadata": {
    "deletable": true,
    "editable": true
   },
   "source": [
    "## Cleaning data\n",
    "\n",
    "Your data can be stained with duplicates, missing observations and outliers, non- existent addresses, wrong phone numbers and area codes, inaccurate geographical coordinates, wrong dates, incorrect labels, mixtures of upper and lower cases, trailing spaces, and many other more subtle problems. It is your job to clean it, irrespective of whether you are a data scientist or data engineer,"
   ]
  },
  {
   "cell_type": "markdown",
   "metadata": {
    "deletable": true,
    "editable": true
   },
   "source": [
    "### Duplicate rows check and remove\n",
    "First lets define some our spark util functions"
   ]
  },
  {
   "cell_type": "code",
   "execution_count": 5,
   "metadata": {
    "collapsed": false,
    "deletable": true,
    "editable": true
   },
   "outputs": [],
   "source": [
    "def showDuplicateRowsCount(df):\n",
    "    'Show row count with full duplicated rows'\n",
    "    print(\"====Checking table duplicate rows =====\")\n",
    "    print('Count of rows: {0}'.format(df.count()))\n",
    "    print('Count of distinct rows: {0}'.format(df.distinct().count()))\n",
    "    print('===> nr of duplicate rows {0}'.format(df.count()-df.distinct().count()))\n",
    "def showDuplicatesColumnCount(df,col):\n",
    "    'Show duplicate rows based on a specific (id) col.'\n",
    "    print(\"=====Checking col {0}\".format(col))\n",
    "    print('Count of values: {0}'.format(df.count()))\n",
    "    distinct_col_count = df.select([\n",
    "           c for c in df.columns if c != col\n",
    "       ]).distinct().count()\n",
    "    print('Count of distinct column values: {0}'.format(distinct_col_count))\n",
    "    print (\"====> duplicate count {0}\".format(df.count() - distinct_col_count))\n",
    "def showDuplicatesColumnCountSpark(df,col):\n",
    "    'spark version of Showduplicatescolumncount()'\n",
    "    df.agg(\n",
    "       fn.count(col).alias('count'),\n",
    "       fn.countDistinct(col).alias('distinct')\n",
    "    ).show()\n",
    "def showDuplicateColumnsCount(df):\n",
    "    'Show duplicate rows based on all columns in a dataframe'\n",
    "    for col in df.columns:\n",
    "        showDuplicatesColumn(df,col)\n",
    "def dropDuplicateColumn(df,col):\n",
    "    'drop rows with duplicate columns based on certain (id) column'\n",
    "    df = df.dropDuplicates(subset=[\n",
    "       c for c in df.columns if c != col\n",
    "    ])\n",
    "#   \n",
    "#def getDFDuplicateColumns(df,col,new_col):\n",
    "#    uniq_df = df.select([\n",
    "#           c for c in df.columns if c != col\n",
    "#       ]).distinct()\n",
    "#    duplicate_df = df.subtract(uniq_df)\n",
    "#    \n",
    "#    return(duplicate_df.withColumn(new_col, \\\n",
    "#                            fn.monotonically_increasing_id()))\n",
    "#   **/ \n",
    "def showMissingDataPercent(df_miss):\n",
    "    'show each column and percentage of missing data, 0 - 1 , 0 means no missing data'\n",
    "    df_miss.agg(*[\n",
    "       (1 - (fn.count(c) / fn.count('*'))).alias(c + '_missing')\n",
    "       for c in df_miss.columns\n",
    "    ]).show()\n",
    "def getDFDropColumn(df_miss,col):\n",
    "    'Get a new dataframe based on another without given column'\n",
    "    return(df_miss.select([\n",
    "       c for c in df_miss.columns if c != col\n",
    "    ]))\n",
    "def getDFDropMissingRows(df_miss):\n",
    "    'Drop rows with any missing column field'\n",
    "    return(df_miss.dropna())\n",
    "def fillMissingMeanColumn(df,col):\n",
    "    'Fill in missing values in a certain column containing numerical data'\n",
    "    means = df.agg(\n",
    "       *[fn.mean(col).alias(col)\n",
    "           for c in df.columns if c != col]\n",
    "   ).toPandas().to_dict('records')[0]\n",
    "def getDFFillMissingCategoryColumn(df,col):\n",
    "    'Fill in missing values in a column containing a category and return df'\n",
    "    miss_dict = {col: \"missing\"}\n",
    "    return(df.fillna(miss_dict))\n",
    "def getDictOutliers(df_outliers,col_list):\n",
    "    'return dictionary with outliers boundaries , based on columns in list'\n",
    "    bounds = {}\n",
    "    for col in col_list:\n",
    "        quantiles = df_outliers.approxQuantile(\n",
    "           col, [0.25, 0.75], 0.05\n",
    "       )\n",
    "        IQR = quantiles[1] - quantiles[0]\n",
    "        bounds[col] = [\n",
    "           quantiles[0] - 1.5 * IQR,\n",
    "           quantiles[1] + 1.5 * IQR\n",
    "     ]\n",
    "    return bounds\n",
    "def getDFOutliers(df_outliers,bounds,cols,id_col):\n",
    "    'print all outlier rows based on dictionary with outlier bounderies dict, for columns in column list'\n",
    "    outliers = df_outliers.select(*[id_col] + [\n",
    "       (\n",
    "           (df_outliers[c] < bounds[c][0]) |\n",
    "           (df_outliers[c] > bounds[c][1])\n",
    "       ).alias(c + '_o') for c in cols\n",
    "    ])\n",
    "    return outliers\n",
    "\n",
    "    "
   ]
  },
  {
   "cell_type": "code",
   "execution_count": 12,
   "metadata": {
    "collapsed": false,
    "deletable": true,
    "editable": true
   },
   "outputs": [
    {
     "name": "stdout",
     "output_type": "stream",
     "text": [
      "====Checking table duplicate rows =====\n",
      "Count of rows: 1391578\n",
      "Count of distinct rows: 1391071\n",
      "===> nr of duplicate rows 507\n",
      "====Checking table duplicate rows =====\n",
      "Count of rows: 526\n",
      "Count of distinct rows: 526\n",
      "===> nr of duplicate rows 0\n",
      "====Checking table duplicate rows =====\n",
      "Count of rows: 114728\n",
      "Count of distinct rows: 113993\n",
      "===> nr of duplicate rows 735\n"
     ]
    }
   ],
   "source": [
    "#Check duplicates rows, same value?\n",
    "flights_df = spark.sql(\"select * from flights\") #507 out of 1.4 milj\n",
    "showDuplicateRowsCount(flights_df)\n",
    "airports_df = spark.sql(\"select * from airports\") #0\n",
    "showDuplicateRowsCount(airports_df)\n",
    "tracks_df = spark.sql(\"select * from tracks\") #192k out of 14m, 735 out of 114k after filtering for AMS arrival\n",
    "showDuplicateRowsCount(tracks_df) #takes 10 mins"
   ]
  },
  {
   "cell_type": "code",
   "execution_count": 6,
   "metadata": {
    "collapsed": true,
    "deletable": true,
    "editable": true
   },
   "outputs": [],
   "source": [
    "#Change type of integer based columns , so we check outliers later on\n",
    "flights_df = flights_df.withColumn(\"delay\",flights_df[\"delay\"].cast(typ.IntegerType()))\n",
    "flights_df = flights_df.withColumn(\"distance\",flights_df[\"distance\"].cast(typ.IntegerType()))\n",
    "                   \n",
    "tracks_df = tracks_df.withColumn(\"altitude\",tracks_df[\"altitude\"].cast(typ.IntegerType()))  \n",
    "tracks_df = tracks_df.withColumn(\"altitude_delta\",tracks_df[\"altitude_delta\"].cast(typ.IntegerType()))\n",
    "tracks_df = tracks_df.withColumn(\"speed\",tracks_df[\"speed\"].cast(typ.IntegerType()))      \n",
    "tracks_df = tracks_df.withColumn(\"heading\",tracks_df[\"heading\"].cast(typ.IntegerType()))   \n",
    "tracks_df = tracks_df.withColumn(\"lat\",tracks_df[\"lat\"].cast(typ.LongType()))  \n",
    "tracks_df = tracks_df.withColumn(\"lon\",tracks_df[\"lon\"].cast(typ.LongType())) \n",
    "tracks_df = tracks_df.withColumn(\"time\",tracks_df[\"time\"].cast(typ.LongType())) \n",
    "tracks_df = tracks_df.withColumn(\"landed\",tracks_df[\"landed\"].cast(typ.IntegerType()))\n",
    "\n",
    "#Lets add a id columns for the flights\n",
    "flights_df = flights_df.withColumn('id',fn.monotonically_increasing_id())"
   ]
  },
  {
   "cell_type": "code",
   "execution_count": 7,
   "metadata": {
    "collapsed": false,
    "deletable": true,
    "editable": true
   },
   "outputs": [],
   "source": [
    "#pure duplicates just drop these, but the flights tables might be different flights. We donts know without id\n",
    "tracks_df =tracks_df.dropDuplicates()"
   ]
  },
  {
   "cell_type": "markdown",
   "metadata": {
    "deletable": true,
    "editable": true
   },
   "source": [
    "### Duplicate columns check\n",
    "\n",
    "Some times there are columns identifying a row, and which are different.\n",
    "However in case you know the rest of the columns is the same you might want to remove these rows. eg , Michel , 1.90, hoofddorp , and michel2, 1.90, hoofddorp . Its the same person but id is incorrect. "
   ]
  },
  {
   "cell_type": "code",
   "execution_count": 15,
   "metadata": {
    "collapsed": false,
    "deletable": true,
    "editable": true
   },
   "outputs": [
    {
     "name": "stdout",
     "output_type": "stream",
     "text": [
      "=====Checking col IATA\n",
      "Count of values: 526\n",
      "Count of distinct column values: 511\n",
      "====> duplicate count 15\n",
      "+-----+--------+\n",
      "|count|distinct|\n",
      "+-----+--------+\n",
      "|  526|     524|\n",
      "+-----+--------+\n",
      "\n"
     ]
    }
   ],
   "source": [
    "#airports IATA should be uniq. It seems 15 rows have identical data \n",
    "#but different IATA code\n",
    "showDuplicatesColumnCount(airports_df,'IATA')\n",
    "showDuplicatesColumnCountSpark(airports_df,'IATA')\n",
    "#TODO WHY ARE RESULT DIFFERENT!!!!!! SHOULD BE BOTH 511 OR 524!!"
   ]
  },
  {
   "cell_type": "code",
   "execution_count": 16,
   "metadata": {
    "collapsed": false,
    "deletable": true,
    "editable": true
   },
   "outputs": [
    {
     "name": "stdout",
     "output_type": "stream",
     "text": [
      "=====Checking col flight\n",
      "Count of values: 113993\n",
      "Count of distinct column values: 113993\n",
      "====> duplicate count 0\n"
     ]
    }
   ],
   "source": [
    "showDuplicatesColumnCount(tracks_df,'flight')"
   ]
  },
  {
   "cell_type": "markdown",
   "metadata": {
    "deletable": true,
    "editable": true
   },
   "source": [
    "```\n",
    "We could call dropDuplicateColumn(df_airports,'IATA')\n",
    "\n",
    "However this would delete rows without knowing the correct IATA. \n",
    "The Flights tables does not have uniq field like flightname,\n",
    "so will not delete any rows there either.\n",
    "```"
   ]
  },
  {
   "cell_type": "code",
   "execution_count": null,
   "metadata": {
    "collapsed": false,
    "deletable": true,
    "editable": true
   },
   "outputs": [],
   "source": [
    "#TODO: Make function to show these rows so we know which are duplicates\n",
    "#df_duplicate_airports = getDFDuplicateColumns(airports_df,'IATA','new_id')\n",
    "#df_duplicate_airports.toPandas()"
   ]
  },
  {
   "cell_type": "markdown",
   "metadata": {
    "deletable": true,
    "editable": true
   },
   "source": [
    "### Missing data\n",
    "\n",
    "```\n",
    "Drop data row if possible in case of missing. if datasize. < 50% check which features are missing, and just drop these.\n",
    "Alternative impute missing:\n",
    "Boolean: add missing category\n",
    "categorial already: add multiple extra levels and and missing there\n",
    "numeric and ordinal: mean, median etc to fill in\n",
    "```"
   ]
  },
  {
   "cell_type": "code",
   "execution_count": 16,
   "metadata": {
    "collapsed": false,
    "deletable": true,
    "editable": true
   },
   "outputs": [
    {
     "name": "stdout",
     "output_type": "stream",
     "text": [
      "+------------+--------------------+---------------+------------+\n",
      "|City_missing|       State_missing|Country_missing|IATA_missing|\n",
      "+------------+--------------------+---------------+------------+\n",
      "|         0.0|0.005703422053231932|            0.0|         0.0|\n",
      "+------------+--------------------+---------------+------------+\n",
      "\n",
      "+------------+-------------+----------------+--------------+-------------------+----------+\n",
      "|date_missing|delay_missing|distance_missing|origin_missing|destination_missing|id_missing|\n",
      "+------------+-------------+----------------+--------------+-------------------+----------+\n",
      "|         0.0|          0.0|             0.0|           0.0|                0.0|       0.0|\n",
      "+------------+-------------+----------------+--------------+-------------------+----------+\n",
      "\n",
      "+----------+----------------+------------+---------------+--------------------+-----------+--------------+------------+-----------+-----------+--------------------+-----------+-----------+--------------------+--------------------+-------------+-----------+-----------------+----------------------+\n",
      "|na_missing|altitude_missing|dest_missing|heading_missing|      flight_missing|na2_missing|landed_missing|time_missing|lat_missing|lon_missing|         na3_missing|org_missing|na4_missing|registration_missing|     flight2_missing|speed_missing|na6_missing|planetype_missing|altitude_delta_missing|\n",
      "+----------+----------------+------------+---------------+--------------------+-----------+--------------+------------+-----------+-----------+--------------------+-----------+-----------+--------------------+--------------------+-------------+-----------+-----------------+----------------------+\n",
      "|       0.0|             0.0|         0.0|            0.0|0.006044230786100946|        0.0|           0.0|         0.0|        0.0|        0.0|2.631740545466776...|        0.0|        0.0|2.631740545466776...|0.001175510776977...|          0.0|        0.0|              0.0|                   0.0|\n",
      "+----------+----------------+------------+---------------+--------------------+-----------+--------------+------------+-----------+-----------+--------------------+-----------+-----------+--------------------+--------------------+-------------+-----------+-----------------+----------------------+\n",
      "\n"
     ]
    }
   ],
   "source": [
    "#0 = perfect, 1 = all is missing\n",
    "showMissingDataPercent(airports_df) #State misses some data\n",
    "showMissingDataPercent(flights_df)\n",
    "showMissingDataPercent(tracks_df) #We miss some, flight a bit, but is important to have these,"
   ]
  },
  {
   "cell_type": "code",
   "execution_count": 8,
   "metadata": {
    "collapsed": false,
    "deletable": true,
    "editable": true
   },
   "outputs": [
    {
     "name": "stdout",
     "output_type": "stream",
     "text": [
      "+------------+---------------+------------+\n",
      "|City_missing|Country_missing|IATA_missing|\n",
      "+------------+---------------+------------+\n",
      "|         0.0|            0.0|         0.0|\n",
      "+------------+---------------+------------+\n",
      "\n",
      "+----------+----------------+------------+---------------+-----------+--------------+------------+-----------+-----------+--------------------+-----------+-----------+--------------------+--------------------+-------------+-----------+-----------------+----------------------+\n",
      "|na_missing|altitude_missing|dest_missing|heading_missing|na2_missing|landed_missing|time_missing|lat_missing|lon_missing|         na3_missing|org_missing|na4_missing|registration_missing|     flight2_missing|speed_missing|na6_missing|planetype_missing|altitude_delta_missing|\n",
      "+----------+----------------+------------+---------------+-----------+--------------+------------+-----------+-----------+--------------------+-----------+-----------+--------------------+--------------------+-------------+-----------+-----------------+----------------------+\n",
      "|       0.0|             0.0|         0.0|            0.0|        0.0|           0.0|         0.0|        0.0|        0.0|2.631740545466776...|        0.0|        0.0|2.631740545466776...|0.001175510776977...|          0.0|        0.0|              0.0|                   0.0|\n",
      "+----------+----------------+------------+---------------+-----------+--------------+------------+-----------+-----------+--------------------+-----------+-----------+--------------------+--------------------+-------------+-----------+-----------------+----------------------+\n",
      "\n"
     ]
    },
    {
     "data": {
      "text/plain": [
       "113993"
      ]
     },
     "execution_count": 8,
     "metadata": {},
     "output_type": "execute_result"
    }
   ],
   "source": [
    "#We could just drop column state, we keep all our rows, and have no missing data\n",
    "df_no_state = getDFDropColumn(airports_df,'State')\n",
    "showMissingDataPercent(df_no_state)\n",
    "\n",
    "df_no_flight = getDFDropColumn(tracks_df,'flight')\n",
    "showMissingDataPercent(df_no_flight)\n",
    "\n",
    "df_no_flight.count() #113993 out of 114k"
   ]
  },
  {
   "cell_type": "code",
   "execution_count": 8,
   "metadata": {
    "collapsed": false,
    "deletable": true,
    "editable": true
   },
   "outputs": [
    {
     "name": "stdout",
     "output_type": "stream",
     "text": [
      "+------------+-------------+---------------+------------+\n",
      "|City_missing|State_missing|Country_missing|IATA_missing|\n",
      "+------------+-------------+---------------+------------+\n",
      "|         0.0|          0.0|            0.0|         0.0|\n",
      "+------------+-------------+---------------+------------+\n",
      "\n",
      "+----------+----------------+------------+---------------+--------------+-----------+--------------+------------+-----------+-----------+-----------+-----------+-----------+--------------------+---------------+-------------+-----------+-----------------+----------------------+\n",
      "|na_missing|altitude_missing|dest_missing|heading_missing|flight_missing|na2_missing|landed_missing|time_missing|lat_missing|lon_missing|na3_missing|org_missing|na4_missing|registration_missing|flight2_missing|speed_missing|na6_missing|planetype_missing|altitude_delta_missing|\n",
      "+----------+----------------+------------+---------------+--------------+-----------+--------------+------------+-----------+-----------+-----------+-----------+-----------+--------------------+---------------+-------------+-----------+-----------------+----------------------+\n",
      "|       0.0|             0.0|         0.0|            0.0|           0.0|        0.0|           0.0|         0.0|        0.0|        0.0|        0.0|        0.0|        0.0|                 0.0|            0.0|          0.0|        0.0|              0.0|                   0.0|\n",
      "+----------+----------------+------------+---------------+--------------+-----------+--------------+------------+-----------+-----------+-----------+-----------+-----------+--------------------+---------------+-------------+-----------+-----------------+----------------------+\n",
      "\n"
     ]
    },
    {
     "data": {
      "text/plain": [
       "113167"
      ]
     },
     "execution_count": 8,
     "metadata": {},
     "output_type": "execute_result"
    }
   ],
   "source": [
    "#Or drop only rows with any missing data\n",
    "df_without_missing = getDFDropMissingRows(airports_df)\n",
    "showMissingDataPercent(df_without_missing)\n",
    "\n",
    "df_without_missing_flight = getDFDropMissingRows(tracks_df)\n",
    "showMissingDataPercent(df_without_missing_flight)\n",
    "\n",
    "df_without_missing_flight.count() #Also 113167 , so we could just use this for the tracker"
   ]
  },
  {
   "cell_type": "code",
   "execution_count": 9,
   "metadata": {
    "collapsed": false,
    "deletable": true,
    "editable": true
   },
   "outputs": [
    {
     "name": "stdout",
     "output_type": "stream",
     "text": [
      "+-------------+-------+-------+----+\n",
      "|         City|  State|Country|IATA|\n",
      "+-------------+-------+-------+----+\n",
      "|Washington DC|missing|    USA| IAD|\n",
      "|Washington DC|missing|    USA| DCA|\n",
      "|Washington DC|missing|    USA| WAS|\n",
      "+-------------+-------+-------+----+\n",
      "\n",
      "+------------+-------------+---------------+------------+\n",
      "|City_missing|State_missing|Country_missing|IATA_missing|\n",
      "+------------+-------------+---------------+------------+\n",
      "|         0.0|          0.0|            0.0|         0.0|\n",
      "+------------+-------------+---------------+------------+\n",
      "\n"
     ]
    }
   ],
   "source": [
    "#Or we can impute values, as this is a category we will add a missing category\n",
    "df_missing_state = getDFFillMissingCategoryColumn(airports_df,'State')\n",
    "df_missing_state.where(\"State == 'missing'\").show() #3\n",
    "df_missing_state.count() #526\n",
    "showMissingDataPercent(df_missing_state)"
   ]
  },
  {
   "cell_type": "code",
   "execution_count": 10,
   "metadata": {
    "collapsed": false,
    "deletable": true,
    "editable": true
   },
   "outputs": [],
   "source": [
    "#LETS PICK LAST OPTION for Airports and trackers\n",
    "airports_df = df_missing_state\n",
    "tracks_df = df_without_missing_flight"
   ]
  },
  {
   "cell_type": "markdown",
   "metadata": {
    "deletable": true,
    "editable": true
   },
   "source": [
    "### outliers\n",
    "\n",
    "Outliers are those observations that deviate signi cantly from the distribution of the rest of your sample. The de nitions of signi cance vary, but in the most general form, you can accept that there are no outliers if all the values are roughly within the Q1−1.5IQR and Q3+1.5IQR range"
   ]
  },
  {
   "cell_type": "code",
   "execution_count": 20,
   "metadata": {
    "collapsed": false,
    "deletable": true,
    "editable": true
   },
   "outputs": [
    {
     "name": "stdout",
     "output_type": "stream",
     "text": [
      "{'distance': [-518.5, 1813.5], 'delay': [-32.5, 43.5]}\n",
      "{'landed': [0.0, 0.0], 'heading': [-266.0, 654.0], 'lon': [-31.0, 49.0], 'lat': [38.0, 62.0], 'time': [1466689917.0, 1466841293.0], 'altitude': [-19087.5, 70612.5]}\n"
     ]
    }
   ],
   "source": [
    "#Show the ouytlier ranges for our integer based columns\n",
    "col_list = ['delay','distance'] \n",
    "\n",
    "#Run cast code in the beginning again (dont no why thats needed?)\n",
    "outliers_dict = getDictOutliers(flights_df,col_list)\n",
    "print(outliers_dict) \n",
    "\n",
    "#Show the ouytlier ranges for our integer based columns\n",
    "col_flights_list = ['lat','lon','altitude','heading','time','landed'] \n",
    "\n",
    "outliers_flights_dict = getDictOutliers(tracks_df,col_flights_list)\n",
    "print(outliers_flights_dict) #Not really handy way to check outliers.\n",
    "\n"
   ]
  },
  {
   "cell_type": "code",
   "execution_count": 21,
   "metadata": {
    "collapsed": false,
    "deletable": true,
    "editable": true
   },
   "outputs": [
    {
     "name": "stdout",
     "output_type": "stream",
     "text": [
      "+---+-------+----------+\n",
      "| id|delay_o|distance_o|\n",
      "+---+-------+----------+\n",
      "|  0|  false|     false|\n",
      "|  1|  false|     false|\n",
      "|  2|  false|     false|\n",
      "|  3|  false|     false|\n",
      "|  4|  false|     false|\n",
      "|  5|  false|     false|\n",
      "|  6|  false|     false|\n",
      "|  7|  false|     false|\n",
      "|  8|   true|     false|\n",
      "|  9|  false|     false|\n",
      "| 10|  false|     false|\n",
      "| 11|   true|     false|\n",
      "| 12|  false|     false|\n",
      "| 13|  false|     false|\n",
      "| 14|  false|     false|\n",
      "| 15|  false|     false|\n",
      "| 16|  false|     false|\n",
      "| 17|  false|     false|\n",
      "| 18|  false|     false|\n",
      "| 19|  false|     false|\n",
      "+---+-------+----------+\n",
      "only showing top 20 rows\n",
      "\n",
      "+------+-----+-----+----------+---------+------+--------+\n",
      "|flight|lat_o|lon_o|altitude_o|heading_o|time_o|landed_o|\n",
      "+------+-----+-----+----------+---------+------+--------+\n",
      "| KL214|false| true|     false|    false| false|   false|\n",
      "| UA909|false| true|     false|    false| false|   false|\n",
      "| KL642|false| true|     false|    false| false|   false|\n",
      "|MP6332|false| true|     false|    false| false|   false|\n",
      "| UA946|false| true|     false|    false| false|   false|\n",
      "| DL126|false| true|     false|    false| false|   false|\n",
      "| KL836|false| true|     false|    false| false|   false|\n",
      "| UA946|false| true|     false|    false| false|   false|\n",
      "|  DL70|false| true|     false|    false| false|   false|\n",
      "|  CI65| true| true|     false|    false| false|   false|\n",
      "|HV6146|false|false|     false|    false| false|   false|\n",
      "|  DL46|false| true|     false|    false| false|   false|\n",
      "| KL676|false| true|     false|    false| false|   false|\n",
      "| EY957| true|false|     false|    false| false|   false|\n",
      "| KL808|false| true|     false|    false| false|   false|\n",
      "| DL160|false| true|     false|    false| false|   false|\n",
      "| CX271|false| true|     false|    false| false|   false|\n",
      "| CZ345|false|false|     false|    false| false|   false|\n",
      "| DL134|false| true|     false|    false| false|   false|\n",
      "| DL178|false| true|     false|    false| false|   false|\n",
      "+------+-----+-----+----------+---------+------+--------+\n",
      "only showing top 20 rows\n",
      "\n"
     ]
    }
   ],
   "source": [
    "#Flag rows\n",
    "#Run the id add function again, for some reason..\n",
    "df_outliers = getDFOutliers(flights_df,outliers_dict,col_list,'id')\n",
    "df_outliers.show()\n",
    "\n",
    "df_flight_outliers = getDFOutliers(tracks_df,outliers_flights_dict,col_flights_list,'flight')\n",
    "df_flight_outliers.show()"
   ]
  },
  {
   "cell_type": "code",
   "execution_count": 22,
   "metadata": {
    "collapsed": false,
    "deletable": true,
    "editable": true
   },
   "outputs": [
    {
     "name": "stdout",
     "output_type": "stream",
     "text": [
      "136256\n",
      "74877\n",
      "+---+-----+\n",
      "| id|delay|\n",
      "+---+-----+\n",
      "|  8|   88|\n",
      "| 11|   69|\n",
      "| 23|   54|\n",
      "| 25|  151|\n",
      "| 29|   83|\n",
      "| 34|   52|\n",
      "| 36|  127|\n",
      "| 63|   68|\n",
      "| 80|   89|\n",
      "| 82|   44|\n",
      "| 85|   80|\n",
      "| 87|  333|\n",
      "| 88|  219|\n",
      "| 92|  180|\n",
      "|121|   92|\n",
      "|138|   47|\n",
      "|170|  146|\n",
      "|174|   72|\n",
      "|177|   62|\n",
      "|181|  150|\n",
      "+---+-----+\n",
      "only showing top 20 rows\n",
      "\n",
      "+----+--------+\n",
      "|  id|distance|\n",
      "+----+--------+\n",
      "|3685|    1944|\n",
      "|3691|    1944|\n",
      "|3703|    1944|\n",
      "|3722|    1944|\n",
      "|3728|    1944|\n",
      "|3738|    1944|\n",
      "|4710|    2473|\n",
      "|4714|    2038|\n",
      "|4716|    2217|\n",
      "|4721|    2413|\n",
      "|4744|    2473|\n",
      "|4749|    2038|\n",
      "|4752|    2002|\n",
      "|4760|    2430|\n",
      "|4761|    2413|\n",
      "|4785|    2473|\n",
      "|4790|    2038|\n",
      "|4792|    2002|\n",
      "|4800|    2413|\n",
      "|4820|    2473|\n",
      "+----+--------+\n",
      "only showing top 20 rows\n",
      "\n"
     ]
    }
   ],
   "source": [
    "#Show outlier  flights\n",
    "#1.4 milj flights, about 162k has outlier delays. And 75k outlier distance\n",
    "df_out= flights_df.join(df_outliers, on='id')\n",
    "print(df_out.filter('delay_o').select('id', 'delay').count())\n",
    "print(df_out.filter('distance_o').select('id', 'distance').count())\n",
    "df_out.filter('delay_o').select('id', 'delay').show()\n",
    "df_out.filter('distance_o').select('id', 'distance').show()\n",
    "    "
   ]
  },
  {
   "cell_type": "code",
   "execution_count": 23,
   "metadata": {
    "collapsed": false,
    "deletable": true,
    "editable": true
   },
   "outputs": [
    {
     "name": "stdout",
     "output_type": "stream",
     "text": [
      "0\n",
      "0\n",
      "6839920\n",
      "14994563\n",
      "2369013\n",
      "+------+-------+\n",
      "|flight|heading|\n",
      "+------+-------+\n",
      "+------+-------+\n",
      "\n",
      "+------+--------+\n",
      "|flight|altitude|\n",
      "+------+--------+\n",
      "+------+--------+\n",
      "\n",
      "+------+---+\n",
      "|flight|lat|\n",
      "+------+---+\n",
      "| KL836| 38|\n",
      "| KL836| 38|\n",
      "| KL836| 38|\n",
      "| KL836| 38|\n",
      "| KL836| 38|\n",
      "| KL836| 38|\n",
      "| KL836| 38|\n",
      "| KL836| 38|\n",
      "| KL836| 38|\n",
      "| KL836| 38|\n",
      "| KL836| 38|\n",
      "| KL836| 38|\n",
      "| KL836| 38|\n",
      "| KL836| 38|\n",
      "| KL836| 38|\n",
      "| KL836| 38|\n",
      "| KL836| 38|\n",
      "| KL836| 38|\n",
      "| KL836| 38|\n",
      "| KL836| 38|\n",
      "+------+---+\n",
      "only showing top 20 rows\n",
      "\n",
      "+------+----+\n",
      "|flight| lon|\n",
      "+------+----+\n",
      "| KL214|-122|\n",
      "| KL214|-122|\n",
      "| KL214|-122|\n",
      "| KL214|-122|\n",
      "| KL214|-122|\n",
      "| KL214|-122|\n",
      "| KL214|-122|\n",
      "| KL214|-122|\n",
      "| KL214|-122|\n",
      "| KL214|-122|\n",
      "| KL214|-122|\n",
      "| KL214|-122|\n",
      "| KL214|-122|\n",
      "| KL214|-122|\n",
      "| KL214|-122|\n",
      "| KL214|-122|\n",
      "| KL214|-122|\n",
      "| KL214|-122|\n",
      "| KL214|-122|\n",
      "| KL214|-122|\n",
      "+------+----+\n",
      "only showing top 20 rows\n",
      "\n",
      "+------+------+\n",
      "|flight|landed|\n",
      "+------+------+\n",
      "| KL214|     0|\n",
      "| KL214|     0|\n",
      "| KL214|     0|\n",
      "| KL214|     0|\n",
      "| KL214|     0|\n",
      "| KL214|     0|\n",
      "| KL214|     0|\n",
      "| KL214|     0|\n",
      "| KL214|     0|\n",
      "| KL214|     0|\n",
      "| KL214|     0|\n",
      "| KL214|     0|\n",
      "| KL214|     0|\n",
      "| KL214|     0|\n",
      "| KL214|     0|\n",
      "| KL214|     0|\n",
      "| KL214|     0|\n",
      "| KL214|     0|\n",
      "| KL214|     0|\n",
      "| UA909|     0|\n",
      "+------+------+\n",
      "only showing top 20 rows\n",
      "\n"
     ]
    }
   ],
   "source": [
    "#Show outlier  tracks, dont understand the result yet .. todo\n",
    "df_out=tracks_df.join(df_flight_outliers, on='flight')\n",
    "print(df_out.filter('heading_o').select('flight', 'heading').count())  #None, however heading has strange values\n",
    "print(df_out.filter('altitude_o').select('flight', 'altitude').count()) #None, but shows some strange numbers\n",
    "print(df_out.filter('lat_o').select('flight', 'lat').count()) #32, < 33 but still good value\n",
    "print(df_out.filter('lon_o').select('flight', 'lon').count()) #-66 also good\n",
    "print(df_out.filter('landed_o').select('flight', 'landed').count())  # 0 , <> 0.0 .. \n",
    "\n",
    "df_out.filter('heading_o').select('flight', 'heading').show()\n",
    "df_out.filter('altitude_o').select('flight', 'altitude').show()\n",
    "df_out.filter('lat_o').select('flight', 'lat').show()\n",
    "df_out.filter('lon_o').select('flight', 'lon').show()\n",
    "df_out.filter('landed_o').select('flight', 'landed').show()"
   ]
  },
  {
   "cell_type": "code",
   "execution_count": 11,
   "metadata": {
    "collapsed": false,
    "deletable": true,
    "editable": true
   },
   "outputs": [
    {
     "data": {
      "text/html": [
       "<div>\n",
       "<table border=\"1\" class=\"dataframe\">\n",
       "  <thead>\n",
       "    <tr style=\"text-align: right;\">\n",
       "      <th></th>\n",
       "      <th>summary</th>\n",
       "      <th>na</th>\n",
       "      <th>altitude</th>\n",
       "      <th>dest</th>\n",
       "      <th>heading</th>\n",
       "      <th>flight</th>\n",
       "      <th>na2</th>\n",
       "      <th>landed</th>\n",
       "      <th>time</th>\n",
       "      <th>lat</th>\n",
       "      <th>lon</th>\n",
       "      <th>na3</th>\n",
       "      <th>org</th>\n",
       "      <th>na4</th>\n",
       "      <th>registration</th>\n",
       "      <th>flight2</th>\n",
       "      <th>speed</th>\n",
       "      <th>na6</th>\n",
       "      <th>planetype</th>\n",
       "      <th>altitude_delta</th>\n",
       "    </tr>\n",
       "  </thead>\n",
       "  <tbody>\n",
       "    <tr>\n",
       "      <th>0</th>\n",
       "      <td>count</td>\n",
       "      <td>113166</td>\n",
       "      <td>113166</td>\n",
       "      <td>113166</td>\n",
       "      <td>113166</td>\n",
       "      <td>113166</td>\n",
       "      <td>113166</td>\n",
       "      <td>113166</td>\n",
       "      <td>113166</td>\n",
       "      <td>113166</td>\n",
       "      <td>113166</td>\n",
       "      <td>113166</td>\n",
       "      <td>113166</td>\n",
       "      <td>113166</td>\n",
       "      <td>113166</td>\n",
       "      <td>113166</td>\n",
       "      <td>113166</td>\n",
       "      <td>113166</td>\n",
       "      <td>113166</td>\n",
       "      <td>113166</td>\n",
       "    </tr>\n",
       "    <tr>\n",
       "      <th>1</th>\n",
       "      <td>mean</td>\n",
       "      <td>0.0</td>\n",
       "      <td>25937.58012123783</td>\n",
       "      <td>None</td>\n",
       "      <td>185.37657953802378</td>\n",
       "      <td>None</td>\n",
       "      <td>None</td>\n",
       "      <td>0.10491667108495485</td>\n",
       "      <td>1.4667654505120618E9</td>\n",
       "      <td>47.22502341692734</td>\n",
       "      <td>5.826317091705989</td>\n",
       "      <td>1.6246676716458804E68</td>\n",
       "      <td>None</td>\n",
       "      <td>None</td>\n",
       "      <td>None</td>\n",
       "      <td>None</td>\n",
       "      <td>388.65912906703426</td>\n",
       "      <td>2876.8740699503383</td>\n",
       "      <td>None</td>\n",
       "      <td>-18.236431437004047</td>\n",
       "    </tr>\n",
       "    <tr>\n",
       "      <th>2</th>\n",
       "      <td>stddev</td>\n",
       "      <td>0.0</td>\n",
       "      <td>14064.2023260817</td>\n",
       "      <td>None</td>\n",
       "      <td>116.49911756138253</td>\n",
       "      <td>None</td>\n",
       "      <td>None</td>\n",
       "      <td>0.3064473740403571</td>\n",
       "      <td>23851.18733866409</td>\n",
       "      <td>11.206983978418464</td>\n",
       "      <td>42.42697581683487</td>\n",
       "      <td>2.5631885160247046E69</td>\n",
       "      <td>None</td>\n",
       "      <td>None</td>\n",
       "      <td>None</td>\n",
       "      <td>None</td>\n",
       "      <td>158.8451831072749</td>\n",
       "      <td>2403.4989878253073</td>\n",
       "      <td>None</td>\n",
       "      <td>966.8138093056015</td>\n",
       "    </tr>\n",
       "    <tr>\n",
       "      <th>3</th>\n",
       "      <td>min</td>\n",
       "      <td>0</td>\n",
       "      <td>0</td>\n",
       "      <td>AMS</td>\n",
       "      <td>0</td>\n",
       "      <td>4U2180</td>\n",
       "      <td>a1dd1a8</td>\n",
       "      <td>0</td>\n",
       "      <td>1466724663</td>\n",
       "      <td>-34</td>\n",
       "      <td>-123</td>\n",
       "      <td>010145</td>\n",
       "      <td>AAL</td>\n",
       "      <td>F-BGGH2</td>\n",
       "      <td>4X-BAW</td>\n",
       "      <td>AAL798</td>\n",
       "      <td>0</td>\n",
       "      <td>0000</td>\n",
       "      <td>A306</td>\n",
       "      <td>-30976</td>\n",
       "    </tr>\n",
       "    <tr>\n",
       "      <th>4</th>\n",
       "      <td>max</td>\n",
       "      <td>0</td>\n",
       "      <td>43000</td>\n",
       "      <td>AMS</td>\n",
       "      <td>359</td>\n",
       "      <td>Y87486</td>\n",
       "      <td>a21c811</td>\n",
       "      <td>1</td>\n",
       "      <td>1466811193</td>\n",
       "      <td>70</td>\n",
       "      <td>141</td>\n",
       "      <td>C053F6</td>\n",
       "      <td>ZTH</td>\n",
       "      <td>T-ZYTL4</td>\n",
       "      <td>YU-APG</td>\n",
       "      <td>YZR7486</td>\n",
       "      <td>688</td>\n",
       "      <td>7761</td>\n",
       "      <td>RJ85</td>\n",
       "      <td>30976</td>\n",
       "    </tr>\n",
       "  </tbody>\n",
       "</table>\n",
       "</div>"
      ],
      "text/plain": [
       "  summary      na           altitude    dest             heading  flight  \\\n",
       "0   count  113166             113166  113166              113166  113166   \n",
       "1    mean     0.0  25937.58012123783    None  185.37657953802378    None   \n",
       "2  stddev     0.0   14064.2023260817    None  116.49911756138253    None   \n",
       "3     min       0                  0     AMS                   0  4U2180   \n",
       "4     max       0              43000     AMS                 359  Y87486   \n",
       "\n",
       "       na2               landed                  time                 lat  \\\n",
       "0   113166               113166                113166              113166   \n",
       "1     None  0.10491667108495485  1.4667654505120618E9   47.22502341692734   \n",
       "2     None   0.3064473740403571     23851.18733866409  11.206983978418464   \n",
       "3  a1dd1a8                    0            1466724663                 -34   \n",
       "4  a21c811                    1            1466811193                  70   \n",
       "\n",
       "                 lon                    na3     org      na4 registration  \\\n",
       "0             113166                 113166  113166   113166       113166   \n",
       "1  5.826317091705989  1.6246676716458804E68    None     None         None   \n",
       "2  42.42697581683487  2.5631885160247046E69    None     None         None   \n",
       "3               -123                 010145     AAL  F-BGGH2       4X-BAW   \n",
       "4                141                 C053F6     ZTH  T-ZYTL4       YU-APG   \n",
       "\n",
       "   flight2               speed                 na6 planetype  \\\n",
       "0   113166              113166              113166    113166   \n",
       "1     None  388.65912906703426  2876.8740699503383      None   \n",
       "2     None   158.8451831072749  2403.4989878253073      None   \n",
       "3   AAL798                   0                0000      A306   \n",
       "4  YZR7486                 688                7761      RJ85   \n",
       "\n",
       "        altitude_delta  \n",
       "0               113166  \n",
       "1  -18.236431437004047  \n",
       "2    966.8138093056015  \n",
       "3               -30976  \n",
       "4                30976  "
      ]
     },
     "execution_count": 11,
     "metadata": {},
     "output_type": "execute_result"
    }
   ],
   "source": [
    "#Lets filters in between known ranges:\n",
    "#landed 0 or 1\n",
    "#heading 0 - 360\n",
    "#altitude < 100 , > 50000 \n",
    "#the valid range of latitude in degrees is -90 and +90 . Longitude is in the range -180 and +180 \n",
    "tracks_df = tracks_df.where(\"landed == 0 or landed == 1\")\n",
    "tracks_df = tracks_df.where(\"heading >= 0 and heading < 360\")\n",
    "tracks_df = tracks_df.where(\"altitude > -100 and altitude < 50000\")\n",
    "tracks_df = tracks_df.where(\"lat >= -90 and lat <= 90\")\n",
    "tracks_df = tracks_df.where(\"lon >= -180 and lon <= 180\")\n",
    "tracks_df.count() #only 1 row removed 113992\n",
    "\n",
    "tracks_df.describe().toPandas() #looks fine\n"
   ]
  },
  {
   "cell_type": "markdown",
   "metadata": {
    "deletable": true,
    "editable": true
   },
   "source": [
    "## Example flight"
   ]
  },
  {
   "cell_type": "code",
   "execution_count": 23,
   "metadata": {
    "collapsed": false,
    "deletable": true,
    "editable": true
   },
   "outputs": [],
   "source": [
    "df_sel = tracks_df.where(\"flight == 'Y87486'\").toPandas().sort_values(['time']).reset_index() #515 rows"
   ]
  },
  {
   "cell_type": "code",
   "execution_count": 24,
   "metadata": {
    "collapsed": false
   },
   "outputs": [
    {
     "data": {
      "text/plain": [
       "<matplotlib.axes._subplots.AxesSubplot at 0x7fe770576b00>"
      ]
     },
     "execution_count": 24,
     "metadata": {},
     "output_type": "execute_result"
    },
    {
     "data": {
      "image/png": "[encoded data removed]",
      "text/plain": [
       "<matplotlib.figure.Figure at 0x7fe771d09a90>"
      ]
     },
     "metadata": {},
     "output_type": "display_data"
    }
   ],
   "source": [
    "import matplotlib\n",
    "matplotlib.style.use('ggplot')\n",
    "df_sel[['altitude','speed']].plot()"
   ]
  },
  {
   "cell_type": "code",
   "execution_count": 17,
   "metadata": {
    "collapsed": true
   },
   "outputs": [],
   "source": [
    "from IPython.display import HTML\n",
    "import folium\n",
    " \n",
    "def inline_map(map):\n",
    "    \"\"\"\n",
    "    Embeds the HTML source of the map directly into the IPython notebook.\n",
    "    \n",
    "    This method will not work if the map depends on any files (json data). Also this uses\n",
    "    the HTML5 srcdoc attribute, which may not be supported in all browsers.\n",
    "    \"\"\"\n",
    "    map._build_map()\n",
    "    return HTML('<iframe srcdoc=\"{srcdoc}\" style=\"width: 100%; height: 510px; border: none\"></iframe>'.format(srcdoc=map.HTML.replace('\"', '&quot;')))\n",
    " \n",
    "def embed_map(map, path=\"map.html\"):\n",
    "    \"\"\"\n",
    "    Embeds a linked iframe to the map into the IPython notebook.\n",
    "    \n",
    "    Note: this method will not capture the source of the map into the notebook.\n",
    "    This method should work for all maps (as long as they use relative urls).\n",
    "    \"\"\"\n",
    "    map.create_map(path=path)\n",
    "    return HTML('<iframe src=\"files/{path}\" style=\"width: 100%; height: 510px; border: none\"></iframe>'.format(path=path))"
   ]
  },
  {
   "cell_type": "code",
   "execution_count": 15,
   "metadata": {
    "collapsed": false,
    "deletable": true,
    "editable": true
   },
   "outputs": [],
   "source": [
    "#first git clone https://github.com/python-visualization/folium.git\n",
    "#second git clone https://github.com/python-visualization/branca.git\n",
    "import sys\n",
    "#sys.path.insert(0, 'C:\\\\Users\\\\miche\\\\Documenten\\\\folium')\n",
    "#sys.path.insert(0, 'C:\\\\Users\\\\miche\\\\Documenten\\\\branca')\n",
    "\n",
    "#%matplotlib inline\n",
    "import folium\n",
    "\n",
    "from IPython.display import HTML\n",
    "\n",
    "\n",
    "def display(m, height=300):\n",
    "    \"\"\"Takes a folium instance and embed HTML.\"\"\"\n",
    "    m._build_map()\n",
    "    srcdoc = m.HTML.replace('\"', '&quot;')\n",
    "    embed = HTML('<iframe srcdoc=\"{0}\" '\n",
    "                 'style=\"width: 100%; height: {1}px; '\n",
    "                 'border: none\"></iframe>'.format(srcdoc, height))\n",
    "    return embed\n",
    "\n",
    "def inline_map(map):\n",
    "    \"\"\"\n",
    "    Embeds the HTML source of the map directly into the IPython notebook.\n",
    "    \n",
    "    This method will not work if the map depends on any files (json data). Also this uses\n",
    "    the HTML5 srcdoc attribute, which may not be supported in all browsers.\n",
    "    \"\"\"\n",
    "    map._build_map()\n",
    "    return HTML('<iframe srcdoc=\"{srcdoc}\" style=\"width: 100%; height: 510px; border: none\"></iframe>'.format(srcdoc=map.HTML.replace('\"', '&quot;')))\n",
    "\n",
    "def embed_map(map, path=\"map.html\"):\n",
    "    \"\"\"\n",
    "    Embeds a linked iframe to the map into the IPython notebook.\n",
    "    \n",
    "    Note: this method will not capture the source of the map into the notebook.\n",
    "    This method should work for all maps (as long as they use relative urls).\n",
    "    \"\"\"\n",
    "    #map.create_map(path=path)\n",
    "    return HTML('<iframe src=\"files/{path}\" style=\"width: 100%; height: 510px; border: none\"></iframe>'.format(path=path))"
   ]
  },
  {
   "cell_type": "code",
   "execution_count": 19,
   "metadata": {
    "collapsed": false,
    "deletable": true,
    "editable": true
   },
   "outputs": [
    {
     "ename": "AttributeError",
     "evalue": "'Map' object has no attribute 'create_map'",
     "output_type": "error",
     "traceback": [
      "\u001b[0;31m---------------------------------------------------------------------------\u001b[0m",
      "\u001b[0;31mAttributeError\u001b[0m                            Traceback (most recent call last)",
      "\u001b[0;32m<ipython-input-19-84c3b8bd4e5a>\u001b[0m in \u001b[0;36m<module>\u001b[0;34m()\u001b[0m\n\u001b[1;32m     23\u001b[0m \u001b[0;34m\u001b[0m\u001b[0m\n\u001b[1;32m     24\u001b[0m \u001b[0;31m#inline_map(fmap)\u001b[0m\u001b[0;34m\u001b[0m\u001b[0;34m\u001b[0m\u001b[0m\n\u001b[0;32m---> 25\u001b[0;31m \u001b[0membed_map\u001b[0m\u001b[0;34m(\u001b[0m\u001b[0mfmap\u001b[0m\u001b[0;34m)\u001b[0m\u001b[0;34m\u001b[0m\u001b[0m\n\u001b[0m",
      "\u001b[0;32m<ipython-input-17-be645f64f9bc>\u001b[0m in \u001b[0;36membed_map\u001b[0;34m(map, path)\u001b[0m\n\u001b[1;32m     19\u001b[0m     \u001b[0mThis\u001b[0m \u001b[0mmethod\u001b[0m \u001b[0mshould\u001b[0m \u001b[0mwork\u001b[0m \u001b[0;32mfor\u001b[0m \u001b[0mall\u001b[0m \u001b[0mmaps\u001b[0m \u001b[0;34m(\u001b[0m\u001b[0;32mas\u001b[0m \u001b[0mlong\u001b[0m \u001b[0;32mas\u001b[0m \u001b[0mthey\u001b[0m \u001b[0muse\u001b[0m \u001b[0mrelative\u001b[0m \u001b[0murls\u001b[0m\u001b[0;34m)\u001b[0m\u001b[0;34m.\u001b[0m\u001b[0;34m\u001b[0m\u001b[0m\n\u001b[1;32m     20\u001b[0m     \"\"\"\n\u001b[0;32m---> 21\u001b[0;31m     \u001b[0mmap\u001b[0m\u001b[0;34m.\u001b[0m\u001b[0mcreate_map\u001b[0m\u001b[0;34m(\u001b[0m\u001b[0mpath\u001b[0m\u001b[0;34m=\u001b[0m\u001b[0mpath\u001b[0m\u001b[0;34m)\u001b[0m\u001b[0;34m\u001b[0m\u001b[0m\n\u001b[0m\u001b[1;32m     22\u001b[0m     \u001b[0;32mreturn\u001b[0m \u001b[0mHTML\u001b[0m\u001b[0;34m(\u001b[0m\u001b[0;34m'<iframe src=\"files/{path}\" style=\"width: 100%; height: 510px; border: none\"></iframe>'\u001b[0m\u001b[0;34m.\u001b[0m\u001b[0mformat\u001b[0m\u001b[0;34m(\u001b[0m\u001b[0mpath\u001b[0m\u001b[0;34m=\u001b[0m\u001b[0mpath\u001b[0m\u001b[0;34m)\u001b[0m\u001b[0;34m)\u001b[0m\u001b[0;34m\u001b[0m\u001b[0m\n",
      "\u001b[0;31mAttributeError\u001b[0m: 'Map' object has no attribute 'create_map'"
     ]
    }
   ],
   "source": [
    "#df_sel = df.query(\"flight == 'KL282'\")\n",
    "\n",
    "fmap=folium.Map(location=[52.308871, 4.761392], zoom_start=4)\n",
    "#for row in df_sel.iterrows():\n",
    "    #The 'latitude' and 'longitude' names correspond to column names in the original cceats dataframe\n",
    "#    latlon = [ row[1]['lat'], row[1]['lon'] ]\n",
    "\n",
    "    #fmap.simple_marker( latlon, popup=row[1]['flight'] , marker_color='green' )\n",
    "#    folium.Marker(latlon, popup=row[1]['flight']).add_to(fmap)\n",
    "    #fmap.add_children\n",
    "\n",
    "#latlist = df_sel['lat'].tolist()\n",
    "#lonlist = df_sel['lon'].tolist()\n",
    "\n",
    "#lats = [x[1] for x in locs]\n",
    "#lons = [x[2] for x in locs]\n",
    "#coordinates = zip(latlist, lonlist)\n",
    "\n",
    "#m = folium.Map(location=[36.5,-122], zoom_start=6, tiles='Stamen Terrain')\n",
    "# Create the map with the appoximate location of San Andreas Fault\n",
    "#line=folium.PolyLine(locations=coordinates,weight=1,color = 'red')\n",
    "#fmap.add_children(line)\n",
    "\n",
    "#inline_map(fmap)\n",
    "embed_map(fmap)"
   ]
  },
  {
   "cell_type": "markdown",
   "metadata": {
    "deletable": true,
    "editable": true
   },
   "source": [
    "### Statistics"
   ]
  },
  {
   "cell_type": "code",
   "execution_count": null,
   "metadata": {
    "collapsed": false,
    "deletable": true,
    "editable": true
   },
   "outputs": [],
   "source": [
    "#read in the file\n",
    "flights = \"file:/root/learningPySpark/Chapter03/flight-data/departuredelays.csv\" \n",
    "fl = sc.textFile(flights) #you can use .gz, so better then spark sql\n",
    "header = fl.first()\n",
    "header"
   ]
  },
  {
   "cell_type": "code",
   "execution_count": null,
   "metadata": {
    "collapsed": false,
    "deletable": true,
    "editable": true
   },
   "outputs": [],
   "source": [
    "\n",
    "#Filter numeric columns in flights\n",
    "fl_filter = fl.filter(lambda row: row != header) \\\n",
    "       .map(lambda row: [int(elem) for elem in row.split(',') if (elem.isdigit() or elem.lstrip(\"-\").isdigit()) ])\n",
    "fl_filter.take(5) #.foreach(println)"
   ]
  },
  {
   "cell_type": "code",
   "execution_count": null,
   "metadata": {
    "collapsed": false,
    "deletable": true,
    "editable": true
   },
   "outputs": [],
   "source": [
    "#create schema\n",
    "fields = [ *[\n",
    "           typ.StructField(h[1:-1], typ.IntegerType(), True)\n",
    "           for h in header.split(',')\n",
    "       ]\n",
    "   ]\n",
    "schema = typ.StructType(fields)\n",
    "schema   "
   ]
  },
  {
   "cell_type": "code",
   "execution_count": null,
   "metadata": {
    "collapsed": false,
    "deletable": true,
    "editable": true
   },
   "outputs": [],
   "source": [
    "#create DF Spark\n",
    "fli_df = spark.createDataFrame(fl_filter, schema)\n",
    "fli_df.printSchema()\n",
    "#fli_df.show()"
   ]
  },
  {
   "cell_type": "code",
   "execution_count": null,
   "metadata": {
    "collapsed": true,
    "deletable": true,
    "editable": true
   },
   "outputs": [],
   "source": []
  }
 ],
 "metadata": {
  "kernelspec": {
   "display_name": "spark",
   "language": "python",
   "name": "spark"
  },
  "language_info": {
   "codemirror_mode": {
    "name": "ipython",
    "version": 3
   },
   "file_extension": ".py",
   "mimetype": "text/x-python",
   "name": "python",
   "nbconvert_exporter": "python",
   "pygments_lexer": "ipython3",
   "version": "3.5.3"
  }
 },
 "nbformat": 4,
 "nbformat_minor": 2
}
